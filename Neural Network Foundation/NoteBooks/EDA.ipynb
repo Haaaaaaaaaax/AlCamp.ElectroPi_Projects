{
 "cells": [
  {
   "cell_type": "markdown",
   "metadata": {},
   "source": [
    "## E-Commerce EDA"
   ]
  },
  {
   "cell_type": "markdown",
   "metadata": {},
   "source": [
    "**Import needed libraries**"
   ]
  },
  {
   "cell_type": "code",
   "execution_count": 1,
   "metadata": {},
   "outputs": [],
   "source": [
    "import pandas as pd\n",
    "import numpy as np\n",
    "import matplotlib.pyplot as plt\n",
    "import seaborn as sns"
   ]
  },
  {
   "cell_type": "markdown",
   "metadata": {},
   "source": [
    "**Please ignore this process, it is for local filing**"
   ]
  },
  {
   "cell_type": "code",
   "execution_count": 2,
   "metadata": {},
   "outputs": [],
   "source": [
    "import os\n",
    "os.chdir(r\"C:\\Users\\iiven\\Ai-Cursor\\Neural Network Foundation\")\n"
   ]
  },
  {
   "cell_type": "code",
   "execution_count": 7,
   "metadata": {},
   "outputs": [
    {
     "data": {
      "text/plain": [
       "'C:\\\\Users\\\\iiven\\\\Ai-Cursor\\\\Neural Network Foundation'"
      ]
     },
     "execution_count": 7,
     "metadata": {},
     "output_type": "execute_result"
    }
   ],
   "source": [
    "os.getcwd()\n"
   ]
  },
  {
   "cell_type": "markdown",
   "metadata": {},
   "source": [
    "**Reading Data**"
   ]
  },
  {
   "cell_type": "code",
   "execution_count": 13,
   "metadata": {},
   "outputs": [],
   "source": [
    "df = pd.read_csv(\"Data/E-Commerce.csv\", encoding=\"ISO-8859-1\")\n",
    "# encoding is used to avoid any encoding issues (suggested by Cursor)\n"
   ]
  },
  {
   "cell_type": "code",
   "execution_count": 15,
   "metadata": {},
   "outputs": [
    {
     "data": {
      "text/html": [
       "<div>\n",
       "<style scoped>\n",
       "    .dataframe tbody tr th:only-of-type {\n",
       "        vertical-align: middle;\n",
       "    }\n",
       "\n",
       "    .dataframe tbody tr th {\n",
       "        vertical-align: top;\n",
       "    }\n",
       "\n",
       "    .dataframe thead th {\n",
       "        text-align: right;\n",
       "    }\n",
       "</style>\n",
       "<table border=\"1\" class=\"dataframe\">\n",
       "  <thead>\n",
       "    <tr style=\"text-align: right;\">\n",
       "      <th></th>\n",
       "      <th>InvoiceNo</th>\n",
       "      <th>StockCode</th>\n",
       "      <th>Description</th>\n",
       "      <th>Quantity</th>\n",
       "      <th>InvoiceDate</th>\n",
       "      <th>UnitPrice</th>\n",
       "      <th>CustomerID</th>\n",
       "      <th>Country</th>\n",
       "    </tr>\n",
       "  </thead>\n",
       "  <tbody>\n",
       "    <tr>\n",
       "      <th>0</th>\n",
       "      <td>536365</td>\n",
       "      <td>85123A</td>\n",
       "      <td>WHITE HANGING HEART T-LIGHT HOLDER</td>\n",
       "      <td>6</td>\n",
       "      <td>12/1/2010 8:26</td>\n",
       "      <td>2.55</td>\n",
       "      <td>17850.0</td>\n",
       "      <td>United Kingdom</td>\n",
       "    </tr>\n",
       "    <tr>\n",
       "      <th>1</th>\n",
       "      <td>536365</td>\n",
       "      <td>71053</td>\n",
       "      <td>WHITE METAL LANTERN</td>\n",
       "      <td>6</td>\n",
       "      <td>12/1/2010 8:26</td>\n",
       "      <td>3.39</td>\n",
       "      <td>17850.0</td>\n",
       "      <td>United Kingdom</td>\n",
       "    </tr>\n",
       "    <tr>\n",
       "      <th>2</th>\n",
       "      <td>536365</td>\n",
       "      <td>84406B</td>\n",
       "      <td>CREAM CUPID HEARTS COAT HANGER</td>\n",
       "      <td>8</td>\n",
       "      <td>12/1/2010 8:26</td>\n",
       "      <td>2.75</td>\n",
       "      <td>17850.0</td>\n",
       "      <td>United Kingdom</td>\n",
       "    </tr>\n",
       "    <tr>\n",
       "      <th>3</th>\n",
       "      <td>536365</td>\n",
       "      <td>84029G</td>\n",
       "      <td>KNITTED UNION FLAG HOT WATER BOTTLE</td>\n",
       "      <td>6</td>\n",
       "      <td>12/1/2010 8:26</td>\n",
       "      <td>3.39</td>\n",
       "      <td>17850.0</td>\n",
       "      <td>United Kingdom</td>\n",
       "    </tr>\n",
       "    <tr>\n",
       "      <th>4</th>\n",
       "      <td>536365</td>\n",
       "      <td>84029E</td>\n",
       "      <td>RED WOOLLY HOTTIE WHITE HEART.</td>\n",
       "      <td>6</td>\n",
       "      <td>12/1/2010 8:26</td>\n",
       "      <td>3.39</td>\n",
       "      <td>17850.0</td>\n",
       "      <td>United Kingdom</td>\n",
       "    </tr>\n",
       "    <tr>\n",
       "      <th>5</th>\n",
       "      <td>536365</td>\n",
       "      <td>22752</td>\n",
       "      <td>SET 7 BABUSHKA NESTING BOXES</td>\n",
       "      <td>2</td>\n",
       "      <td>12/1/2010 8:26</td>\n",
       "      <td>7.65</td>\n",
       "      <td>17850.0</td>\n",
       "      <td>United Kingdom</td>\n",
       "    </tr>\n",
       "    <tr>\n",
       "      <th>6</th>\n",
       "      <td>536365</td>\n",
       "      <td>21730</td>\n",
       "      <td>GLASS STAR FROSTED T-LIGHT HOLDER</td>\n",
       "      <td>6</td>\n",
       "      <td>12/1/2010 8:26</td>\n",
       "      <td>4.25</td>\n",
       "      <td>17850.0</td>\n",
       "      <td>United Kingdom</td>\n",
       "    </tr>\n",
       "    <tr>\n",
       "      <th>7</th>\n",
       "      <td>536366</td>\n",
       "      <td>22633</td>\n",
       "      <td>HAND WARMER UNION JACK</td>\n",
       "      <td>6</td>\n",
       "      <td>12/1/2010 8:28</td>\n",
       "      <td>1.85</td>\n",
       "      <td>17850.0</td>\n",
       "      <td>United Kingdom</td>\n",
       "    </tr>\n",
       "    <tr>\n",
       "      <th>8</th>\n",
       "      <td>536366</td>\n",
       "      <td>22632</td>\n",
       "      <td>HAND WARMER RED POLKA DOT</td>\n",
       "      <td>6</td>\n",
       "      <td>12/1/2010 8:28</td>\n",
       "      <td>1.85</td>\n",
       "      <td>17850.0</td>\n",
       "      <td>United Kingdom</td>\n",
       "    </tr>\n",
       "    <tr>\n",
       "      <th>9</th>\n",
       "      <td>536367</td>\n",
       "      <td>84879</td>\n",
       "      <td>ASSORTED COLOUR BIRD ORNAMENT</td>\n",
       "      <td>32</td>\n",
       "      <td>12/1/2010 8:34</td>\n",
       "      <td>1.69</td>\n",
       "      <td>13047.0</td>\n",
       "      <td>United Kingdom</td>\n",
       "    </tr>\n",
       "  </tbody>\n",
       "</table>\n",
       "</div>"
      ],
      "text/plain": [
       "  InvoiceNo StockCode                          Description  Quantity  \\\n",
       "0    536365    85123A   WHITE HANGING HEART T-LIGHT HOLDER         6   \n",
       "1    536365     71053                  WHITE METAL LANTERN         6   \n",
       "2    536365    84406B       CREAM CUPID HEARTS COAT HANGER         8   \n",
       "3    536365    84029G  KNITTED UNION FLAG HOT WATER BOTTLE         6   \n",
       "4    536365    84029E       RED WOOLLY HOTTIE WHITE HEART.         6   \n",
       "5    536365     22752         SET 7 BABUSHKA NESTING BOXES         2   \n",
       "6    536365     21730    GLASS STAR FROSTED T-LIGHT HOLDER         6   \n",
       "7    536366     22633               HAND WARMER UNION JACK         6   \n",
       "8    536366     22632            HAND WARMER RED POLKA DOT         6   \n",
       "9    536367     84879        ASSORTED COLOUR BIRD ORNAMENT        32   \n",
       "\n",
       "      InvoiceDate  UnitPrice  CustomerID         Country  \n",
       "0  12/1/2010 8:26       2.55     17850.0  United Kingdom  \n",
       "1  12/1/2010 8:26       3.39     17850.0  United Kingdom  \n",
       "2  12/1/2010 8:26       2.75     17850.0  United Kingdom  \n",
       "3  12/1/2010 8:26       3.39     17850.0  United Kingdom  \n",
       "4  12/1/2010 8:26       3.39     17850.0  United Kingdom  \n",
       "5  12/1/2010 8:26       7.65     17850.0  United Kingdom  \n",
       "6  12/1/2010 8:26       4.25     17850.0  United Kingdom  \n",
       "7  12/1/2010 8:28       1.85     17850.0  United Kingdom  \n",
       "8  12/1/2010 8:28       1.85     17850.0  United Kingdom  \n",
       "9  12/1/2010 8:34       1.69     13047.0  United Kingdom  "
      ]
     },
     "execution_count": 15,
     "metadata": {},
     "output_type": "execute_result"
    }
   ],
   "source": [
    "df.head(10)"
   ]
  },
  {
   "cell_type": "code",
   "execution_count": 16,
   "metadata": {},
   "outputs": [
    {
     "name": "stdout",
     "output_type": "stream",
     "text": [
      "<class 'pandas.core.frame.DataFrame'>\n",
      "RangeIndex: 541909 entries, 0 to 541908\n",
      "Data columns (total 8 columns):\n",
      " #   Column       Non-Null Count   Dtype  \n",
      "---  ------       --------------   -----  \n",
      " 0   InvoiceNo    541909 non-null  object \n",
      " 1   StockCode    541909 non-null  object \n",
      " 2   Description  540455 non-null  object \n",
      " 3   Quantity     541909 non-null  int64  \n",
      " 4   InvoiceDate  541909 non-null  object \n",
      " 5   UnitPrice    541909 non-null  float64\n",
      " 6   CustomerID   406829 non-null  float64\n",
      " 7   Country      541909 non-null  object \n",
      "dtypes: float64(2), int64(1), object(5)\n",
      "memory usage: 33.1+ MB\n"
     ]
    }
   ],
   "source": [
    "df.info()"
   ]
  },
  {
   "cell_type": "markdown",
   "metadata": {},
   "source": [
    "**Duplicates and NaN values check**"
   ]
  },
  {
   "cell_type": "code",
   "execution_count": 18,
   "metadata": {},
   "outputs": [
    {
     "name": "stdout",
     "output_type": "stream",
     "text": [
      "5268\n"
     ]
    }
   ],
   "source": [
    "print(df.duplicated().sum())\n"
   ]
  },
  {
   "cell_type": "markdown",
   "metadata": {},
   "source": [
    "**Duplicated columns are bad to feed your model so it should be droped**"
   ]
  },
  {
   "cell_type": "code",
   "execution_count": 19,
   "metadata": {},
   "outputs": [],
   "source": [
    "df.drop_duplicates(inplace=True)\n"
   ]
  },
  {
   "cell_type": "code",
   "execution_count": 20,
   "metadata": {},
   "outputs": [
    {
     "data": {
      "text/plain": [
       "InvoiceNo           0\n",
       "StockCode           0\n",
       "Description      1454\n",
       "Quantity            0\n",
       "InvoiceDate         0\n",
       "UnitPrice           0\n",
       "CustomerID     135037\n",
       "Country             0\n",
       "dtype: int64"
      ]
     },
     "execution_count": 20,
     "metadata": {},
     "output_type": "execute_result"
    }
   ],
   "source": [
    "df.isna().sum()\n"
   ]
  },
  {
   "cell_type": "markdown",
   "metadata": {},
   "source": [
    "**CustomerID column is not important so it can be dropped as a column**"
   ]
  },
  {
   "cell_type": "code",
   "execution_count": 22,
   "metadata": {},
   "outputs": [],
   "source": [
    "df.drop(columns=[\"CustomerID\"], inplace=True)\n"
   ]
  },
  {
   "cell_type": "code",
   "execution_count": 23,
   "metadata": {},
   "outputs": [
    {
     "data": {
      "text/html": [
       "<div>\n",
       "<style scoped>\n",
       "    .dataframe tbody tr th:only-of-type {\n",
       "        vertical-align: middle;\n",
       "    }\n",
       "\n",
       "    .dataframe tbody tr th {\n",
       "        vertical-align: top;\n",
       "    }\n",
       "\n",
       "    .dataframe thead th {\n",
       "        text-align: right;\n",
       "    }\n",
       "</style>\n",
       "<table border=\"1\" class=\"dataframe\">\n",
       "  <thead>\n",
       "    <tr style=\"text-align: right;\">\n",
       "      <th></th>\n",
       "      <th>InvoiceNo</th>\n",
       "      <th>StockCode</th>\n",
       "      <th>Description</th>\n",
       "      <th>Quantity</th>\n",
       "      <th>InvoiceDate</th>\n",
       "      <th>UnitPrice</th>\n",
       "      <th>Country</th>\n",
       "    </tr>\n",
       "  </thead>\n",
       "  <tbody>\n",
       "    <tr>\n",
       "      <th>0</th>\n",
       "      <td>536365</td>\n",
       "      <td>85123A</td>\n",
       "      <td>WHITE HANGING HEART T-LIGHT HOLDER</td>\n",
       "      <td>6</td>\n",
       "      <td>12/1/2010 8:26</td>\n",
       "      <td>2.55</td>\n",
       "      <td>United Kingdom</td>\n",
       "    </tr>\n",
       "    <tr>\n",
       "      <th>1</th>\n",
       "      <td>536365</td>\n",
       "      <td>71053</td>\n",
       "      <td>WHITE METAL LANTERN</td>\n",
       "      <td>6</td>\n",
       "      <td>12/1/2010 8:26</td>\n",
       "      <td>3.39</td>\n",
       "      <td>United Kingdom</td>\n",
       "    </tr>\n",
       "    <tr>\n",
       "      <th>2</th>\n",
       "      <td>536365</td>\n",
       "      <td>84406B</td>\n",
       "      <td>CREAM CUPID HEARTS COAT HANGER</td>\n",
       "      <td>8</td>\n",
       "      <td>12/1/2010 8:26</td>\n",
       "      <td>2.75</td>\n",
       "      <td>United Kingdom</td>\n",
       "    </tr>\n",
       "    <tr>\n",
       "      <th>3</th>\n",
       "      <td>536365</td>\n",
       "      <td>84029G</td>\n",
       "      <td>KNITTED UNION FLAG HOT WATER BOTTLE</td>\n",
       "      <td>6</td>\n",
       "      <td>12/1/2010 8:26</td>\n",
       "      <td>3.39</td>\n",
       "      <td>United Kingdom</td>\n",
       "    </tr>\n",
       "    <tr>\n",
       "      <th>4</th>\n",
       "      <td>536365</td>\n",
       "      <td>84029E</td>\n",
       "      <td>RED WOOLLY HOTTIE WHITE HEART.</td>\n",
       "      <td>6</td>\n",
       "      <td>12/1/2010 8:26</td>\n",
       "      <td>3.39</td>\n",
       "      <td>United Kingdom</td>\n",
       "    </tr>\n",
       "    <tr>\n",
       "      <th>5</th>\n",
       "      <td>536365</td>\n",
       "      <td>22752</td>\n",
       "      <td>SET 7 BABUSHKA NESTING BOXES</td>\n",
       "      <td>2</td>\n",
       "      <td>12/1/2010 8:26</td>\n",
       "      <td>7.65</td>\n",
       "      <td>United Kingdom</td>\n",
       "    </tr>\n",
       "    <tr>\n",
       "      <th>6</th>\n",
       "      <td>536365</td>\n",
       "      <td>21730</td>\n",
       "      <td>GLASS STAR FROSTED T-LIGHT HOLDER</td>\n",
       "      <td>6</td>\n",
       "      <td>12/1/2010 8:26</td>\n",
       "      <td>4.25</td>\n",
       "      <td>United Kingdom</td>\n",
       "    </tr>\n",
       "    <tr>\n",
       "      <th>7</th>\n",
       "      <td>536366</td>\n",
       "      <td>22633</td>\n",
       "      <td>HAND WARMER UNION JACK</td>\n",
       "      <td>6</td>\n",
       "      <td>12/1/2010 8:28</td>\n",
       "      <td>1.85</td>\n",
       "      <td>United Kingdom</td>\n",
       "    </tr>\n",
       "    <tr>\n",
       "      <th>8</th>\n",
       "      <td>536366</td>\n",
       "      <td>22632</td>\n",
       "      <td>HAND WARMER RED POLKA DOT</td>\n",
       "      <td>6</td>\n",
       "      <td>12/1/2010 8:28</td>\n",
       "      <td>1.85</td>\n",
       "      <td>United Kingdom</td>\n",
       "    </tr>\n",
       "    <tr>\n",
       "      <th>9</th>\n",
       "      <td>536367</td>\n",
       "      <td>84879</td>\n",
       "      <td>ASSORTED COLOUR BIRD ORNAMENT</td>\n",
       "      <td>32</td>\n",
       "      <td>12/1/2010 8:34</td>\n",
       "      <td>1.69</td>\n",
       "      <td>United Kingdom</td>\n",
       "    </tr>\n",
       "  </tbody>\n",
       "</table>\n",
       "</div>"
      ],
      "text/plain": [
       "  InvoiceNo StockCode                          Description  Quantity  \\\n",
       "0    536365    85123A   WHITE HANGING HEART T-LIGHT HOLDER         6   \n",
       "1    536365     71053                  WHITE METAL LANTERN         6   \n",
       "2    536365    84406B       CREAM CUPID HEARTS COAT HANGER         8   \n",
       "3    536365    84029G  KNITTED UNION FLAG HOT WATER BOTTLE         6   \n",
       "4    536365    84029E       RED WOOLLY HOTTIE WHITE HEART.         6   \n",
       "5    536365     22752         SET 7 BABUSHKA NESTING BOXES         2   \n",
       "6    536365     21730    GLASS STAR FROSTED T-LIGHT HOLDER         6   \n",
       "7    536366     22633               HAND WARMER UNION JACK         6   \n",
       "8    536366     22632            HAND WARMER RED POLKA DOT         6   \n",
       "9    536367     84879        ASSORTED COLOUR BIRD ORNAMENT        32   \n",
       "\n",
       "      InvoiceDate  UnitPrice         Country  \n",
       "0  12/1/2010 8:26       2.55  United Kingdom  \n",
       "1  12/1/2010 8:26       3.39  United Kingdom  \n",
       "2  12/1/2010 8:26       2.75  United Kingdom  \n",
       "3  12/1/2010 8:26       3.39  United Kingdom  \n",
       "4  12/1/2010 8:26       3.39  United Kingdom  \n",
       "5  12/1/2010 8:26       7.65  United Kingdom  \n",
       "6  12/1/2010 8:26       4.25  United Kingdom  \n",
       "7  12/1/2010 8:28       1.85  United Kingdom  \n",
       "8  12/1/2010 8:28       1.85  United Kingdom  \n",
       "9  12/1/2010 8:34       1.69  United Kingdom  "
      ]
     },
     "execution_count": 23,
     "metadata": {},
     "output_type": "execute_result"
    }
   ],
   "source": [
    "df.head(10)\n"
   ]
  },
  {
   "cell_type": "code",
   "execution_count": 24,
   "metadata": {},
   "outputs": [
    {
     "data": {
      "text/plain": [
       "536641"
      ]
     },
     "execution_count": 24,
     "metadata": {},
     "output_type": "execute_result"
    }
   ],
   "source": [
    "df.shape[0]"
   ]
  },
  {
   "cell_type": "code",
   "execution_count": 28,
   "metadata": {},
   "outputs": [
    {
     "name": "stdout",
     "output_type": "stream",
     "text": [
      "0.2709446352403189\n"
     ]
    }
   ],
   "source": [
    "print(df['Description'].isna().mean() * 100)\n"
   ]
  },
  {
   "cell_type": "markdown",
   "metadata": {},
   "source": [
    "**NaN values in Description is bad for model and we can safely drop them because the data is big enough**"
   ]
  },
  {
   "cell_type": "code",
   "execution_count": 29,
   "metadata": {},
   "outputs": [],
   "source": [
    "df.dropna(subset=[\"Description\"], inplace=True)\n"
   ]
  },
  {
   "cell_type": "code",
   "execution_count": 30,
   "metadata": {},
   "outputs": [
    {
     "data": {
      "text/plain": [
       "InvoiceNo      0\n",
       "StockCode      0\n",
       "Description    0\n",
       "Quantity       0\n",
       "InvoiceDate    0\n",
       "UnitPrice      0\n",
       "Country        0\n",
       "dtype: int64"
      ]
     },
     "execution_count": 30,
     "metadata": {},
     "output_type": "execute_result"
    }
   ],
   "source": [
    "df.isna().sum()\n"
   ]
  },
  {
   "cell_type": "code",
   "execution_count": 31,
   "metadata": {},
   "outputs": [
    {
     "data": {
      "text/plain": [
       "Index(['InvoiceNo', 'StockCode', 'Description', 'Quantity', 'InvoiceDate',\n",
       "       'UnitPrice', 'Country'],\n",
       "      dtype='object')"
      ]
     },
     "execution_count": 31,
     "metadata": {},
     "output_type": "execute_result"
    }
   ],
   "source": [
    "df.columns\n"
   ]
  },
  {
   "cell_type": "markdown",
   "metadata": {},
   "source": [
    "**Features like InvoiceNo, StockCode and InvoiceDate are not important so it can be safely removed**"
   ]
  },
  {
   "cell_type": "code",
   "execution_count": 32,
   "metadata": {},
   "outputs": [],
   "source": [
    "cols_to_drop = [\"InvoiceNo\", \"StockCode\", \"InvoiceDate\"]\n",
    "df.drop(columns=cols_to_drop, inplace=True)\n"
   ]
  },
  {
   "cell_type": "code",
   "execution_count": 33,
   "metadata": {},
   "outputs": [
    {
     "data": {
      "text/html": [
       "<div>\n",
       "<style scoped>\n",
       "    .dataframe tbody tr th:only-of-type {\n",
       "        vertical-align: middle;\n",
       "    }\n",
       "\n",
       "    .dataframe tbody tr th {\n",
       "        vertical-align: top;\n",
       "    }\n",
       "\n",
       "    .dataframe thead th {\n",
       "        text-align: right;\n",
       "    }\n",
       "</style>\n",
       "<table border=\"1\" class=\"dataframe\">\n",
       "  <thead>\n",
       "    <tr style=\"text-align: right;\">\n",
       "      <th></th>\n",
       "      <th>Description</th>\n",
       "      <th>Quantity</th>\n",
       "      <th>UnitPrice</th>\n",
       "      <th>Country</th>\n",
       "    </tr>\n",
       "  </thead>\n",
       "  <tbody>\n",
       "    <tr>\n",
       "      <th>0</th>\n",
       "      <td>WHITE HANGING HEART T-LIGHT HOLDER</td>\n",
       "      <td>6</td>\n",
       "      <td>2.55</td>\n",
       "      <td>United Kingdom</td>\n",
       "    </tr>\n",
       "    <tr>\n",
       "      <th>1</th>\n",
       "      <td>WHITE METAL LANTERN</td>\n",
       "      <td>6</td>\n",
       "      <td>3.39</td>\n",
       "      <td>United Kingdom</td>\n",
       "    </tr>\n",
       "    <tr>\n",
       "      <th>2</th>\n",
       "      <td>CREAM CUPID HEARTS COAT HANGER</td>\n",
       "      <td>8</td>\n",
       "      <td>2.75</td>\n",
       "      <td>United Kingdom</td>\n",
       "    </tr>\n",
       "    <tr>\n",
       "      <th>3</th>\n",
       "      <td>KNITTED UNION FLAG HOT WATER BOTTLE</td>\n",
       "      <td>6</td>\n",
       "      <td>3.39</td>\n",
       "      <td>United Kingdom</td>\n",
       "    </tr>\n",
       "    <tr>\n",
       "      <th>4</th>\n",
       "      <td>RED WOOLLY HOTTIE WHITE HEART.</td>\n",
       "      <td>6</td>\n",
       "      <td>3.39</td>\n",
       "      <td>United Kingdom</td>\n",
       "    </tr>\n",
       "    <tr>\n",
       "      <th>5</th>\n",
       "      <td>SET 7 BABUSHKA NESTING BOXES</td>\n",
       "      <td>2</td>\n",
       "      <td>7.65</td>\n",
       "      <td>United Kingdom</td>\n",
       "    </tr>\n",
       "    <tr>\n",
       "      <th>6</th>\n",
       "      <td>GLASS STAR FROSTED T-LIGHT HOLDER</td>\n",
       "      <td>6</td>\n",
       "      <td>4.25</td>\n",
       "      <td>United Kingdom</td>\n",
       "    </tr>\n",
       "    <tr>\n",
       "      <th>7</th>\n",
       "      <td>HAND WARMER UNION JACK</td>\n",
       "      <td>6</td>\n",
       "      <td>1.85</td>\n",
       "      <td>United Kingdom</td>\n",
       "    </tr>\n",
       "    <tr>\n",
       "      <th>8</th>\n",
       "      <td>HAND WARMER RED POLKA DOT</td>\n",
       "      <td>6</td>\n",
       "      <td>1.85</td>\n",
       "      <td>United Kingdom</td>\n",
       "    </tr>\n",
       "    <tr>\n",
       "      <th>9</th>\n",
       "      <td>ASSORTED COLOUR BIRD ORNAMENT</td>\n",
       "      <td>32</td>\n",
       "      <td>1.69</td>\n",
       "      <td>United Kingdom</td>\n",
       "    </tr>\n",
       "  </tbody>\n",
       "</table>\n",
       "</div>"
      ],
      "text/plain": [
       "                           Description  Quantity  UnitPrice         Country\n",
       "0   WHITE HANGING HEART T-LIGHT HOLDER         6       2.55  United Kingdom\n",
       "1                  WHITE METAL LANTERN         6       3.39  United Kingdom\n",
       "2       CREAM CUPID HEARTS COAT HANGER         8       2.75  United Kingdom\n",
       "3  KNITTED UNION FLAG HOT WATER BOTTLE         6       3.39  United Kingdom\n",
       "4       RED WOOLLY HOTTIE WHITE HEART.         6       3.39  United Kingdom\n",
       "5         SET 7 BABUSHKA NESTING BOXES         2       7.65  United Kingdom\n",
       "6    GLASS STAR FROSTED T-LIGHT HOLDER         6       4.25  United Kingdom\n",
       "7               HAND WARMER UNION JACK         6       1.85  United Kingdom\n",
       "8            HAND WARMER RED POLKA DOT         6       1.85  United Kingdom\n",
       "9        ASSORTED COLOUR BIRD ORNAMENT        32       1.69  United Kingdom"
      ]
     },
     "execution_count": 33,
     "metadata": {},
     "output_type": "execute_result"
    }
   ],
   "source": [
    "df.head(10)\n"
   ]
  },
  {
   "cell_type": "markdown",
   "metadata": {},
   "source": [
    "## EDA"
   ]
  },
  {
   "cell_type": "markdown",
   "metadata": {},
   "source": [
    "**First we analyse Description column**"
   ]
  },
  {
   "cell_type": "code",
   "execution_count": 34,
   "metadata": {},
   "outputs": [
    {
     "data": {
      "text/plain": [
       "4223"
      ]
     },
     "execution_count": 34,
     "metadata": {},
     "output_type": "execute_result"
    }
   ],
   "source": [
    "df['Description'].nunique()\n"
   ]
  },
  {
   "cell_type": "code",
   "execution_count": 38,
   "metadata": {},
   "outputs": [
    {
     "data": {
      "text/plain": [
       "Description\n",
       "WHITE HANGING HEART T-LIGHT HOLDER    2357\n",
       "REGENCY CAKESTAND 3 TIER              2189\n",
       "JUMBO BAG RED RETROSPOT               2156\n",
       "PARTY BUNTING                         1720\n",
       "LUNCH BAG RED RETROSPOT               1625\n",
       "                                      ... \n",
       "LIGHT DECORATION BATTERY OPERATED        1\n",
       "RUBY GLASS CLUSTER NECKLACE              1\n",
       "ANT SILVER TURQUOISE BOUDICCA RING       1\n",
       "water damaged                            1\n",
       "SET 10 CARDS SNOWY ROBIN 17099           1\n",
       "Name: count, Length: 4223, dtype: int64"
      ]
     },
     "execution_count": 38,
     "metadata": {},
     "output_type": "execute_result"
    }
   ],
   "source": [
    "df['Description'].value_counts()"
   ]
  },
  {
   "cell_type": "code",
   "execution_count": 37,
   "metadata": {},
   "outputs": [
    {
     "data": {
      "text/plain": [
       "np.int64(37)"
      ]
     },
     "execution_count": 37,
     "metadata": {},
     "output_type": "execute_result"
    }
   ],
   "source": [
    "(df['Description'].value_counts() > 1000).sum()\n"
   ]
  },
  {
   "cell_type": "markdown",
   "metadata": {},
   "source": [
    "**I will make a pie chart for the top 10 frequently ordered food**"
   ]
  },
  {
   "cell_type": "code",
   "execution_count": 42,
   "metadata": {},
   "outputs": [],
   "source": [
    "top_15_food = df['Description'].value_counts().head(15)\n"
   ]
  },
  {
   "cell_type": "code",
   "execution_count": 48,
   "metadata": {},
   "outputs": [
    {
     "data": {
      "image/png": "[encoded data removed]",
      "text/plain": [
       "<Figure size 1500x1000 with 1 Axes>"
      ]
     },
     "metadata": {},
     "output_type": "display_data"
    }
   ],
   "source": [
    "plt.figure(figsize=(15, 10))\n",
    "plt.pie(top_15_food, autopct='%1.1f%%', labels=top_15_food.index, explode=[0.2 , 0, 0, 0, 0, 0, 0, 0, 0, 0, 0, 0, 0, 0, 0])\n",
    "plt.title(\"Top 15 Frequently Ordered Food\")\n",
    "plt.show()\n",
    "\n",
    "\n"
   ]
  },
  {
   "cell_type": "markdown",
   "metadata": {},
   "source": [
    "**We can see that the most oredered item is WHITE HANGING HEART T-LIGHT HOLDER**\n",
    "\n",
    "**This is the picture from the internet**"
   ]
  },
  {
   "cell_type": "markdown",
   "metadata": {},
   "source": [
    "![Pic](https://m.media-amazon.com/images/I/615AibHrRDL._AC_SX679_.jpg)\n"
   ]
  },
  {
   "cell_type": "markdown",
   "metadata": {},
   "source": [
    "**Quantity column**"
   ]
  },
  {
   "cell_type": "code",
   "execution_count": 49,
   "metadata": {},
   "outputs": [
    {
     "data": {
      "text/plain": [
       "count    535187.000000\n",
       "mean          9.671593\n",
       "std         219.059056\n",
       "min      -80995.000000\n",
       "25%           1.000000\n",
       "50%           3.000000\n",
       "75%          10.000000\n",
       "max       80995.000000\n",
       "Name: Quantity, dtype: float64"
      ]
     },
     "execution_count": 49,
     "metadata": {},
     "output_type": "execute_result"
    }
   ],
   "source": [
    "df['Quantity'].describe()\n"
   ]
  },
  {
   "cell_type": "markdown",
   "metadata": {},
   "source": [
    "**The min is really negative number and the third quartile is 10 with the max being a really big number**<br>\n",
    "**Data definately contains outliers**"
   ]
  },
  {
   "cell_type": "code",
   "execution_count": 59,
   "metadata": {},
   "outputs": [
    {
     "data": {
      "image/png": "[encoded data removed]",
      "text/plain": [
       "<Figure size 1500x1000 with 1 Axes>"
      ]
     },
     "metadata": {},
     "output_type": "display_data"
    }
   ],
   "source": [
    "plt.figure(figsize=(15, 10))\n",
    "plt.boxplot(df['Quantity'])\n",
    "plt.title(\"Quantity Boxplot\")\n",
    "plt.ylabel(\"Frequency\")\n",
    "plt.xticks([1], [\"Quantity\"])\n",
    "plt.show()\n"
   ]
  },
  {
   "cell_type": "markdown",
   "metadata": {},
   "source": [
    "**Outliers in this data is really bad and will take some work to handle**"
   ]
  },
  {
   "cell_type": "code",
   "execution_count": 63,
   "metadata": {},
   "outputs": [
    {
     "data": {
      "text/plain": [
       "(np.float64(9.0), np.float64(-12.5), np.float64(23.5))"
      ]
     },
     "execution_count": 63,
     "metadata": {},
     "output_type": "execute_result"
    }
   ],
   "source": [
    "# let's compute IQR\n",
    "Q1 = df['Quantity'].quantile(0.25)\n",
    "Q3 = df['Quantity'].quantile(0.75)\n",
    "IQR = Q3 - Q1\n",
    "\n",
    "# let's compute the lower and upper bounds\n",
    "lower_bound = Q1 - 1.5 * IQR\n",
    "upper_bound = Q3 + 1.5 * IQR\n",
    "\n",
    "IQR, lower_bound, upper_bound\n"
   ]
  },
  {
   "cell_type": "code",
   "execution_count": 66,
   "metadata": {},
   "outputs": [],
   "source": [
    "# outliers\n",
    "quantity_outliers = df[(df['Quantity'] < lower_bound) | (df['Quantity'] > upper_bound)]"
   ]
  },
  {
   "cell_type": "code",
   "execution_count": 67,
   "metadata": {},
   "outputs": [
    {
     "data": {
      "text/plain": [
       "57849"
      ]
     },
     "execution_count": 67,
     "metadata": {},
     "output_type": "execute_result"
    }
   ],
   "source": [
    "quantity_outliers.shape[0]"
   ]
  },
  {
   "cell_type": "code",
   "execution_count": 65,
   "metadata": {},
   "outputs": [
    {
     "data": {
      "text/plain": [
       "535187"
      ]
     },
     "execution_count": 65,
     "metadata": {},
     "output_type": "execute_result"
    }
   ],
   "source": [
    "df.shape[0]\n"
   ]
  },
  {
   "cell_type": "code",
   "execution_count": 68,
   "metadata": {},
   "outputs": [
    {
     "data": {
      "text/plain": [
       "10.809119055582443"
      ]
     },
     "execution_count": 68,
     "metadata": {},
     "output_type": "execute_result"
    }
   ],
   "source": [
    "quantity_outliers.shape[0] / df.shape[0] * 100\n"
   ]
  },
  {
   "cell_type": "markdown",
   "metadata": {},
   "source": [
    "**We definately should remove those outliers**"
   ]
  },
  {
   "cell_type": "code",
   "execution_count": 69,
   "metadata": {},
   "outputs": [],
   "source": [
    "cleaned_df = df[~((df['Quantity'] < lower_bound) | (df['Quantity'] > upper_bound))]\n"
   ]
  },
  {
   "cell_type": "code",
   "execution_count": 70,
   "metadata": {},
   "outputs": [
    {
     "data": {
      "text/plain": [
       "477338"
      ]
     },
     "execution_count": 70,
     "metadata": {},
     "output_type": "execute_result"
    }
   ],
   "source": [
    "cleaned_df.shape[0]\n"
   ]
  },
  {
   "cell_type": "code",
   "execution_count": 71,
   "metadata": {},
   "outputs": [
    {
     "data": {
      "text/plain": [
       "477338"
      ]
     },
     "execution_count": 71,
     "metadata": {},
     "output_type": "execute_result"
    }
   ],
   "source": [
    "df.shape[0] - quantity_outliers.shape[0]"
   ]
  },
  {
   "cell_type": "markdown",
   "metadata": {},
   "source": [
    "**Outliers are removed correctly**"
   ]
  },
  {
   "cell_type": "code",
   "execution_count": 72,
   "metadata": {},
   "outputs": [
    {
     "data": {
      "image/png": "[encoded data removed]",
      "text/plain": [
       "<Figure size 1500x1000 with 1 Axes>"
      ]
     },
     "metadata": {},
     "output_type": "display_data"
    }
   ],
   "source": [
    "plt.figure(figsize=(15, 10))\n",
    "plt.boxplot(cleaned_df['Quantity'])\n",
    "plt.title(\"Quantity Boxplot\")\n",
    "plt.ylabel(\"Frequency\")\n",
    "plt.xticks([1], [\"Quantity\"])\n",
    "plt.show()\n",
    "\n"
   ]
  },
  {
   "cell_type": "markdown",
   "metadata": {},
   "source": [
    "**The outliers shown is an error with calculation of python not the actual formula**"
   ]
  },
  {
   "cell_type": "code",
   "execution_count": 82,
   "metadata": {},
   "outputs": [
    {
     "data": {
      "text/plain": [
       "8239"
      ]
     },
     "execution_count": 82,
     "metadata": {},
     "output_type": "execute_result"
    }
   ],
   "source": [
    "len(cleaned_df[cleaned_df['Quantity'] < 0])"
   ]
  },
  {
   "cell_type": "markdown",
   "metadata": {},
   "source": [
    "**We can just make these numbers positive**"
   ]
  },
  {
   "cell_type": "code",
   "execution_count": 83,
   "metadata": {},
   "outputs": [
    {
     "name": "stderr",
     "output_type": "stream",
     "text": [
      "C:\\Users\\iiven\\AppData\\Local\\Temp\\ipykernel_23464\\3995814556.py:1: SettingWithCopyWarning: \n",
      "A value is trying to be set on a copy of a slice from a DataFrame.\n",
      "Try using .loc[row_indexer,col_indexer] = value instead\n",
      "\n",
      "See the caveats in the documentation: https://pandas.pydata.org/pandas-docs/stable/user_guide/indexing.html#returning-a-view-versus-a-copy\n",
      "  cleaned_df['Quantity'] = cleaned_df['Quantity'].abs()\n"
     ]
    }
   ],
   "source": [
    "cleaned_df['Quantity'] = cleaned_df['Quantity'].abs()\n"
   ]
  },
  {
   "cell_type": "code",
   "execution_count": 84,
   "metadata": {},
   "outputs": [
    {
     "data": {
      "text/plain": [
       "0"
      ]
     },
     "execution_count": 84,
     "metadata": {},
     "output_type": "execute_result"
    }
   ],
   "source": [
    "len(cleaned_df[cleaned_df['Quantity'] < 0])"
   ]
  },
  {
   "cell_type": "code",
   "execution_count": 85,
   "metadata": {},
   "outputs": [
    {
     "data": {
      "image/png": "[encoded data removed]",
      "text/plain": [
       "<Figure size 1500x1000 with 1 Axes>"
      ]
     },
     "metadata": {},
     "output_type": "display_data"
    }
   ],
   "source": [
    "plt.figure(figsize=(15, 10))\n",
    "plt.boxplot(cleaned_df['Quantity'])\n",
    "plt.title(\"Quantity Boxplot\")\n",
    "plt.ylabel(\"Frequency\")\n",
    "plt.xticks([1], [\"Quantity\"])\n",
    "plt.show()\n",
    "\n"
   ]
  },
  {
   "cell_type": "markdown",
   "metadata": {},
   "source": [
    "**UnitPrice column**"
   ]
  },
  {
   "cell_type": "code",
   "execution_count": 86,
   "metadata": {},
   "outputs": [
    {
     "data": {
      "text/plain": [
       "count    477338.000000\n",
       "mean          5.049509\n",
       "std         103.083146\n",
       "min      -11062.060000\n",
       "25%           1.250000\n",
       "50%           2.460000\n",
       "75%           4.210000\n",
       "max       38970.000000\n",
       "Name: UnitPrice, dtype: float64"
      ]
     },
     "execution_count": 86,
     "metadata": {},
     "output_type": "execute_result"
    }
   ],
   "source": [
    "cleaned_df['UnitPrice'].describe()\n"
   ]
  },
  {
   "cell_type": "markdown",
   "metadata": {},
   "source": [
    "**Again we see outliers**"
   ]
  },
  {
   "cell_type": "code",
   "execution_count": 87,
   "metadata": {},
   "outputs": [
    {
     "data": {
      "image/png": "[encoded data removed]",
      "text/plain": [
       "<Figure size 1500x1000 with 1 Axes>"
      ]
     },
     "metadata": {},
     "output_type": "display_data"
    }
   ],
   "source": [
    "plt.figure(figsize=(15, 10))\n",
    "plt.boxplot(cleaned_df['UnitPrice'])\n",
    "plt.title(\"UnitPrice Boxplot\")\n",
    "plt.ylabel(\"Frequency\")\n",
    "plt.xticks([1], [\"UnitPrice\"])\n",
    "plt.show()\n",
    "\n"
   ]
  },
  {
   "cell_type": "code",
   "execution_count": 88,
   "metadata": {},
   "outputs": [
    {
     "data": {
      "text/plain": [
       "(np.float64(2.96),\n",
       " np.float64(-3.1899999999999995),\n",
       " np.float64(8.649999999999999))"
      ]
     },
     "execution_count": 88,
     "metadata": {},
     "output_type": "execute_result"
    }
   ],
   "source": [
    "Q1 = cleaned_df['UnitPrice'].quantile(0.25)\n",
    "Q3 = cleaned_df['UnitPrice'].quantile(0.75)\n",
    "IQR = Q3 - Q1\n",
    "\n",
    "lower_bound = Q1 - 1.5 * IQR\n",
    "upper_bound = Q3 + 1.5 * IQR\n",
    "\n",
    "IQR, lower_bound, upper_bound\n"
   ]
  },
  {
   "cell_type": "code",
   "execution_count": 89,
   "metadata": {},
   "outputs": [],
   "source": [
    "price_outliers = cleaned_df[(cleaned_df['UnitPrice'] < lower_bound) | (cleaned_df['UnitPrice'] > upper_bound)]\n"
   ]
  },
  {
   "cell_type": "code",
   "execution_count": 90,
   "metadata": {},
   "outputs": [
    {
     "data": {
      "text/plain": [
       "32348"
      ]
     },
     "execution_count": 90,
     "metadata": {},
     "output_type": "execute_result"
    }
   ],
   "source": [
    "price_outliers.shape[0]\n"
   ]
  },
  {
   "cell_type": "markdown",
   "metadata": {},
   "source": [
    "**Again we will remove outliers**"
   ]
  },
  {
   "cell_type": "code",
   "execution_count": 91,
   "metadata": {},
   "outputs": [],
   "source": [
    "cleaned_df2 = cleaned_df[~((cleaned_df['UnitPrice'] < lower_bound) | (cleaned_df['UnitPrice'] > upper_bound))]\n"
   ]
  },
  {
   "cell_type": "code",
   "execution_count": 92,
   "metadata": {},
   "outputs": [
    {
     "data": {
      "text/plain": [
       "444990"
      ]
     },
     "execution_count": 92,
     "metadata": {},
     "output_type": "execute_result"
    }
   ],
   "source": [
    "cleaned_df2.shape[0]\n"
   ]
  },
  {
   "cell_type": "code",
   "execution_count": 94,
   "metadata": {},
   "outputs": [
    {
     "data": {
      "text/plain": [
       "0"
      ]
     },
     "execution_count": 94,
     "metadata": {},
     "output_type": "execute_result"
    }
   ],
   "source": [
    "len(cleaned_df2[cleaned_df2['UnitPrice'] < 0])\n"
   ]
  },
  {
   "cell_type": "code",
   "execution_count": 96,
   "metadata": {},
   "outputs": [
    {
     "data": {
      "image/png": "[encoded data removed]",
      "text/plain": [
       "<Figure size 1500x1000 with 1 Axes>"
      ]
     },
     "metadata": {},
     "output_type": "display_data"
    }
   ],
   "source": [
    "plt.figure(figsize=(15, 10))\n",
    "plt.boxplot(cleaned_df2['UnitPrice'])\n",
    "plt.title(\"UnitPrice Boxplot\")\n",
    "plt.ylabel(\"Frequency\")\n",
    "plt.xticks([1], [\"UnitPrice\"])\n",
    "plt.show()\n",
    "\n"
   ]
  },
  {
   "cell_type": "markdown",
   "metadata": {},
   "source": [
    "**We are good now**"
   ]
  },
  {
   "cell_type": "markdown",
   "metadata": {},
   "source": [
    "**Country column**"
   ]
  },
  {
   "cell_type": "code",
   "execution_count": 100,
   "metadata": {},
   "outputs": [
    {
     "data": {
      "text/plain": [
       "38"
      ]
     },
     "execution_count": 100,
     "metadata": {},
     "output_type": "execute_result"
    }
   ],
   "source": [
    "cleaned_df2['Country'].nunique()\n"
   ]
  },
  {
   "cell_type": "code",
   "execution_count": 101,
   "metadata": {},
   "outputs": [
    {
     "data": {
      "text/plain": [
       "Country\n",
       "United Kingdom          412540\n",
       "Germany                   7185\n",
       "France                    6458\n",
       "EIRE                      5795\n",
       "Spain                     1937\n",
       "Belgium                   1594\n",
       "Switzerland               1405\n",
       "Portugal                  1234\n",
       "Norway                     692\n",
       "Italy                      639\n",
       "Channel Islands            559\n",
       "Australia                  541\n",
       "Netherlands                529\n",
       "Cyprus                     486\n",
       "Finland                    484\n",
       "Unspecified                367\n",
       "Austria                    322\n",
       "Poland                     267\n",
       "USA                        216\n",
       "Denmark                    211\n",
       "Sweden                     203\n",
       "Israel                     189\n",
       "Hong Kong                  173\n",
       "Iceland                    141\n",
       "Singapore                  127\n",
       "Greece                     121\n",
       "Japan                      115\n",
       "Canada                     106\n",
       "Malta                       97\n",
       "RSA                         51\n",
       "United Arab Emirates        49\n",
       "European Community          47\n",
       "Lebanon                     36\n",
       "Lithuania                   24\n",
       "Brazil                      23\n",
       "Saudi Arabia                10\n",
       "Bahrain                     10\n",
       "Czech Republic               7\n",
       "Name: count, dtype: int64"
      ]
     },
     "execution_count": 101,
     "metadata": {},
     "output_type": "execute_result"
    }
   ],
   "source": [
    "cleaned_df2['Country'].value_counts()\n"
   ]
  },
  {
   "cell_type": "code",
   "execution_count": 107,
   "metadata": {},
   "outputs": [
    {
     "data": {
      "text/plain": [
       "array([412540,   7185,   6458,   5795,   1937,   1594,   1405,   1234,\n",
       "          692,    639,    559,    541,    529,    486,    484,    367,\n",
       "          322,    267,    216,    211,    203,    189,    173,    141,\n",
       "          127,    121,    115,    106,     97,     51,     49,     47,\n",
       "           36,     24,     23,     10,     10,      7])"
      ]
     },
     "execution_count": 107,
     "metadata": {},
     "output_type": "execute_result"
    }
   ],
   "source": [
    "cleaned_df2['Country'].value_counts().values"
   ]
  },
  {
   "cell_type": "code",
   "execution_count": 117,
   "metadata": {},
   "outputs": [],
   "source": [
    "threshold = 1500\n",
    "dummy_df = cleaned_df2['Country'].value_counts()\n",
    "major_countries = dummy_df[dummy_df >= threshold]\n",
    "\n",
    "other = dummy_df[dummy_df < threshold].sum()\n",
    "\n",
    "final = major_countries.copy()\n",
    "final[\"other\"] = other\n"
   ]
  },
  {
   "cell_type": "code",
   "execution_count": 118,
   "metadata": {},
   "outputs": [
    {
     "data": {
      "text/plain": [
       "Country\n",
       "United Kingdom    412540\n",
       "Germany             7185\n",
       "France              6458\n",
       "EIRE                5795\n",
       "Spain               1937\n",
       "Belgium             1594\n",
       "other               9481\n",
       "Name: count, dtype: int64"
      ]
     },
     "execution_count": 118,
     "metadata": {},
     "output_type": "execute_result"
    }
   ],
   "source": [
    "final"
   ]
  },
  {
   "cell_type": "code",
   "execution_count": 119,
   "metadata": {},
   "outputs": [
    {
     "data": {
      "image/png": "[encoded data removed]",
      "text/plain": [
       "<Figure size 1500x1000 with 1 Axes>"
      ]
     },
     "metadata": {},
     "output_type": "display_data"
    }
   ],
   "source": [
    "plt.figure(figsize=(15, 10))\n",
    "plt.pie(final, autopct='%1.1f%%', labels=final.index)\n",
    "plt.title(\"Country Bar Chart\")\n",
    "plt.xlabel(\"Country\")\n",
    "plt.ylabel(\"Frequency\")\n",
    "plt.show()\n",
    "\n"
   ]
  },
  {
   "cell_type": "markdown",
   "metadata": {},
   "source": [
    "**Most of the orders are from United Kingdom**"
   ]
  },
  {
   "cell_type": "code",
   "execution_count": 120,
   "metadata": {},
   "outputs": [],
   "source": [
    "final_df = cleaned_df2.copy()\n"
   ]
  },
  {
   "cell_type": "code",
   "execution_count": 121,
   "metadata": {},
   "outputs": [
    {
     "data": {
      "text/plain": [
       "(444990, 4)"
      ]
     },
     "execution_count": 121,
     "metadata": {},
     "output_type": "execute_result"
    }
   ],
   "source": [
    "final_df.shape"
   ]
  },
  {
   "cell_type": "code",
   "execution_count": 122,
   "metadata": {},
   "outputs": [
    {
     "data": {
      "text/html": [
       "<div>\n",
       "<style scoped>\n",
       "    .dataframe tbody tr th:only-of-type {\n",
       "        vertical-align: middle;\n",
       "    }\n",
       "\n",
       "    .dataframe tbody tr th {\n",
       "        vertical-align: top;\n",
       "    }\n",
       "\n",
       "    .dataframe thead th {\n",
       "        text-align: right;\n",
       "    }\n",
       "</style>\n",
       "<table border=\"1\" class=\"dataframe\">\n",
       "  <thead>\n",
       "    <tr style=\"text-align: right;\">\n",
       "      <th></th>\n",
       "      <th>Description</th>\n",
       "      <th>Quantity</th>\n",
       "      <th>UnitPrice</th>\n",
       "      <th>Country</th>\n",
       "    </tr>\n",
       "  </thead>\n",
       "  <tbody>\n",
       "    <tr>\n",
       "      <th>0</th>\n",
       "      <td>WHITE HANGING HEART T-LIGHT HOLDER</td>\n",
       "      <td>6</td>\n",
       "      <td>2.55</td>\n",
       "      <td>United Kingdom</td>\n",
       "    </tr>\n",
       "    <tr>\n",
       "      <th>1</th>\n",
       "      <td>WHITE METAL LANTERN</td>\n",
       "      <td>6</td>\n",
       "      <td>3.39</td>\n",
       "      <td>United Kingdom</td>\n",
       "    </tr>\n",
       "    <tr>\n",
       "      <th>2</th>\n",
       "      <td>CREAM CUPID HEARTS COAT HANGER</td>\n",
       "      <td>8</td>\n",
       "      <td>2.75</td>\n",
       "      <td>United Kingdom</td>\n",
       "    </tr>\n",
       "    <tr>\n",
       "      <th>3</th>\n",
       "      <td>KNITTED UNION FLAG HOT WATER BOTTLE</td>\n",
       "      <td>6</td>\n",
       "      <td>3.39</td>\n",
       "      <td>United Kingdom</td>\n",
       "    </tr>\n",
       "    <tr>\n",
       "      <th>4</th>\n",
       "      <td>RED WOOLLY HOTTIE WHITE HEART.</td>\n",
       "      <td>6</td>\n",
       "      <td>3.39</td>\n",
       "      <td>United Kingdom</td>\n",
       "    </tr>\n",
       "    <tr>\n",
       "      <th>5</th>\n",
       "      <td>SET 7 BABUSHKA NESTING BOXES</td>\n",
       "      <td>2</td>\n",
       "      <td>7.65</td>\n",
       "      <td>United Kingdom</td>\n",
       "    </tr>\n",
       "    <tr>\n",
       "      <th>6</th>\n",
       "      <td>GLASS STAR FROSTED T-LIGHT HOLDER</td>\n",
       "      <td>6</td>\n",
       "      <td>4.25</td>\n",
       "      <td>United Kingdom</td>\n",
       "    </tr>\n",
       "    <tr>\n",
       "      <th>7</th>\n",
       "      <td>HAND WARMER UNION JACK</td>\n",
       "      <td>6</td>\n",
       "      <td>1.85</td>\n",
       "      <td>United Kingdom</td>\n",
       "    </tr>\n",
       "    <tr>\n",
       "      <th>8</th>\n",
       "      <td>HAND WARMER RED POLKA DOT</td>\n",
       "      <td>6</td>\n",
       "      <td>1.85</td>\n",
       "      <td>United Kingdom</td>\n",
       "    </tr>\n",
       "    <tr>\n",
       "      <th>10</th>\n",
       "      <td>POPPY'S PLAYHOUSE BEDROOM</td>\n",
       "      <td>6</td>\n",
       "      <td>2.10</td>\n",
       "      <td>United Kingdom</td>\n",
       "    </tr>\n",
       "  </tbody>\n",
       "</table>\n",
       "</div>"
      ],
      "text/plain": [
       "                            Description  Quantity  UnitPrice         Country\n",
       "0    WHITE HANGING HEART T-LIGHT HOLDER         6       2.55  United Kingdom\n",
       "1                   WHITE METAL LANTERN         6       3.39  United Kingdom\n",
       "2        CREAM CUPID HEARTS COAT HANGER         8       2.75  United Kingdom\n",
       "3   KNITTED UNION FLAG HOT WATER BOTTLE         6       3.39  United Kingdom\n",
       "4        RED WOOLLY HOTTIE WHITE HEART.         6       3.39  United Kingdom\n",
       "5          SET 7 BABUSHKA NESTING BOXES         2       7.65  United Kingdom\n",
       "6     GLASS STAR FROSTED T-LIGHT HOLDER         6       4.25  United Kingdom\n",
       "7                HAND WARMER UNION JACK         6       1.85  United Kingdom\n",
       "8             HAND WARMER RED POLKA DOT         6       1.85  United Kingdom\n",
       "10           POPPY'S PLAYHOUSE BEDROOM          6       2.10  United Kingdom"
      ]
     },
     "execution_count": 122,
     "metadata": {},
     "output_type": "execute_result"
    }
   ],
   "source": [
    "final_df.head(10)"
   ]
  },
  {
   "cell_type": "markdown",
   "metadata": {},
   "source": [
    "**What is the Description of the max UnitPrice**"
   ]
  },
  {
   "cell_type": "code",
   "execution_count": 124,
   "metadata": {},
   "outputs": [
    {
     "data": {
      "text/plain": [
       "Description           POSTAGE\n",
       "Quantity                    1\n",
       "UnitPrice                8.62\n",
       "Country        United Kingdom\n",
       "Name: 116698, dtype: object"
      ]
     },
     "execution_count": 124,
     "metadata": {},
     "output_type": "execute_result"
    }
   ],
   "source": [
    "final_df.loc[final_df['UnitPrice'].idxmax()]\n"
   ]
  },
  {
   "cell_type": "markdown",
   "metadata": {},
   "source": [
    "**Postage is a fees charge and it is the most expensive thing in the data**"
   ]
  },
  {
   "cell_type": "markdown",
   "metadata": {},
   "source": [
    "**Getting the most expensive order made**"
   ]
  },
  {
   "cell_type": "code",
   "execution_count": 127,
   "metadata": {},
   "outputs": [],
   "source": [
    "final_df['TotalPrice'] = final_df['UnitPrice'] * final_df['Quantity']\n"
   ]
  },
  {
   "cell_type": "code",
   "execution_count": 130,
   "metadata": {},
   "outputs": [
    {
     "data": {
      "text/html": [
       "<div>\n",
       "<style scoped>\n",
       "    .dataframe tbody tr th:only-of-type {\n",
       "        vertical-align: middle;\n",
       "    }\n",
       "\n",
       "    .dataframe tbody tr th {\n",
       "        vertical-align: top;\n",
       "    }\n",
       "\n",
       "    .dataframe thead th {\n",
       "        text-align: right;\n",
       "    }\n",
       "</style>\n",
       "<table border=\"1\" class=\"dataframe\">\n",
       "  <thead>\n",
       "    <tr style=\"text-align: right;\">\n",
       "      <th></th>\n",
       "      <th>Description</th>\n",
       "      <th>Quantity</th>\n",
       "      <th>UnitPrice</th>\n",
       "      <th>Country</th>\n",
       "      <th>TotalPrice</th>\n",
       "    </tr>\n",
       "  </thead>\n",
       "  <tbody>\n",
       "    <tr>\n",
       "      <th>16147</th>\n",
       "      <td>WHITE SKULL HOT WATER BOTTLE</td>\n",
       "      <td>23</td>\n",
       "      <td>8.47</td>\n",
       "      <td>United Kingdom</td>\n",
       "      <td>194.81</td>\n",
       "    </tr>\n",
       "    <tr>\n",
       "      <th>25061</th>\n",
       "      <td>WOODEN FRAME ANTIQUE WHITE</td>\n",
       "      <td>23</td>\n",
       "      <td>8.47</td>\n",
       "      <td>United Kingdom</td>\n",
       "      <td>194.81</td>\n",
       "    </tr>\n",
       "  </tbody>\n",
       "</table>\n",
       "</div>"
      ],
      "text/plain": [
       "                         Description  Quantity  UnitPrice         Country  \\\n",
       "16147  WHITE SKULL HOT WATER BOTTLE         23       8.47  United Kingdom   \n",
       "25061    WOODEN FRAME ANTIQUE WHITE         23       8.47  United Kingdom   \n",
       "\n",
       "       TotalPrice  \n",
       "16147      194.81  \n",
       "25061      194.81  "
      ]
     },
     "execution_count": 130,
     "metadata": {},
     "output_type": "execute_result"
    }
   ],
   "source": [
    "final_df[final_df['TotalPrice'] == final_df['TotalPrice'].max()]"
   ]
  },
  {
   "cell_type": "markdown",
   "metadata": {},
   "source": [
    "**WHITE SKULL HOT WATER BOTTLE**"
   ]
  },
  {
   "cell_type": "markdown",
   "metadata": {},
   "source": [
    "![WHITE SKULL HOT WATER BOTTLE](https://i.etsystatic.com/11429385/r/il/2f5b26/6000619186/il_fullxfull.6000619186_f0ke.jpg)"
   ]
  },
  {
   "cell_type": "markdown",
   "metadata": {},
   "source": [
    "**People like to buy strange things**"
   ]
  },
  {
   "cell_type": "markdown",
   "metadata": {},
   "source": [
    "**WOODEN FRAME ANTIQUE WHITE**"
   ]
  },
  {
   "cell_type": "markdown",
   "metadata": {},
   "source": [
    "![WOODEN FRAME ANTIQUE WHITE](https://www.shopferme.com/cdn/shop/files/wooden-carved-white-photo-frame-front-ferme-08_31150c7d-2db3-46a8-ab17-9d21b08d1357.jpg?v=1696588333)"
   ]
  },
  {
   "cell_type": "markdown",
   "metadata": {},
   "source": [
    "**This is a good thing to buy for personal pictures**"
   ]
  },
  {
   "cell_type": "markdown",
   "metadata": {},
   "source": [
    "**Gettings the largest quantity ordered**"
   ]
  },
  {
   "cell_type": "code",
   "execution_count": 131,
   "metadata": {},
   "outputs": [
    {
     "data": {
      "text/html": [
       "<div>\n",
       "<style scoped>\n",
       "    .dataframe tbody tr th:only-of-type {\n",
       "        vertical-align: middle;\n",
       "    }\n",
       "\n",
       "    .dataframe tbody tr th {\n",
       "        vertical-align: top;\n",
       "    }\n",
       "\n",
       "    .dataframe thead th {\n",
       "        text-align: right;\n",
       "    }\n",
       "</style>\n",
       "<table border=\"1\" class=\"dataframe\">\n",
       "  <thead>\n",
       "    <tr style=\"text-align: right;\">\n",
       "      <th></th>\n",
       "      <th>Description</th>\n",
       "      <th>Quantity</th>\n",
       "      <th>UnitPrice</th>\n",
       "      <th>Country</th>\n",
       "      <th>TotalPrice</th>\n",
       "    </tr>\n",
       "  </thead>\n",
       "  <tbody>\n",
       "    <tr>\n",
       "      <th>106</th>\n",
       "      <td>RETROSPOT TEA SET CERAMIC 11 PC</td>\n",
       "      <td>23</td>\n",
       "      <td>4.25</td>\n",
       "      <td>United Kingdom</td>\n",
       "      <td>97.75</td>\n",
       "    </tr>\n",
       "    <tr>\n",
       "      <th>1901</th>\n",
       "      <td>CHRISTMAS TOILET ROLL</td>\n",
       "      <td>23</td>\n",
       "      <td>2.51</td>\n",
       "      <td>United Kingdom</td>\n",
       "      <td>57.73</td>\n",
       "    </tr>\n",
       "    <tr>\n",
       "      <th>10275</th>\n",
       "      <td>CHRISTMAS TOILET ROLL</td>\n",
       "      <td>23</td>\n",
       "      <td>2.51</td>\n",
       "      <td>United Kingdom</td>\n",
       "      <td>57.73</td>\n",
       "    </tr>\n",
       "    <tr>\n",
       "      <th>10355</th>\n",
       "      <td>CHRISTMAS TREE HEART DECORATION</td>\n",
       "      <td>23</td>\n",
       "      <td>0.43</td>\n",
       "      <td>United Kingdom</td>\n",
       "      <td>9.89</td>\n",
       "    </tr>\n",
       "    <tr>\n",
       "      <th>10920</th>\n",
       "      <td>CHRISTMAS RETROSPOT ANGEL WOOD</td>\n",
       "      <td>23</td>\n",
       "      <td>1.66</td>\n",
       "      <td>United Kingdom</td>\n",
       "      <td>38.18</td>\n",
       "    </tr>\n",
       "    <tr>\n",
       "      <th>...</th>\n",
       "      <td>...</td>\n",
       "      <td>...</td>\n",
       "      <td>...</td>\n",
       "      <td>...</td>\n",
       "      <td>...</td>\n",
       "    </tr>\n",
       "    <tr>\n",
       "      <th>507804</th>\n",
       "      <td>JUMBO BAG VINTAGE CHRISTMAS</td>\n",
       "      <td>23</td>\n",
       "      <td>2.46</td>\n",
       "      <td>United Kingdom</td>\n",
       "      <td>56.58</td>\n",
       "    </tr>\n",
       "    <tr>\n",
       "      <th>509021</th>\n",
       "      <td>LUNCH BAG RED RETROSPOT</td>\n",
       "      <td>23</td>\n",
       "      <td>4.96</td>\n",
       "      <td>United Kingdom</td>\n",
       "      <td>114.08</td>\n",
       "    </tr>\n",
       "    <tr>\n",
       "      <th>523679</th>\n",
       "      <td>PACK OF 72 RETROSPOT CAKE CASES</td>\n",
       "      <td>23</td>\n",
       "      <td>2.08</td>\n",
       "      <td>United Kingdom</td>\n",
       "      <td>47.84</td>\n",
       "    </tr>\n",
       "    <tr>\n",
       "      <th>528035</th>\n",
       "      <td>BOX OF 24 COCKTAIL PARASOLS</td>\n",
       "      <td>23</td>\n",
       "      <td>0.83</td>\n",
       "      <td>United Kingdom</td>\n",
       "      <td>19.09</td>\n",
       "    </tr>\n",
       "    <tr>\n",
       "      <th>528276</th>\n",
       "      <td>NOEL GARLAND PAINTED ZINC</td>\n",
       "      <td>23</td>\n",
       "      <td>0.83</td>\n",
       "      <td>United Kingdom</td>\n",
       "      <td>19.09</td>\n",
       "    </tr>\n",
       "  </tbody>\n",
       "</table>\n",
       "<p>104 rows × 5 columns</p>\n",
       "</div>"
      ],
      "text/plain": [
       "                             Description  Quantity  UnitPrice         Country  \\\n",
       "106     RETROSPOT TEA SET CERAMIC 11 PC         23       4.25  United Kingdom   \n",
       "1901               CHRISTMAS TOILET ROLL        23       2.51  United Kingdom   \n",
       "10275              CHRISTMAS TOILET ROLL        23       2.51  United Kingdom   \n",
       "10355    CHRISTMAS TREE HEART DECORATION        23       0.43  United Kingdom   \n",
       "10920     CHRISTMAS RETROSPOT ANGEL WOOD        23       1.66  United Kingdom   \n",
       "...                                  ...       ...        ...             ...   \n",
       "507804      JUMBO BAG VINTAGE CHRISTMAS         23       2.46  United Kingdom   \n",
       "509021           LUNCH BAG RED RETROSPOT        23       4.96  United Kingdom   \n",
       "523679   PACK OF 72 RETROSPOT CAKE CASES        23       2.08  United Kingdom   \n",
       "528035       BOX OF 24 COCKTAIL PARASOLS        23       0.83  United Kingdom   \n",
       "528276        NOEL GARLAND PAINTED ZINC         23       0.83  United Kingdom   \n",
       "\n",
       "        TotalPrice  \n",
       "106          97.75  \n",
       "1901         57.73  \n",
       "10275        57.73  \n",
       "10355         9.89  \n",
       "10920        38.18  \n",
       "...            ...  \n",
       "507804       56.58  \n",
       "509021      114.08  \n",
       "523679       47.84  \n",
       "528035       19.09  \n",
       "528276       19.09  \n",
       "\n",
       "[104 rows x 5 columns]"
      ]
     },
     "execution_count": 131,
     "metadata": {},
     "output_type": "execute_result"
    }
   ],
   "source": [
    "final_df[final_df['Quantity'] == final_df['Quantity'].max()]\n"
   ]
  },
  {
   "cell_type": "code",
   "execution_count": 132,
   "metadata": {},
   "outputs": [
    {
     "data": {
      "text/plain": [
       "104"
      ]
     },
     "execution_count": 132,
     "metadata": {},
     "output_type": "execute_result"
    }
   ],
   "source": [
    "len(final_df[final_df['Quantity'] == final_df['Quantity'].max()])"
   ]
  },
  {
   "cell_type": "markdown",
   "metadata": {},
   "source": [
    "**104 orders of 23 quantities**"
   ]
  },
  {
   "cell_type": "markdown",
   "metadata": {},
   "source": [
    "**Getting the top 10 most ordered items**"
   ]
  },
  {
   "cell_type": "code",
   "execution_count": 141,
   "metadata": {},
   "outputs": [
    {
     "data": {
      "text/plain": [
       "Description\n",
       "JUMBO BAG RED RETROSPOT               14164\n",
       "WHITE HANGING HEART T-LIGHT HOLDER    11018\n",
       "ASSORTED COLOUR BIRD ORNAMENT         10995\n",
       "LUNCH BAG RED RETROSPOT               10622\n",
       "LUNCH BAG  BLACK SKULL.                8223\n",
       "LUNCH BAG CARS BLUE                    7956\n",
       "JAM MAKING SET PRINTED                 7702\n",
       "JUMBO BAG PINK POLKADOT                7472\n",
       "LUNCH BAG APPLE DESIGN                 7436\n",
       "LUNCH BAG SPACEBOY DESIGN              7324\n",
       "Name: Quantity, dtype: int64"
      ]
     },
     "execution_count": 141,
     "metadata": {},
     "output_type": "execute_result"
    }
   ],
   "source": [
    "final_df.groupby('Description')['Quantity'].sum().sort_values(ascending=False).head(10)\n"
   ]
  },
  {
   "cell_type": "markdown",
   "metadata": {},
   "source": [
    "**JUMBO BAG RED RETROSPOT**"
   ]
  },
  {
   "cell_type": "markdown",
   "metadata": {},
   "source": [
    "![JUMBO BAG RED RETROSPOT](https://encrypted-tbn0.gstatic.com/images?q=tbn:ANd9GcSo-oyfrbSe2doY-SieDhLiUGMS2KwjzHfbfw&s)"
   ]
  },
  {
   "cell_type": "markdown",
   "metadata": {},
   "source": [
    "**This bag is suitable for presents; no wonder it is the most ordered.**"
   ]
  },
  {
   "cell_type": "markdown",
   "metadata": {},
   "source": [
    "**We will get a correlation map for these columns**"
   ]
  },
  {
   "cell_type": "markdown",
   "metadata": {},
   "source": [
    "**I will encode the categorical columns**<br>\n",
    "**Description column will be encoded with BERT embedding because it is a text data**<br>\n",
    "**Country will be encoded with LabelEncoder**"
   ]
  },
  {
   "cell_type": "code",
   "execution_count": 142,
   "metadata": {},
   "outputs": [
    {
     "name": "stderr",
     "output_type": "stream",
     "text": [
      "c:\\Users\\iiven\\miniconda3\\envs\\Ai\\lib\\site-packages\\huggingface_hub\\file_download.py:143: UserWarning: `huggingface_hub` cache-system uses symlinks by default to efficiently store duplicated files but your machine does not support them in C:\\Users\\iiven\\.cache\\huggingface\\hub\\models--bert-base-uncased. Caching files will still work but in a degraded version that might require more space on your disk. This warning can be disabled by setting the `HF_HUB_DISABLE_SYMLINKS_WARNING` environment variable. For more details, see https://huggingface.co/docs/huggingface_hub/how-to-cache#limitations.\n",
      "To support symlinks on Windows, you either need to activate Developer Mode or to run Python as an administrator. In order to activate developer mode, see this article: https://docs.microsoft.com/en-us/windows/apps/get-started/enable-your-device-for-development\n",
      "  warnings.warn(message)\n",
      "Xet Storage is enabled for this repo, but the 'hf_xet' package is not installed. Falling back to regular HTTP download. For better performance, install the package with: `pip install huggingface_hub[hf_xet]` or `pip install hf_xet`\n"
     ]
    }
   ],
   "source": [
    "from transformers import BertTokenizer, BertModel\n",
    "import torch\n",
    "\n",
    "tokenizer = BertTokenizer.from_pretrained('bert-base-uncased')\n",
    "model = BertModel.from_pretrained('bert-base-uncased')\n"
   ]
  },
  {
   "cell_type": "code",
   "execution_count": 143,
   "metadata": {},
   "outputs": [],
   "source": [
    "description = final_df['Description'].astype(str).to_list()"
   ]
  },
  {
   "cell_type": "code",
   "execution_count": 153,
   "metadata": {},
   "outputs": [
    {
     "data": {
      "text/plain": [
       "['WHITE HANGING HEART T-LIGHT HOLDER',\n",
       " 'WHITE METAL LANTERN',\n",
       " 'CREAM CUPID HEARTS COAT HANGER',\n",
       " 'KNITTED UNION FLAG HOT WATER BOTTLE',\n",
       " 'RED WOOLLY HOTTIE WHITE HEART.',\n",
       " 'SET 7 BABUSHKA NESTING BOXES',\n",
       " 'GLASS STAR FROSTED T-LIGHT HOLDER',\n",
       " 'HAND WARMER UNION JACK',\n",
       " 'HAND WARMER RED POLKA DOT',\n",
       " \"POPPY'S PLAYHOUSE BEDROOM \",\n",
       " \"POPPY'S PLAYHOUSE KITCHEN\",\n",
       " 'FELTCRAFT PRINCESS CHARLOTTE DOLL',\n",
       " 'IVORY KNITTED MUG COSY ',\n",
       " 'BOX OF 6 ASSORTED COLOUR TEASPOONS',\n",
       " 'BOX OF VINTAGE JIGSAW BLOCKS ',\n",
       " 'HOME BUILDING BLOCK WORD',\n",
       " 'LOVE BUILDING BLOCK WORD',\n",
       " 'RECIPE BOX WITH METAL HEART',\n",
       " 'DOORMAT NEW ENGLAND',\n",
       " 'JAM MAKING SET WITH JARS',\n",
       " 'RED COAT RACK PARIS FASHION',\n",
       " 'YELLOW COAT RACK PARIS FASHION',\n",
       " 'BLUE COAT RACK PARIS FASHION',\n",
       " 'BATH BUILDING BLOCK WORD',\n",
       " 'ALARM CLOCK BAKELIKE GREEN',\n",
       " 'PANDA AND BUNNIES STICKER SHEET',\n",
       " 'SET/2 RED RETROSPOT TEA TOWELS ',\n",
       " 'CHARLOTTE BAG DOLLY GIRL DESIGN',\n",
       " 'VINTAGE SEASIDE JIGSAW PUZZLES',\n",
       " 'HAND WARMER RED POLKA DOT',\n",
       " 'HAND WARMER UNION JACK',\n",
       " 'WHITE HANGING HEART T-LIGHT HOLDER',\n",
       " 'WHITE METAL LANTERN',\n",
       " 'CREAM CUPID HEARTS COAT HANGER',\n",
       " 'EDWARDIAN PARASOL RED',\n",
       " 'RETRO COFFEE MUGS ASSORTED',\n",
       " 'SAVE THE PLANET MUG',\n",
       " 'VINTAGE BILLBOARD DRINK ME MUG',\n",
       " 'VINTAGE BILLBOARD LOVE/HATE MUG',\n",
       " 'WOOD 2 DRAWER CABINET WHITE FINISH',\n",
       " 'WOOD S/3 CABINET ANT WHITE FINISH',\n",
       " 'WOODEN PICTURE FRAME WHITE FINISH',\n",
       " 'WOODEN FRAME ANTIQUE WHITE ',\n",
       " 'KNITTED UNION FLAG HOT WATER BOTTLE',\n",
       " 'RED WOOLLY HOTTIE WHITE HEART.',\n",
       " 'SET 7 BABUSHKA NESTING BOXES',\n",
       " 'GLASS STAR FROSTED T-LIGHT HOLDER',\n",
       " 'WHITE HANGING HEART T-LIGHT HOLDER',\n",
       " 'WHITE METAL LANTERN',\n",
       " 'CREAM CUPID HEARTS COAT HANGER',\n",
       " 'EDWARDIAN PARASOL RED',\n",
       " 'RETRO COFFEE MUGS ASSORTED',\n",
       " 'SAVE THE PLANET MUG',\n",
       " 'VINTAGE BILLBOARD DRINK ME MUG',\n",
       " 'VINTAGE BILLBOARD LOVE/HATE MUG',\n",
       " 'WOOD 2 DRAWER CABINET WHITE FINISH',\n",
       " 'WOOD S/3 CABINET ANT WHITE FINISH',\n",
       " 'WOODEN PICTURE FRAME WHITE FINISH',\n",
       " 'WOODEN FRAME ANTIQUE WHITE ',\n",
       " 'KNITTED UNION FLAG HOT WATER BOTTLE',\n",
       " 'RED WOOLLY HOTTIE WHITE HEART.',\n",
       " 'SET 7 BABUSHKA NESTING BOXES',\n",
       " 'GLASS STAR FROSTED T-LIGHT HOLDER',\n",
       " 'HAND WARMER RED POLKA DOT',\n",
       " 'HAND WARMER UNION JACK',\n",
       " 'JUMBO BAG PINK POLKADOT',\n",
       " 'JUMBO  BAG BAROQUE BLACK WHITE',\n",
       " 'JUMBO BAG CHARLIE AND LOLA TOYS',\n",
       " 'STRAWBERRY CHARLOTTE BAG',\n",
       " 'RED 3 PIECE RETROSPOT CUTLERY SET',\n",
       " 'BLUE 3 PIECE POLKADOT CUTLERY SET',\n",
       " 'SET/6 RED SPOTTY PAPER PLATES',\n",
       " 'LUNCH BAG RED RETROSPOT',\n",
       " 'STRAWBERRY LUNCH BOX WITH CUTLERY',\n",
       " 'LUNCH BOX WITH CUTLERY RETROSPOT ',\n",
       " 'TOMATO CHARLIE+LOLA COASTER SET',\n",
       " 'JUMBO STORAGE BAG SUKI',\n",
       " 'JUMBO BAG PINK VINTAGE PAISLEY',\n",
       " 'RETROSPOT TEA SET CERAMIC 11 PC ',\n",
       " 'GIRLY PINK TOOL SET',\n",
       " 'JUMBO SHOPPER VINTAGE RED PAISLEY',\n",
       " 'AIRLINE LOUNGE,METAL SIGN',\n",
       " 'WHITE SPOT RED CERAMIC DRAWER KNOB',\n",
       " 'PHOTO CLIP LINE',\n",
       " 'FELT EGG COSY CHICKEN',\n",
       " 'PIGGY BANK RETROSPOT ',\n",
       " 'SKULL SHOULDER BAG',\n",
       " \"YOU'RE CONFUSING ME METAL SIGN \",\n",
       " 'COOK WITH WINE METAL SIGN ',\n",
       " 'GIN + TONIC DIET METAL SIGN',\n",
       " 'YELLOW BREAKFAST CUP AND SAUCER',\n",
       " 'PINK BREAKFAST CUP AND SAUCER ',\n",
       " \"PAPER CHAIN KIT 50'S CHRISTMAS \",\n",
       " 'PAPER CHAIN KIT RETROSPOT',\n",
       " 'SMALL HEART FLOWERS HOOK ',\n",
       " 'PHOTO CLIP LINE',\n",
       " 'TEA TIME DES TEA COSY',\n",
       " 'FELT EGG COSY WHITE RABBIT ',\n",
       " 'ZINC WILLIE WINKIE  CANDLE STICK',\n",
       " 'CERAMIC CHERRY CAKE MONEY BANK',\n",
       " 'RETROSPOT LARGE MILK JUG',\n",
       " 'SET OF 6 FUNKY BEAKERS',\n",
       " 'EDWARDIAN PARASOL BLACK',\n",
       " 'EDWARDIAN PARASOL NATURAL',\n",
       " 'CERAMIC STRAWBERRY CAKE MONEY BANK',\n",
       " 'BLUE OWL SOFT TOY',\n",
       " 'BALLOON ART MAKE YOUR OWN FLOWERS',\n",
       " 'RED TOADSTOOL LED NIGHT LIGHT',\n",
       " 'GLASS CLOCHE SMALL',\n",
       " 'DOORMAT FANCY FONT HOME SWEET HOME',\n",
       " 'INFLATABLE POLITICAL GLOBE ',\n",
       " 'VINTAGE SNAKES & LADDERS',\n",
       " 'CHOCOLATE CALCULATOR',\n",
       " 'JUMBO SHOPPER VINTAGE RED PAISLEY',\n",
       " 'RECYCLING BAG RETROSPOT ',\n",
       " 'ANTIQUE GLASS DRESSING TABLE POT',\n",
       " 'ALARM CLOCK BAKELIKE GREEN',\n",
       " 'IVORY GIANT GARDEN THERMOMETER',\n",
       " 'SET OF 3 COLOURED  FLYING DUCKS',\n",
       " 'WOOD BLACK BOARD ANT WHITE FINISH',\n",
       " 'HANGING METAL HEART LANTERN',\n",
       " 'HANGING MEDINA LANTERN SMALL',\n",
       " 'NATURAL SLATE HEART CHALKBOARD ',\n",
       " 'WHITE LOVEBIRD LANTERN',\n",
       " 'CREAM HEART CARD HOLDER',\n",
       " 'ENAMEL FLOWER JUG CREAM',\n",
       " 'ENAMEL FIRE BUCKET CREAM',\n",
       " 'JAM MAKING SET PRINTED',\n",
       " 'JAM MAKING SET WITH JARS',\n",
       " 'JUMBO BAG DOLLY GIRL DESIGN',\n",
       " 'TRADITIONAL CHRISTMAS RIBBONS',\n",
       " 'ORGANISER WOOD ANTIQUE WHITE ',\n",
       " 'LUNCH BAG DOLLY GIRL DESIGN',\n",
       " 'HOME BUILDING BLOCK WORD',\n",
       " 'LOVE BUILDING BLOCK WORD',\n",
       " 'DOORMAT FANCY FONT HOME SWEET HOME',\n",
       " 'HOME SMALL WOOD LETTERS',\n",
       " 'GINGHAM HEART  DOORSTOP RED',\n",
       " 'FIVE HEART HANGING DECORATION',\n",
       " 'HANGING METAL HEART LANTERN',\n",
       " 'ASSORTED BOTTLE TOP  MAGNETS ',\n",
       " 'FRIDGE MAGNETS US DINER ASSORTED',\n",
       " 'HOMEMADE JAM SCENTED CANDLES',\n",
       " 'FRIDGE MAGNETS LES ENFANTS ASSORTED',\n",
       " 'ROSE CARAVAN DOORSTOP',\n",
       " 'HEART OF WICKER SMALL',\n",
       " '5 HOOK HANGER MAGIC TOADSTOOL',\n",
       " 'CHRISTMAS LIGHTS 10 REINDEER',\n",
       " 'VINTAGE UNION JACK CUSHION COVER',\n",
       " 'VINTAGE HEADS AND TAILS CARD GAME ',\n",
       " 'SET OF 3 COLOURED  FLYING DUCKS',\n",
       " 'SET OF 3 GOLD FLYING DUCKS',\n",
       " 'RED RETROSPOT UMBRELLA',\n",
       " 'BLACK/BLUE POLKADOT UMBRELLA',\n",
       " 'RED DINER WALL CLOCK',\n",
       " 'ALARM CLOCK BAKELIKE GREEN',\n",
       " 'ALARM CLOCK BAKELIKE RED ',\n",
       " 'BLUE DINER WALL CLOCK',\n",
       " 'IVORY DINER WALL CLOCK',\n",
       " 'CHRISTMAS LIGHTS 10 REINDEER',\n",
       " 'JAM MAKING SET WITH JARS',\n",
       " 'JAM MAKING SET PRINTED',\n",
       " 'ROSE COTTAGE KEEPSAKE BOX ',\n",
       " 'RETROSPOT LARGE MILK JUG',\n",
       " 'PLASTERS IN TIN CIRCUS PARADE ',\n",
       " 'CHICK GREY HOT WATER BOTTLE',\n",
       " 'PLASTERS IN TIN VINTAGE PAISLEY ',\n",
       " '3 STRIPEY MICE FELTCRAFT',\n",
       " 'SET OF 6 SOLDIER SKITTLES',\n",
       " 'TRADITIONAL WOODEN SKIPPING ROPE',\n",
       " 'WOODEN BOX OF DOMINOES',\n",
       " 'PARTY CONES CARNIVAL ASSORTED',\n",
       " 'PARTY CONES CANDY ASSORTED',\n",
       " 'PICNIC BASKET WICKER SMALL',\n",
       " 'ASSORTED COLOUR BIRD ORNAMENT',\n",
       " 'RETROSPOT HEART HOT WATER BOTTLE',\n",
       " 'DOG BOWL CHASING BALL DESIGN',\n",
       " 'HAND OVER THE CHOCOLATE   SIGN ',\n",
       " 'TRAVEL SEWING KIT',\n",
       " 'BLACK HEART CARD HOLDER',\n",
       " 'CHICK GREY HOT WATER BOTTLE',\n",
       " 'SMALL GLASS HEART TRINKET POT',\n",
       " 'ALARM CLOCK BAKELIKE IVORY',\n",
       " 'ALARM CLOCK BAKELIKE RED ',\n",
       " 'ALARM CLOCK BAKELIKE ORANGE',\n",
       " 'ALARM CLOCK BAKELIKE GREEN',\n",
       " 'HOT WATER BOTTLE TEA AND SYMPATHY',\n",
       " 'WHITE HANGING HEART T-LIGHT HOLDER',\n",
       " 'WHITE METAL LANTERN',\n",
       " 'CREAM CUPID HEARTS COAT HANGER',\n",
       " 'EDWARDIAN PARASOL BLACK',\n",
       " 'EDWARDIAN PARASOL RED',\n",
       " 'RETRO COFFEE MUGS ASSORTED',\n",
       " 'SAVE THE PLANET MUG',\n",
       " 'VINTAGE BILLBOARD DRINK ME MUG',\n",
       " 'VINTAGE BILLBOARD LOVE/HATE MUG',\n",
       " 'WOOD 2 DRAWER CABINET WHITE FINISH',\n",
       " 'WOOD S/3 CABINET ANT WHITE FINISH',\n",
       " 'WOODEN PICTURE FRAME WHITE FINISH',\n",
       " 'WOODEN FRAME ANTIQUE WHITE ',\n",
       " 'KNITTED UNION FLAG HOT WATER BOTTLE',\n",
       " 'RED WOOLLY HOTTIE WHITE HEART.',\n",
       " 'SET 7 BABUSHKA NESTING BOXES',\n",
       " 'GLASS STAR FROSTED T-LIGHT HOLDER',\n",
       " 'SET OF 3 BLACK FLYING DUCKS',\n",
       " 'RED RETROSPOT MUG',\n",
       " 'BABUSHKA LIGHTS STRING OF 10',\n",
       " 'PIGGY BANK RETROSPOT ',\n",
       " 'SET 7 BABUSHKA NESTING BOXES',\n",
       " 'DOORMAT FAIRY CAKE',\n",
       " 'HAND WARMER RED RETROSPOT',\n",
       " 'HAND WARMER SCOTTY DOG DESIGN',\n",
       " 'HAND WARMER OWL DESIGN',\n",
       " 'STRAWBERRY CERAMIC TRINKET BOX',\n",
       " 'PINK DOUGHNUT TRINKET POT ',\n",
       " 'SILK PURSE BABUSHKA PINK',\n",
       " 'HOT WATER BOTTLE TEA AND SYMPATHY',\n",
       " 'HOT WATER BOTTLE I AM SO POORLY',\n",
       " 'CHOCOLATE HOT WATER BOTTLE',\n",
       " 'WHITE SKULL HOT WATER BOTTLE ',\n",
       " 'SCOTTIE DOG HOT WATER BOTTLE',\n",
       " 'HAND WARMER RED POLKA DOT',\n",
       " 'HAND WARMER UNION JACK',\n",
       " 'HOMEMADE JAM SCENTED CANDLES',\n",
       " 'BIRD HOUSE HOT WATER BOTTLE',\n",
       " 'BOUDOIR SQUARE TISSUE BOX',\n",
       " 'SKULLS SQUARE TISSUE BOX',\n",
       " 'PHOTO FRAME CORNICE',\n",
       " 'SILK PURSE BABUSHKA RED',\n",
       " 'PICTURE DOMINOES',\n",
       " 'S/6 SEW ON CROCHET FLOWERS',\n",
       " 'SCANDINAVIAN REDS RIBBONS',\n",
       " 'BALLOONS  WRITING SET ',\n",
       " 'JAM MAKING SET PRINTED',\n",
       " 'LAVENDER INCENSE IN TIN',\n",
       " 'TV DINNER TRAY VINTAGE PAISLEY',\n",
       " 'SET OF 4 ENGLISH ROSE PLACEMATS',\n",
       " 'SET OF 4 ENGLISH ROSE COASTERS',\n",
       " 'MIRRORED DISCO BALL ',\n",
       " 'DISCO BALL ROTATOR BATTERY OPERATED',\n",
       " 'SILVER LOOKING MIRROR',\n",
       " 'LADIES & GENTLEMEN METAL SIGN',\n",
       " 'METAL SIGN HER DINNER IS SERVED ',\n",
       " \"YOU'RE CONFUSING ME METAL SIGN \",\n",
       " 'DOORMAT TOPIARY',\n",
       " 'BATHROOM METAL SIGN',\n",
       " 'KITCHEN METAL SIGN',\n",
       " 'TOILET METAL SIGN',\n",
       " 'METAL SIGN TAKE IT OR LEAVE IT ',\n",
       " \"I'M ON HOLIDAY METAL SIGN\",\n",
       " 'GROW YOUR OWN BASIL IN ENAMEL MUG',\n",
       " 'SET/10 PINK POLKADOT PARTY CANDLES',\n",
       " 'SET 20 NAPKINS FAIRY CAKES DESIGN ',\n",
       " '60 TEATIME FAIRY CAKE CASES',\n",
       " 'SET OF 6 T-LIGHTS SNOWMEN',\n",
       " 'SET OF 6 T-LIGHTS SANTA',\n",
       " 'SET OF 9 HEART SHAPED BALLOONS',\n",
       " 'SANDWICH BATH SPONGE',\n",
       " 'APPLE BATH SPONGE',\n",
       " 'STRAWBERRY BATH SPONGE ',\n",
       " 'BLACK PIRATE TREASURE CHEST',\n",
       " 'STAR PORTABLE TABLE LIGHT ',\n",
       " 'SNOWFLAKE PORTABLE TABLE LIGHT ',\n",
       " 'PINK OVAL JEWELLED MIRROR',\n",
       " 'RETROSPOT CIGAR BOX MATCHES ',\n",
       " 'COSY HOUR GIANT TUBE MATCHES',\n",
       " 'JAZZ HEARTS PURSE NOTEBOOK',\n",
       " 'LUNCH BAG DOLLY GIRL DESIGN',\n",
       " 'WHITE HANGING HEART T-LIGHT HOLDER',\n",
       " 'CANDLEHOLDER PINK HANGING HEART',\n",
       " 'WOOD 2 DRAWER CABINET WHITE FINISH',\n",
       " 'ASSORTED COLOUR MINI CASES',\n",
       " 'LUNCH BAG RED RETROSPOT',\n",
       " 'LUNCH BAG SPACEBOY DESIGN ',\n",
       " 'LUNCH BAG WOODLAND',\n",
       " 'LUNCH BAG PINK POLKADOT',\n",
       " 'GUMBALL COAT RACK',\n",
       " 'BLUE NEW BAROQUE CANDLESTICK CANDLE',\n",
       " 'PINK NEW BAROQUECANDLESTICK CANDLE',\n",
       " 'FAIRY CAKE FLANNEL ASSORTED COLOUR',\n",
       " 'JUMBO BAG CHARLIE AND LOLA TOYS',\n",
       " 'ENGLISH ROSE HOT WATER BOTTLE',\n",
       " 'ENAMEL FIRE BUCKET CREAM',\n",
       " 'PICNIC BASKET WICKER SMALL',\n",
       " 'CLEAR DRAWER KNOB ACRYLIC EDWARDIAN',\n",
       " 'PINK DRAWER KNOB ACRYLIC EDWARDIAN',\n",
       " 'GREEN DRAWER KNOB ACRYLIC EDWARDIAN',\n",
       " 'BLUE DRAWER KNOB ACRYLIC EDWARDIAN',\n",
       " 'HEART OF WICKER SMALL',\n",
       " 'SET 6 FOOTBALL CELEBRATION CANDLES',\n",
       " 'SET OF 6 GIRLS CELEBRATION CANDLES',\n",
       " 'ROMANTIC PINKS RIBBONS ',\n",
       " 'BRIGHT BLUES RIBBONS ',\n",
       " 'SCANDINAVIAN REDS RIBBONS',\n",
       " 'CHOCOLATE BOX RIBBONS ',\n",
       " 'PARTY INVITES FOOTBALL',\n",
       " 'PARTY INVITES JAZZ HEARTS',\n",
       " 'PARTY INVITES SPACEMAN',\n",
       " 'SET OF 3 BUTTERFLY COOKIE CUTTERS',\n",
       " 'SET OF 3 HEART COOKIE CUTTERS',\n",
       " '3 PIECE SPACEBOY COOKIE CUTTER SET',\n",
       " 'LUNCH BAG SUKI  DESIGN ',\n",
       " 'LUNCH BAG CARS BLUE',\n",
       " 'LUNCH BAG  BLACK SKULL.',\n",
       " 'WHITE HANGING HEART T-LIGHT HOLDER',\n",
       " 'WHITE METAL LANTERN',\n",
       " 'CREAM CUPID HEARTS COAT HANGER',\n",
       " 'EDWARDIAN PARASOL RED',\n",
       " 'RETRO COFFEE MUGS ASSORTED',\n",
       " 'SAVE THE PLANET MUG',\n",
       " 'VINTAGE BILLBOARD DRINK ME MUG',\n",
       " 'VINTAGE BILLBOARD LOVE/HATE MUG',\n",
       " 'WOOD 2 DRAWER CABINET WHITE FINISH',\n",
       " 'WOOD S/3 CABINET ANT WHITE FINISH',\n",
       " 'WOODEN PICTURE FRAME WHITE FINISH',\n",
       " 'WOODEN FRAME ANTIQUE WHITE ',\n",
       " 'KNITTED UNION FLAG HOT WATER BOTTLE',\n",
       " 'RED WOOLLY HOTTIE WHITE HEART.',\n",
       " 'SET 7 BABUSHKA NESTING BOXES',\n",
       " 'GLASS STAR FROSTED T-LIGHT HOLDER',\n",
       " 'HAND WARMER RED POLKA DOT',\n",
       " 'HAND WARMER UNION JACK',\n",
       " '12 PENCILS TALL TUBE SKULLS',\n",
       " 'CHOCOLATE CALCULATOR',\n",
       " 'RED  HARMONICA IN BOX ',\n",
       " 'BLUE HARMONICA IN BOX ',\n",
       " 'SKULLS  WATER TRANSFER TATTOOS ',\n",
       " 'PACK 3 BOXES BIRD PANNETONE ',\n",
       " 'HOT WATER BOTTLE TEA AND SYMPATHY',\n",
       " 'RED WOOLLY HOTTIE WHITE HEART.',\n",
       " 'WHITE SKULL HOT WATER BOTTLE ',\n",
       " '3 PIECE SPACEBOY COOKIE CUTTER SET',\n",
       " 'SET OF 20 KIDS COOKIE CUTTERS',\n",
       " 'VICTORIAN GLASS HANGING T-LIGHT',\n",
       " 'SINGLE HEART ZINC T-LIGHT HOLDER',\n",
       " 'RED HANGING HEART T-LIGHT HOLDER',\n",
       " 'HANGING METAL STAR LANTERN',\n",
       " 'SILVER HANGING T-LIGHT HOLDER',\n",
       " 'DOORMAT RED RETROSPOT',\n",
       " 'DOORMAT HEARTS',\n",
       " 'NATURAL SLATE RECTANGLE CHALKBOARD',\n",
       " 'LOVEBIRD HANGING DECORATION WHITE ',\n",
       " 'ASSORTED COLOUR BIRD ORNAMENT',\n",
       " 'HOME BUILDING BLOCK WORD',\n",
       " 'LOVE BUILDING BLOCK WORD',\n",
       " 'PHOTO FRAME CORNICE',\n",
       " 'CARD CIRCUS PARADE',\n",
       " 'AIRLINE BAG VINTAGE TOKYO 78',\n",
       " 'RED RETROSPOT UMBRELLA',\n",
       " 'BLACK/BLUE POLKADOT UMBRELLA',\n",
       " 'RED 3 PIECE RETROSPOT CUTLERY SET',\n",
       " 'SET OF 72 RETROSPOT PAPER  DOILIES',\n",
       " 'BLUE COAT RACK PARIS FASHION',\n",
       " 'PLASTERS IN TIN SKULLS',\n",
       " 'CARD BIRTHDAY COWBOY',\n",
       " 'PACK 3 BOXES CHRISTMAS PANNETONE',\n",
       " 'ROTATING SILVER ANGELS T-LIGHT HLDR',\n",
       " 'COSY HOUR GIANT TUBE MATCHES',\n",
       " 'RIBBON REEL MAKING SNOWMEN ',\n",
       " '4 TRADITIONAL SPINNING TOPS',\n",
       " 'SET OF 6 SOLDIER SKITTLES',\n",
       " 'BAG 500g SWIRLY MARBLES',\n",
       " '5 STRAND GLASS NECKLACE CRYSTAL',\n",
       " 'WHITE SKULL HOT WATER BOTTLE ',\n",
       " 'SCOTTIE DOG HOT WATER BOTTLE',\n",
       " 'SQUARECUSHION COVER PINK UNION FLAG',\n",
       " 'SPACEBOY CHILDRENS EGG CUP',\n",
       " \"CHILDREN'S SPACEBOY MUG\",\n",
       " 'HAND WARMER SCOTTY DOG DESIGN',\n",
       " 'FELTCRAFT CUSHION OWL',\n",
       " 'BLACK CANDELABRA T-LIGHT HOLDER',\n",
       " 'TOY TIDY DOLLY GIRL DESIGN',\n",
       " 'SET 12 LAVENDER  BOTANICAL T-LIGHTS',\n",
       " 'UNION JACK FLAG LUGGAGE TAG',\n",
       " 'RED HEART LUGGAGE TAG',\n",
       " 'RED GLASS TASSLE BAG CHARM',\n",
       " 'CLEAR ACRYLIC FACETED BANGLE',\n",
       " '5 STRAND GLASS NECKLACE CRYSTAL',\n",
       " 'DOORMAT UNION JACK GUNS AND ROSES',\n",
       " 'VANILLA SCENT CANDLE JEWELLED BOX',\n",
       " 'FULL ENGLISH BREAKFAST PLATE',\n",
       " 'BLACK CANDELABRA T-LIGHT HOLDER',\n",
       " 'MAGIC DRAWING SLATE CIRCUS PARADE  ',\n",
       " 'CHRISTMAS HANGING HEART WITH BELL',\n",
       " 'CAKE STAND VICTORIAN FILIGREE MED',\n",
       " 'PAISLEY PATTERN  STICKERS',\n",
       " 'FLOWERS  STICKERS',\n",
       " 'PINK NEW BAROQUECANDLESTICK CANDLE',\n",
       " 'BLUE NEW BAROQUE CANDLESTICK CANDLE',\n",
       " 'JUMBO STORAGE BAG SUKI',\n",
       " 'BLACK LOVE BIRD CANDLE',\n",
       " \"PINK B'FLY C/COVER W BOBBLES\",\n",
       " 'PINK UNION JACK  LUGGAGE TAG',\n",
       " '6 RIBBONS ELEGANT CHRISTMAS ',\n",
       " 'AGED GLASS SILVER T-LIGHT HOLDER',\n",
       " 'BOOM BOX SPEAKER GIRLS',\n",
       " '6 RIBBONS SHIMMERING PINKS ',\n",
       " ' SET 2 TEA TOWELS I LOVE LONDON ',\n",
       " 'JUMBO BAG OWLS',\n",
       " 'SANDWICH BATH SPONGE',\n",
       " 'OWL DOORSTOP',\n",
       " '5 STRAND GLASS NECKLACE CRYSTAL',\n",
       " 'HAND WARMER UNION JACK',\n",
       " 'LARGE POPCORN HOLDER ',\n",
       " 'PAINTED METAL STAR WITH HOLLY BELLS',\n",
       " 'PAINTED METAL HEART WITH HOLLY BELL',\n",
       " 'ANGEL DECORATION STARS ON DRESS',\n",
       " 'SMALL POPCORN HOLDER',\n",
       " 'JUMBO BAG RED RETROSPOT',\n",
       " 'JUMBO BAG STRAWBERRY',\n",
       " 'STRAWBERRY SHOPPER BAG',\n",
       " 'STRAWBERRY CHARLOTTE BAG',\n",
       " 'PACK OF 12 RED RETROSPOT TISSUES ',\n",
       " 'CHOCOLATE HOT WATER BOTTLE',\n",
       " 'LUNCH BAG CARS BLUE',\n",
       " 'LUNCH BAG SPACEBOY DESIGN ',\n",
       " 'ROUND SNACK BOXES SET OF4 WOODLAND ',\n",
       " 'LUNCH BAG DOLLY GIRL DESIGN',\n",
       " 'LUNCH BAG SUKI  DESIGN ',\n",
       " 'LUNCH BAG  BLACK SKULL.',\n",
       " 'ROUND SNACK BOXES SET OF 4 FRUITS ',\n",
       " 'ROUND SNACK BOXES SET OF 4 SKULLS',\n",
       " 'DOLLY GIRL LUNCH BOX',\n",
       " 'SPACEBOY LUNCH BOX ',\n",
       " 'GREEN POLKADOT PLATE ',\n",
       " 'BLUE POLKADOT PLATE ',\n",
       " 'RED RETROSPOT PLATE ',\n",
       " 'PINK  POLKADOT PLATE ',\n",
       " 'FELTCRAFT DOLL MOLLY',\n",
       " 'FELTCRAFT CHRISTMAS FAIRY',\n",
       " 'TRAVEL SEWING KIT',\n",
       " 'SET OF 3 NOTEBOOKS IN PARCEL',\n",
       " 'RED RETROSPOT TAPE',\n",
       " 'COSY SLIPPER SHOES SMALL  RED ',\n",
       " '6 RIBBONS RUSTIC CHARM',\n",
       " 'SCANDINAVIAN REDS RIBBONS',\n",
       " '12 DAISY PEGS IN WOOD BOX',\n",
       " 'HOT WATER BOTTLE BABUSHKA ',\n",
       " 'FELTCRAFT PRINCESS CHARLOTTE DOLL',\n",
       " 'FELTCRAFT CHRISTMAS FAIRY',\n",
       " 'FELTCRAFT PRINCESS CHARLOTTE DOLL',\n",
       " '6 RIBBONS RUSTIC CHARM',\n",
       " 'COSY SLIPPER SHOES SMALL  RED ',\n",
       " 'SCANDINAVIAN REDS RIBBONS',\n",
       " '5 HOOK HANGER RED MAGIC TOADSTOOL',\n",
       " 'CHRISTMAS CRAFT TREE TOP ANGEL',\n",
       " 'CHRISTMAS CRAFT LITTLE FRIENDS',\n",
       " '5 HOOK HANGER RED MAGIC TOADSTOOL',\n",
       " '6 RIBBONS RUSTIC CHARM',\n",
       " '12 DAISY PEGS IN WOOD BOX',\n",
       " 'SET OF 3 NOTEBOOKS IN PARCEL',\n",
       " '5 HOOK HANGER MAGIC TOADSTOOL',\n",
       " 'SCANDINAVIAN REDS RIBBONS',\n",
       " 'RED TOADSTOOL LED NIGHT LIGHT',\n",
       " '5 HOOK HANGER RED MAGIC TOADSTOOL',\n",
       " 'COSY SLIPPER SHOES SMALL GREEN',\n",
       " 'COSY SLIPPER SHOES SMALL  RED ',\n",
       " 'FELTCRAFT DOLL ROSIE',\n",
       " 'FELTCRAFT DOLL EMILY',\n",
       " 'FELTCRAFT PRINCESS OLIVIA DOLL',\n",
       " 'REX CASH+CARRY JUMBO SHOPPER',\n",
       " 'FELTCRAFT DOLL MOLLY',\n",
       " 'FELTCRAFT CUSHION OWL',\n",
       " 'CHRISTMAS CRAFT LITTLE FRIENDS',\n",
       " 'FELTCRAFT CUSHION RABBIT',\n",
       " 'FELTCRAFT CUSHION BUTTERFLY',\n",
       " \"PAPER CHAIN KIT 50'S CHRISTMAS \",\n",
       " 'TOTE BAG I LOVE LONDON',\n",
       " 'FOLDING UMBRELLA PINKWHITE POLKADOT',\n",
       " 'FOLDING UMBRELLA CREAM POLKADOT',\n",
       " 'FOLDING UMBRELLA WHITE/RED POLKADOT',\n",
       " 'SET 10 LIGHTS NIGHT OWL',\n",
       " 'SMALL POPCORN HOLDER',\n",
       " ' SET 2 TEA TOWELS I LOVE LONDON ',\n",
       " 'FOLDING UMBRELLA RED/WHITE POLKADOT',\n",
       " 'BABUSHKA LIGHTS STRING OF 10',\n",
       " 'LUNCH BAG RED RETROSPOT',\n",
       " 'S/4 VALENTINE DECOUPAGE HEART BOX',\n",
       " 'SOLDIERS EGG CUP ',\n",
       " 'RED RETROSPOT MINI CASES',\n",
       " '60 CAKE CASES VINTAGE CHRISTMAS',\n",
       " 'PAPER CHAIN KIT VINTAGE CHRISTMAS',\n",
       " 'RIBBON REEL CHRISTMAS SOCK BAUBLE',\n",
       " 'RIBBON REEL SNOWY VILLAGE',\n",
       " 'RIBBON REEL MAKING SNOWMEN ',\n",
       " 'SET OF 20 VINTAGE CHRISTMAS NAPKINS',\n",
       " 'TURQUOISE CHRISTMAS TREE ',\n",
       " 'RED STAR CARD HOLDER',\n",
       " 'WICKER WREATH SMALL',\n",
       " 'HEART OF WICKER LARGE',\n",
       " 'ADVENT CALENDAR GINGHAM SACK',\n",
       " 'HEART OF WICKER SMALL',\n",
       " 'FELTCRAFT BUTTERFLY HEARTS',\n",
       " 'PARTY CONE CHRISTMAS DECORATION ',\n",
       " 'VINTAGE HEADS AND TAILS CARD GAME ',\n",
       " 'WICKER STAR ',\n",
       " 'VINTAGE SNAP CARDS',\n",
       " 'FELTCRAFT 6 FLOWER FRIENDS',\n",
       " ' SET 2 TEA TOWELS I LOVE LONDON ',\n",
       " 'JAM MAKING SET PRINTED',\n",
       " 'BIRD DECORATION RED RETROSPOT',\n",
       " 'CHRISTMAS GINGHAM TREE',\n",
       " 'CHRISTMAS GINGHAM STAR',\n",
       " 'CHRISTMAS GINGHAM HEART',\n",
       " 'PACK OF 12 PINK POLKADOT TISSUES',\n",
       " 'FELTCRAFT PRINCESS LOLA DOLL',\n",
       " 'PACK OF 12 LONDON TISSUES ',\n",
       " 'PURPLE DRAWERKNOB ACRYLIC EDWARDIAN',\n",
       " \"CHILDREN'S APRON DOLLY GIRL \",\n",
       " 'CHILDRENS APRON SPACEBOY DESIGN',\n",
       " 'CHRISTMAS LIGHTS 10 SANTAS ',\n",
       " 'CHRISTMAS LIGHTS 10 REINDEER',\n",
       " \"PAPER CHAIN KIT 50'S CHRISTMAS \",\n",
       " 'FELTCRAFT CHRISTMAS FAIRY',\n",
       " 'PACK OF 72 RETROSPOT CAKE CASES',\n",
       " 'PACK OF 60 MUSHROOM CAKE CASES',\n",
       " '60 CAKE CASES DOLLY GIRL DESIGN',\n",
       " 'PACK OF 60 PINK PAISLEY CAKE CASES',\n",
       " 'HAND WARMER BABUSHKA DESIGN',\n",
       " 'HAND WARMER BIRD DESIGN',\n",
       " 'HAND WARMER OWL DESIGN',\n",
       " 'HAND WARMER RED RETROSPOT',\n",
       " 'SET 12 RETRO WHITE CHALK STICKS',\n",
       " 'FELTCRAFT HAIRBAND RED AND BLUE',\n",
       " 'FELTCRAFT HAIRBAND PINK AND PURPLE',\n",
       " 'FELTCRAFT HAIRBANDS PINK AND WHITE ',\n",
       " 'TV DINNER TRAY DOLLY GIRL',\n",
       " 'PLASTERS IN TIN VINTAGE PAISLEY ',\n",
       " 'PLASTERS IN TIN SPACEBOY',\n",
       " 'PLASTERS IN TIN WOODLAND ANIMALS',\n",
       " 'MAGIC DRAWING SLATE SPACEBOY ',\n",
       " 'MAGIC DRAWING SLATE CIRCUS PARADE  ',\n",
       " 'MAGIC DRAWING SLATE GO TO THE FAIR ',\n",
       " 'MAGIC DRAWING SLATE DOLLY GIRL ',\n",
       " 'CHARLIE + LOLA RED HOT WATER BOTTLE',\n",
       " 'HOT WATER BOTTLE BABUSHKA ',\n",
       " 'URBAN BLACK RIBBONS ',\n",
       " 'FELTCRAFT PRINCESS CHARLOTTE DOLL',\n",
       " 'SET OF 6 T-LIGHTS TOADSTOOLS',\n",
       " 'ROTATING LEAVES T-LIGHT HOLDER',\n",
       " 'CUPCAKE LACE PAPER SET 6',\n",
       " 'WOODEN FRAME ANTIQUE WHITE ',\n",
       " 'WOODEN BOX OF DOMINOES',\n",
       " 'TRADITIONAL WOODEN CATCH CUP GAME ',\n",
       " 'TRADITIONAL WOODEN SKIPPING ROPE',\n",
       " 'S/6 WOODEN SKITTLES IN COTTON BAG',\n",
       " 'RED METAL BEACH SPADE ',\n",
       " 'BOYS VINTAGE TIN SEASIDE BUCKET',\n",
       " 'GIRLS VINTAGE TIN SEASIDE BUCKET',\n",
       " 'GREY HEART HOT WATER BOTTLE',\n",
       " 'SCOTTIE DOG HOT WATER BOTTLE',\n",
       " 'BIRD HOUSE HOT WATER BOTTLE',\n",
       " 'KINGS CHOICE TEA CADDY ',\n",
       " 'KINGS CHOICE BISCUIT TIN',\n",
       " 'METAL SIGN EMPIRE TEA',\n",
       " 'HOMEMADE JAM SCENTED CANDLES',\n",
       " 'SET OF 6 SOLDIER SKITTLES',\n",
       " 'FAWN BLUE HOT WATER BOTTLE',\n",
       " 'HAND WARMER RED RETROSPOT',\n",
       " 'HOT WATER BOTTLE BABUSHKA ',\n",
       " 'WHITE SKULL HOT WATER BOTTLE ',\n",
       " 'RETROSPOT HEART HOT WATER BOTTLE',\n",
       " 'RED WOOLLY HOTTIE WHITE HEART.',\n",
       " 'SCOTTIE DOG HOT WATER BOTTLE',\n",
       " 'GREY HEART HOT WATER BOTTLE',\n",
       " 'HOT WATER BOTTLE BABUSHKA ',\n",
       " 'PACK OF 6 BIRDY GIFT TAGS',\n",
       " 'CHILLI LIGHTS',\n",
       " 'PIGGY BANK RETROSPOT ',\n",
       " 'CERAMIC STRAWBERRY MONEY BOX',\n",
       " 'CERAMIC STRAWBERRY CAKE MONEY BANK',\n",
       " 'CERAMIC CHERRY CAKE MONEY BANK',\n",
       " 'CERAMIC HEART FAIRY CAKE MONEY BANK',\n",
       " 'CERAMIC PIRATE CHEST MONEY BANK',\n",
       " 'DOORSTOP RETROSPOT HEART',\n",
       " 'GINGHAM HEART  DOORSTOP RED',\n",
       " 'RETROSPOT BABUSHKA DOORSTOP',\n",
       " 'SILK PURSE BABUSHKA RED',\n",
       " 'SILK PURSE BABUSHKA PINK',\n",
       " 'JAM MAKING SET PRINTED',\n",
       " 'CHRISTMAS CRAFT WHITE FAIRY ',\n",
       " 'CHRISTMAS CRAFT LITTLE FRIENDS',\n",
       " 'COSY HOUR CIGAR BOX MATCHES ',\n",
       " 'RED TEA TOWEL CLASSIC DESIGN',\n",
       " 'RETROSPOT CHILDRENS APRON',\n",
       " 'COLOURING PENCILS BROWN TUBE',\n",
       " '4 IVORY DINNER CANDLES SILVER FLOCK',\n",
       " 'ZINC METAL HEART DECORATION',\n",
       " 'GREEN FERN NOTEBOOK',\n",
       " 'BLUE PAISLEY NOTEBOOK',\n",
       " 'CHRYSANTHEMUM NOTEBOOK',\n",
       " 'LARGE CHINESE STYLE SCISSOR',\n",
       " 'SMALL CHINESE STYLE SCISSOR',\n",
       " 'S/6 WOODEN SKITTLES IN COTTON BAG',\n",
       " 'TRADITIONAL WOODEN SKIPPING ROPE',\n",
       " 'SET OF 6 SOLDIER SKITTLES',\n",
       " '4 TRADITIONAL SPINNING TOPS',\n",
       " 'ROTATING SILVER ANGELS T-LIGHT HLDR',\n",
       " 'RETROSPOT CHILDRENS APRON',\n",
       " 'HANGING GLASS ETCHED TEALIGHT',\n",
       " 'BLUE NEW BAROQUE CANDLESTICK CANDLE',\n",
       " 'KINGS CHOICE GIANT TUBE MATCHES',\n",
       " 'COSY HOUR GIANT TUBE MATCHES',\n",
       " 'HYACINTH BULB T-LIGHT CANDLES',\n",
       " 'FRENCH WC SIGN BLUE METAL',\n",
       " 'KINGS CHOICE GIANT TUBE MATCHES',\n",
       " 'FAIRY SOAP SOAP HOLDER',\n",
       " 'GREEN GIANT GARDEN THERMOMETER',\n",
       " 'IVORY GIANT GARDEN THERMOMETER',\n",
       " 'BLUE GIANT GARDEN THERMOMETER',\n",
       " 'RETROSPOT HEART HOT WATER BOTTLE',\n",
       " 'CHICK GREY HOT WATER BOTTLE',\n",
       " 'VICTORIAN SEWING BOX SMALL ',\n",
       " 'VICTORIAN SEWING BOX MEDIUM',\n",
       " 'WASHROOM METAL SIGN',\n",
       " 'BLACK SWEETHEART BRACELET',\n",
       " 'DIAMANTE HAIR GRIP PACK/2 BLACK DIA',\n",
       " 'BLACK DIAMANTE EXPANDABLE RING',\n",
       " 'DIAMANTE HAIR GRIP PACK/2 RUBY',\n",
       " 'DIAMANTE HAIR GRIP PACK/2 MONTANA',\n",
       " 'BLUE SWEETHEART BRACELET',\n",
       " 'PINK SWEETHEART BRACELET',\n",
       " 'PURPLE SWEETHEART BRACELET',\n",
       " 'JUMBO BAG PINK POLKADOT',\n",
       " 'JUMBO BAG RED RETROSPOT',\n",
       " 'ASSORTED COLOUR BIRD ORNAMENT',\n",
       " \"PAPER CHAIN KIT 50'S CHRISTMAS \",\n",
       " 'RIBBON REEL CHRISTMAS PRESENT ',\n",
       " 'FIRST AID TIN',\n",
       " 'MAKE YOUR OWN MONSOON CARD KIT',\n",
       " 'PACK OF 12 HEARTS DESIGN TISSUES ',\n",
       " 'PACK OF 12 RED RETROSPOT TISSUES ',\n",
       " 'SOLDIERS EGG CUP ',\n",
       " 'HEART IVORY TRELLIS SMALL',\n",
       " 'HEART FILIGREE DOVE  SMALL',\n",
       " 'HEART FILIGREE DOVE LARGE',\n",
       " 'PACK 3 BOXES BIRD PANNETONE ',\n",
       " 'PACK 3 BOXES CHRISTMAS PANNETONE',\n",
       " 'SMALL POPCORN HOLDER',\n",
       " 'PACK OF 60 PINK PAISLEY CAKE CASES',\n",
       " 'SET OF 6 SOLDIER SKITTLES',\n",
       " 'SWIRLY CIRCULAR RUBBERS IN BAG',\n",
       " 'VINTAGE PAISLEY STATIONERY SET',\n",
       " 'PAPER CHAIN KIT VINTAGE CHRISTMAS',\n",
       " 'SET/10 BLUE POLKADOT PARTY CANDLES',\n",
       " 'RIBBON REEL SOCKS AND MITTENS',\n",
       " '60 CAKE CASES VINTAGE CHRISTMAS',\n",
       " 'CHRISTMAS METAL TAGS ASSORTED ',\n",
       " 'CHRISTMAS TREE T-LIGHT HOLDER',\n",
       " 'STAR  T-LIGHT HOLDER ',\n",
       " 'HEART T-LIGHT HOLDER ',\n",
       " 'MINI FUNKY DESIGN TAPES',\n",
       " 'SET OF 6 T-LIGHTS SNOWMEN',\n",
       " 'STAR WOODEN CHRISTMAS DECORATION',\n",
       " 'WOODEN HEART CHRISTMAS SCANDINAVIAN',\n",
       " 'CHRISTMAS RETROSPOT TREE WOOD',\n",
       " 'SET OF 6 T-LIGHTS SANTA',\n",
       " 'SET/9 CHRISTMAS T-LIGHTS SCENTED ',\n",
       " 'BLUE ROSE FABRIC MIRROR',\n",
       " 'THREE CANVAS LUGGAGE TAGS',\n",
       " 'RETROSPOT PARTY BAG + STICKER SET',\n",
       " 'PLASTERS IN TIN VINTAGE PAISLEY ',\n",
       " 'RETROSPOT SMALL TUBE MATCHES',\n",
       " 'HAND WARMER SCOTTY DOG DESIGN',\n",
       " '3D CHRISTMAS STAMPS STICKERS ',\n",
       " 'HAND WARMER SCOTTY DOG DESIGN',\n",
       " 'CLOTHES PEGS RETROSPOT PACK 24 ',\n",
       " '36 FOIL HEART CAKE CASES',\n",
       " 'PACK OF 6 SWEETIE GIFT BOXES',\n",
       " 'PACK OF 72 RETROSPOT CAKE CASES',\n",
       " 'PACK OF 72 RETROSPOT CAKE CASES',\n",
       " 'PACK OF 6 BIRDY GIFT TAGS',\n",
       " 'SET/10 RED POLKADOT PARTY CANDLES',\n",
       " 'SET/10 PINK POLKADOT PARTY CANDLES',\n",
       " 'SET OF 3 NOTEBOOKS IN PARCEL',\n",
       " 'STAR  T-LIGHT HOLDER ',\n",
       " 'CINAMMON SET OF 9 T-LIGHTS',\n",
       " 'ORANGE SCENTED SET/9 T-LIGHTS',\n",
       " 'RIBBON REEL STRIPES DESIGN ',\n",
       " 'SET OF 2 TINS JARDIN DE PROVENCE',\n",
       " 'MAKE YOUR OWN PLAYTIME CARD KIT',\n",
       " 'DINOSAURS  WRITING SET ',\n",
       " 'BALLOONS  WRITING SET ',\n",
       " 'SKULLS WRITING SET ',\n",
       " 'COSY SLIPPER SHOES SMALL  RED ',\n",
       " 'DOORMAT BLACK FLOCK ',\n",
       " 'JUMBO  BAG BAROQUE BLACK WHITE',\n",
       " 'JAM MAKING SET WITH JARS',\n",
       " 'ORANGE SCENTED SET/9 T-LIGHTS',\n",
       " 'CINAMMON SET OF 9 T-LIGHTS',\n",
       " 'CHRISTMAS DECOUPAGE CANDLE',\n",
       " 'HEART T-LIGHT HOLDER ',\n",
       " 'GROW YOUR OWN BASIL IN ENAMEL MUG',\n",
       " 'OFFICE MUG WARMER POLKADOT',\n",
       " 'SMALL POPCORN HOLDER',\n",
       " 'JUMBO BAG DOLLY GIRL DESIGN',\n",
       " 'JAM MAKING SET WITH JARS',\n",
       " 'JAM MAKING SET PRINTED',\n",
       " '36 PENCILS TUBE RED RETROSPOT',\n",
       " '36 PENCILS TUBE WOODLAND',\n",
       " 'SET OF 6 SOLDIER SKITTLES',\n",
       " 'HAND WARMER UNION JACK',\n",
       " 'HAND WARMER RED RETROSPOT',\n",
       " 'JUMBO SHOPPER VINTAGE RED PAISLEY',\n",
       " 'RIBBON REEL SNOWY VILLAGE',\n",
       " 'VINTAGE UNION JACK BUNTING',\n",
       " 'JAM MAKING SET WITH JARS',\n",
       " 'RIBBON REEL STRIPES DESIGN ',\n",
       " 'RETRO LONGBOARD IRONING BOARD COVER',\n",
       " '3D DOG PICTURE PLAYING CARDS',\n",
       " 'RETROSPOT CIGAR BOX MATCHES ',\n",
       " 'SET/9 CHRISTMAS T-LIGHTS SCENTED ',\n",
       " 'ROTATING SILVER ANGELS T-LIGHT HLDR',\n",
       " 'SAVE THE PLANET COTTON TOTE BAG',\n",
       " 'SET OF 20 VINTAGE CHRISTMAS NAPKINS',\n",
       " 'PAPER BUNTING WHITE LACE',\n",
       " 'GENTLEMAN SHIRT REPAIR KIT ',\n",
       " 'CARD I LOVE LONDON ',\n",
       " 'PAPER CHAIN KIT VINTAGE CHRISTMAS',\n",
       " 'MIRRORED WALL ART FOXY',\n",
       " 'MIRRORED WALL ART GENTS',\n",
       " 'AIRLINE BAG VINTAGE JET SET WHITE',\n",
       " 'JAM MAKING SET PRINTED',\n",
       " \"POTTING SHED SOW 'N' GROW SET\",\n",
       " 'BABUSHKA LIGHTS STRING OF 10',\n",
       " 'REX CASH+CARRY JUMBO SHOPPER',\n",
       " 'AIRLINE BAG VINTAGE WORLD CHAMPION ',\n",
       " 'HAND WARMER BIRD DESIGN',\n",
       " 'CHRISTMAS CRAFT LITTLE FRIENDS',\n",
       " 'PINK HEARTS PAPER GARLAND',\n",
       " 'POTTING SHED SEED ENVELOPES',\n",
       " 'HI TEC ALPINE HAND WARMER',\n",
       " 'FELTCRAFT CHRISTMAS FAIRY',\n",
       " 'HI TEC ALPINE HAND WARMER',\n",
       " 'ROTATING SILVER ANGELS T-LIGHT HLDR',\n",
       " '3 STRIPEY MICE FELTCRAFT',\n",
       " 'FELTCRAFT 6 FLOWER FRIENDS',\n",
       " 'CHRISTMAS CRAFT LITTLE FRIENDS',\n",
       " 'VINTAGE UNION JACK CUSHION COVER',\n",
       " 'POLYESTER FILLER PAD 45x45cm',\n",
       " 'DOLLY GIRL LUNCH BOX',\n",
       " 'PACK OF 12 LONDON TISSUES ',\n",
       " 'CARD DOLLY GIRL ',\n",
       " 'CARD BILLBOARD FONT',\n",
       " 'RAINY LADIES BIRTHDAY CARD',\n",
       " 'GREY HEART HOT WATER BOTTLE',\n",
       " 'RED WOOLLY HOTTIE WHITE HEART.',\n",
       " 'RED WHITE SCARF  HOT WATER BOTTLE',\n",
       " ' SET 2 TEA TOWELS I LOVE LONDON ',\n",
       " 'SET OF 2 TEA TOWELS APPLE AND PEARS',\n",
       " 'SET/2 RED RETROSPOT TEA TOWELS ',\n",
       " 'LOVE BUILDING BLOCK WORD',\n",
       " 'HOME BUILDING BLOCK WORD',\n",
       " 'ASSORTED COLOUR BIRD ORNAMENT',\n",
       " 'LANTERN CREAM GAZEBO ',\n",
       " 'BLUE BIRDHOUSE DECORATION',\n",
       " 'WHITE HANGING HEART T-LIGHT HOLDER',\n",
       " 'JAM MAKING SET WITH JARS',\n",
       " 'SET OF 6 T-LIGHTS TOADSTOOLS',\n",
       " 'CLASSIC FRENCH STYLE BASKET NATURAL',\n",
       " 'CRAZY DAISY HEART DECORATION',\n",
       " 'GIN + TONIC DIET METAL SIGN',\n",
       " 'IVORY GIANT GARDEN THERMOMETER',\n",
       " 'CARD HOLDER GINGHAM HEART',\n",
       " 'SMALL STRIPES CHOCOLATE GIFT BAG ',\n",
       " 'S/6 WOODEN SKITTLES IN COTTON BAG',\n",
       " 'HAND WARMER RED RETROSPOT',\n",
       " 'HAND WARMER UNION JACK',\n",
       " 'FRENCH WC SIGN BLUE METAL',\n",
       " 'PINK UNION JACK  LUGGAGE TAG',\n",
       " 'PIZZA PLATE IN BOX',\n",
       " 'HEART OF WICKER LARGE',\n",
       " 'PINK HEART DOTS HOT WATER BOTTLE',\n",
       " 'PLACE SETTING WHITE HEART',\n",
       " 'SET OF 4 NAPKIN CHARMS LEAVES   ',\n",
       " 'SET OF 4 NAPKIN CHARMS STARS   ',\n",
       " 'SET OF 4 NAPKIN CHARMS CUTLERY',\n",
       " 'CARAVAN SQUARE TISSUE BOX',\n",
       " 'PLASTERS IN TIN SKULLS',\n",
       " 'PLASTERS IN TIN SPACEBOY',\n",
       " 'BUTTON BOX ',\n",
       " 'PLASTERS IN TIN VINTAGE PAISLEY ',\n",
       " '12 MESSAGE CARDS WITH ENVELOPES',\n",
       " 'SMALL RED BABUSHKA NOTEBOOK ',\n",
       " 'CUPCAKE LACE PAPER SET 6',\n",
       " 'PACK 3 BOXES CHRISTMAS PANNETONE',\n",
       " 'HERB MARKER MINT',\n",
       " 'HERB MARKER ROSEMARY',\n",
       " 'HERB MARKER BASIL',\n",
       " 'HERB MARKER CHIVES ',\n",
       " 'HERB MARKER PARSLEY',\n",
       " 'HERB MARKER THYME',\n",
       " 'WHITE HANGING HEART T-LIGHT HOLDER',\n",
       " 'METAL MERRY CHRISTMAS WREATH',\n",
       " 'WHITE CHRISTMAS GARLAND STARS TREES',\n",
       " 'RETROSPOT SMALL TUBE MATCHES',\n",
       " 'RETROSPOT GIANT TUBE MATCHES',\n",
       " 'PLACE SETTING WHITE STAR',\n",
       " 'GROW YOUR OWN BASIL IN ENAMEL MUG',\n",
       " '36 FOIL STAR CAKE CASES ',\n",
       " '36 FOIL HEART CAKE CASES',\n",
       " 'PACK OF 6 SWEETIE GIFT BOXES',\n",
       " 'PACK OF 6 HANDBAG GIFT BOXES',\n",
       " 'GARLAND WOODEN HAPPY EASTER',\n",
       " 'CALENDAR PAPER CUT DESIGN',\n",
       " 'CALENDAR IN SEASON DESIGN',\n",
       " 'SMALL POPCORN HOLDER',\n",
       " 'BLUE PAISLEY TISSUE BOX',\n",
       " 'HEART OF WICKER SMALL',\n",
       " 'SKULLS SQUARE TISSUE BOX',\n",
       " 'PINK PAISLEY SQUARE TISSUE BOX ',\n",
       " 'PACK OF 6 HANDBAG GIFT BOXES',\n",
       " 'TOAST ITS - HAPPY BIRTHDAY',\n",
       " 'SET/10 IVORY POLKADOT PARTY CANDLES',\n",
       " 'SET/10 BLUE POLKADOT PARTY CANDLES',\n",
       " 'SET/10 PINK POLKADOT PARTY CANDLES',\n",
       " 'SET OF 3 HEART COOKIE CUTTERS',\n",
       " 'PACK OF 12 HEARTS DESIGN TISSUES ',\n",
       " 'SKULLS STORAGE BOX SMALL',\n",
       " 'REX CASH+CARRY JUMBO SHOPPER',\n",
       " 'JUMBO STORAGE BAG SKULLS',\n",
       " 'GARDEN PATH JOURNAL',\n",
       " 'HEART OF WICKER SMALL',\n",
       " 'BLACK ORANGE SQUEEZER',\n",
       " 'SET OF 72 GREEN PAPER DOILIES',\n",
       " 'RETROSPOT RED WASHING UP GLOVES',\n",
       " 'SMALL LICORICE DES PINK BOWL',\n",
       " 'SWISS ROLL TOWEL, CHOCOLATE  SPOTS',\n",
       " 'CREAM SWEETHEART EGG HOLDER',\n",
       " 'PINK 3 PIECE POLKADOT CUTLERY SET',\n",
       " 'PINK PARTY BAGS',\n",
       " 'BLUE PARTY BAGS ',\n",
       " 'FELTCRAFT PRINCESS CHARLOTTE DOLL',\n",
       " 'PINK CREAM FELT CRAFT TRINKET BOX ',\n",
       " 'FELTCRAFT CUSHION BUTTERFLY',\n",
       " 'RED RETROSPOT OVEN GLOVE DOUBLE',\n",
       " 'RIDGED GLASS STORAGE JAR CREAM LID',\n",
       " 'BOX OF 6 ASSORTED COLOUR TEASPOONS',\n",
       " 'PACK OF 20 NAPKINS PANTRY DESIGN',\n",
       " 'HAND WARMER OWL DESIGN',\n",
       " 'HAND WARMER SCOTTY DOG DESIGN',\n",
       " 'HAND WARMER RED RETROSPOT',\n",
       " 'STAR DECORATION PAINTED ZINC ',\n",
       " 'CHRISTMAS HANGING STAR WITH BELL',\n",
       " 'SILK PURSE BABUSHKA PINK',\n",
       " 'MULTICOLOUR  CONFETTI IN TUBE',\n",
       " 'ORANGE SCENTED SET/9 T-LIGHTS',\n",
       " 'SET/10 RED POLKADOT PARTY CANDLES',\n",
       " 'PLACE SETTING WHITE HEART',\n",
       " 'ZINC METAL HEART DECORATION',\n",
       " 'AGED GLASS SILVER T-LIGHT HOLDER',\n",
       " 'CHOCOLATE 3 WICK MORRIS BOX CANDLE',\n",
       " 'CINAMMON SET OF 9 T-LIGHTS',\n",
       " 'RIBBON REEL CHRISTMAS SOCK BAUBLE',\n",
       " 'RETRO COFFEE MUGS ASSORTED',\n",
       " 'CHRISTMAS LIGHTS 10 REINDEER',\n",
       " 'CHRISTMAS TOILET ROLL',\n",
       " 'PLACE SETTING WHITE HEART',\n",
       " 'ZINC METAL HEART DECORATION',\n",
       " 'SET/5 RED RETROSPOT LID GLASS BOWLS',\n",
       " 'FELTCRAFT PRINCESS CHARLOTTE DOLL',\n",
       " 'PINK HEARTS PAPER GARLAND',\n",
       " 'BLUE 3 PIECE POLKADOT CUTLERY SET',\n",
       " 'CHRISTMAS HANGING STAR WITH BELL',\n",
       " 'WHITE BELL HONEYCOMB PAPER ',\n",
       " 'BLACK/BLUE POLKADOT UMBRELLA',\n",
       " 'SET/10 BLUE POLKADOT PARTY CANDLES',\n",
       " ' 4 PURPLE FLOCK DINNER CANDLES',\n",
       " 'PINK & WHITE BREAKFAST TRAY',\n",
       " 'PIZZA PLATE IN BOX',\n",
       " 'ENGLISH ROSE SPIRIT LEVEL ',\n",
       " 'SET/10 PINK POLKADOT PARTY CANDLES',\n",
       " 'LARGE ROUND WICKER PLATTER ',\n",
       " 'FELTCRAFT HAIRBAND PINK AND PURPLE',\n",
       " 'RIDGED GLASS STORAGE JAR CREAM LID',\n",
       " 'HAND WARMER RED RETROSPOT',\n",
       " 'BLACK TEA TOWEL CLASSIC DESIGN',\n",
       " 'JUMBO BAG RED RETROSPOT',\n",
       " 'JUMBO STORAGE BAG SUKI',\n",
       " 'CHRISTMAS LIGHTS 10 VINTAGE BAUBLES',\n",
       " 'BABUSHKA LIGHTS STRING OF 10',\n",
       " 'FELTCRAFT 6 FLOWER FRIENDS',\n",
       " 'RETROSPOT HEART HOT WATER BOTTLE',\n",
       " 'VICTORIAN SEWING BOX SMALL ',\n",
       " 'HOMEMADE JAM SCENTED CANDLES',\n",
       " 'ROSES REGENCY TEACUP AND SAUCER ',\n",
       " 'T-LIGHT HOLDER HANGING LACE',\n",
       " 'LOVEBIRD HANGING DECORATION WHITE ',\n",
       " 'SCOTTIE DOG HOT WATER BOTTLE',\n",
       " 'SWISS ROLL TOWEL, CHOCOLATE  SPOTS',\n",
       " 'CREAM SLICE FLANNEL CHOCOLATE SPOT ',\n",
       " 'CREAM SLICE FLANNEL PINK SPOT ',\n",
       " 'GREEN REGENCY TEACUP AND SAUCER',\n",
       " 'EIGHT PIECE DINOSAUR SET',\n",
       " 'VINTAGE HEADS AND TAILS CARD GAME ',\n",
       " 'HEADS AND TAILS SPORTING FUN',\n",
       " 'FELTCRAFT 6 FLOWER FRIENDS',\n",
       " \"ASS COL SMALL SAND GECKO P'WEIGHT\",\n",
       " 'ENAMEL MEASURING JUG CREAM',\n",
       " 'ENAMEL FIRE BUCKET CREAM',\n",
       " '12 PENCILS SMALL TUBE SKULL',\n",
       " '12 PENCIL SMALL TUBE WOODLAND',\n",
       " 'BLUE PAPER PARASOL ',\n",
       " 'HANGING MEDINA LANTERN SMALL',\n",
       " 'RED RETROSPOT MINI CASES',\n",
       " 'VICTORIAN  METAL POSTCARD SPRING',\n",
       " 'METAL 4 HOOK HANGER FRENCH CHATEAU',\n",
       " 'BLACK KITCHEN SCALES',\n",
       " 'RED KITCHEN SCALES',\n",
       " 'IVORY KITCHEN SCALES',\n",
       " 'JUMBO BAG PINK VINTAGE PAISLEY',\n",
       " 'JUMBO BAG RED RETROSPOT',\n",
       " 'JUMBO SHOPPER VINTAGE RED PAISLEY',\n",
       " 'GREY HEART HOT WATER BOTTLE',\n",
       " 'SET OF 6 T-LIGHTS SANTA',\n",
       " 'ROTATING SILVER ANGELS T-LIGHT HLDR',\n",
       " 'MULTI COLOUR SILVER T-LIGHT HOLDER',\n",
       " '5 HOOK HANGER MAGIC TOADSTOOL',\n",
       " '3 HOOK HANGER MAGIC GARDEN',\n",
       " '5 HOOK HANGER RED MAGIC TOADSTOOL',\n",
       " 'JUMBO BAG WOODLAND ANIMALS',\n",
       " 'JUMBO BAG OWLS',\n",
       " 'HOT WATER BOTTLE BABUSHKA ',\n",
       " 'HOMEMADE JAM SCENTED CANDLES',\n",
       " \"CHILDREN'S CIRCUS PARADE MUG\",\n",
       " 'PACK 3 FIRE ENGINE/CAR PATCHES',\n",
       " 'PICTURE DOMINOES',\n",
       " 'CARD PSYCHEDELIC APPLES',\n",
       " 'HAND WARMER OWL DESIGN',\n",
       " 'PACK OF 6 BIRDY GIFT TAGS',\n",
       " 'COSY HOUR GIANT TUBE MATCHES',\n",
       " 'SET OF 72 GREEN PAPER DOILIES',\n",
       " 'IVORY ENCHANTED FOREST PLACEMAT',\n",
       " 'PACK 3 BOXES BIRD PANNETONE ',\n",
       " 'PARTY CONES CANDY ASSORTED',\n",
       " 'PACK OF 6 PANNETONE GIFT BOXES',\n",
       " 'PARTY CONE CHRISTMAS DECORATION ',\n",
       " 'CUPCAKE LACE PAPER SET 6',\n",
       " 'JUMBO SHOPPER VINTAGE RED PAISLEY',\n",
       " 'RED TOADSTOOL LED NIGHT LIGHT',\n",
       " 'PACK OF 12 LONDON TISSUES ',\n",
       " 'MEASURING TAPE BABUSHKA RED',\n",
       " 'VINTAGE PAISLEY STATIONERY SET',\n",
       " 'ROUND SNACK BOXES SET OF4 WOODLAND ',\n",
       " 'RIBBON REEL STRIPES DESIGN ',\n",
       " 'SCANDINAVIAN REDS RIBBONS',\n",
       " '6 RIBBONS RUSTIC CHARM',\n",
       " 'TRADITIONAL CHRISTMAS RIBBONS',\n",
       " 'HAND WARMER OWL DESIGN',\n",
       " 'HAND WARMER BIRD DESIGN',\n",
       " 'PAPER CHAIN KIT VINTAGE CHRISTMAS',\n",
       " 'JAM JAR WITH GREEN LID',\n",
       " 'JAM MAKING SET WITH JARS',\n",
       " 'RED ENCHANTED FOREST PLACEMAT',\n",
       " 'CHILDRENS DOLLY GIRL MUG',\n",
       " 'TOADSTOOL MONEY BOX',\n",
       " 'CUPCAKE LACE PAPER SET 6',\n",
       " 'PACK 3 BOXES CHRISTMAS PANNETONE',\n",
       " 'MAKE YOUR OWN MONSOON CARD KIT',\n",
       " 'MAKE YOUR OWN FLOWERPOWER CARD KIT',\n",
       " 'PAPER CHAIN KIT LONDON',\n",
       " 'PACK OF 6 BIRDY GIFT TAGS',\n",
       " ' SET 2 TEA TOWELS I LOVE LONDON ',\n",
       " 'JAM MAKING SET PRINTED',\n",
       " 'MEASURING TAPE BABUSHKA RED',\n",
       " 'MEASURING TAPE BABUSHKA BLUE',\n",
       " 'PENCIL CASE LIFE IS BEAUTIFUL',\n",
       " 'FELTCRAFT CUSHION OWL',\n",
       " 'FELTCRAFT CUSHION RABBIT',\n",
       " 'CAKE PLATE LOVEBIRD WHITE',\n",
       " 'STAR PORTABLE TABLE LIGHT ',\n",
       " 'GREEN CHRISTMAS TREE CARD HOLDER',\n",
       " 'STRING OF STARS CARD HOLDER',\n",
       " 'SET/12 TAPER CANDLES',\n",
       " 'MINT KITCHEN SCALES',\n",
       " 'GLASS JAR ENGLISH CONFECTIONERY',\n",
       " 'GLASS JAR DIGESTIVE BISCUITS',\n",
       " 'MILK BOTTLE WITH GLASS STOPPER ',\n",
       " 'ROSES REGENCY TEACUP AND SAUCER ',\n",
       " 'CHRISTMAS LIGHTS 10 REINDEER',\n",
       " 'SET/4 MODERN VINTAGE COTTON NAPKINS',\n",
       " 'VINTAGE UNION JACK APRON',\n",
       " 'SWALLOW SQUARE TISSUE BOX',\n",
       " 'WASHROOM METAL SIGN',\n",
       " 'NO JUNK MAIL METAL SIGN',\n",
       " 'SLATE TILE NATURAL HANGING',\n",
       " 'VINTAGE GLASS COFFEE CADDY',\n",
       " 'SILVER GLASS T-LIGHT SET',\n",
       " 'RIDGED GLASS FINGER BOWL',\n",
       " 'GLASS  BEURRE DISH',\n",
       " 'RIDGED GLASS STORAGE JAR CREAM LID',\n",
       " 'CHRISTMAS LIGHTS 10 VINTAGE BAUBLES',\n",
       " 'JUMBO SHOPPER VINTAGE RED PAISLEY',\n",
       " 'EDWARDIAN PARASOL NATURAL',\n",
       " 'EDWARDIAN PARASOL BLACK',\n",
       " 'EDWARDIAN PARASOL RED',\n",
       " 'CLASSIC WHITE FRAME',\n",
       " 'ALARM CLOCK BAKELIKE RED ',\n",
       " 'ALARM CLOCK BAKELIKE GREEN',\n",
       " 'ALARM CLOCK BAKELIKE IVORY',\n",
       " ...]"
      ]
     },
     "execution_count": 153,
     "metadata": {},
     "output_type": "execute_result"
    }
   ],
   "source": [
    "description"
   ]
  },
  {
   "cell_type": "code",
   "execution_count": 149,
   "metadata": {},
   "outputs": [
    {
     "data": {
      "text/plain": [
       "device(type='cuda')"
      ]
     },
     "execution_count": 149,
     "metadata": {},
     "output_type": "execute_result"
    }
   ],
   "source": [
    "device = torch.device('cuda' if torch.cuda.is_available() else 'cpu')\n",
    "device"
   ]
  },
  {
   "cell_type": "code",
   "execution_count": 150,
   "metadata": {},
   "outputs": [
    {
     "data": {
      "text/plain": [
       "BertModel(\n",
       "  (embeddings): BertEmbeddings(\n",
       "    (word_embeddings): Embedding(30522, 768, padding_idx=0)\n",
       "    (position_embeddings): Embedding(512, 768)\n",
       "    (token_type_embeddings): Embedding(2, 768)\n",
       "    (LayerNorm): LayerNorm((768,), eps=1e-12, elementwise_affine=True)\n",
       "    (dropout): Dropout(p=0.1, inplace=False)\n",
       "  )\n",
       "  (encoder): BertEncoder(\n",
       "    (layer): ModuleList(\n",
       "      (0-11): 12 x BertLayer(\n",
       "        (attention): BertAttention(\n",
       "          (self): BertSdpaSelfAttention(\n",
       "            (query): Linear(in_features=768, out_features=768, bias=True)\n",
       "            (key): Linear(in_features=768, out_features=768, bias=True)\n",
       "            (value): Linear(in_features=768, out_features=768, bias=True)\n",
       "            (dropout): Dropout(p=0.1, inplace=False)\n",
       "          )\n",
       "          (output): BertSelfOutput(\n",
       "            (dense): Linear(in_features=768, out_features=768, bias=True)\n",
       "            (LayerNorm): LayerNorm((768,), eps=1e-12, elementwise_affine=True)\n",
       "            (dropout): Dropout(p=0.1, inplace=False)\n",
       "          )\n",
       "        )\n",
       "        (intermediate): BertIntermediate(\n",
       "          (dense): Linear(in_features=768, out_features=3072, bias=True)\n",
       "          (intermediate_act_fn): GELUActivation()\n",
       "        )\n",
       "        (output): BertOutput(\n",
       "          (dense): Linear(in_features=3072, out_features=768, bias=True)\n",
       "          (LayerNorm): LayerNorm((768,), eps=1e-12, elementwise_affine=True)\n",
       "          (dropout): Dropout(p=0.1, inplace=False)\n",
       "        )\n",
       "      )\n",
       "    )\n",
       "  )\n",
       "  (pooler): BertPooler(\n",
       "    (dense): Linear(in_features=768, out_features=768, bias=True)\n",
       "    (activation): Tanh()\n",
       "  )\n",
       ")"
      ]
     },
     "execution_count": 150,
     "metadata": {},
     "output_type": "execute_result"
    }
   ],
   "source": [
    "model.eval()\n",
    "model.to(device)"
   ]
  },
  {
   "cell_type": "code",
   "execution_count": 161,
   "metadata": {},
   "outputs": [],
   "source": [
    "from tqdm import tqdm\n",
    "\n",
    "def encode_batch_with_progress(texts, batch_size=64):\n",
    "    all_embeddings = []\n",
    "\n",
    "    for i in tqdm(range(0, len(texts), batch_size)):\n",
    "        batch = texts[i:i+batch_size]\n",
    "        inputs = tokenizer(batch, return_tensors='pt', truncation=True, padding=True, max_length=50)\n",
    "        inputs = {k: v.to(device) for k, v in inputs.items()}\n",
    "\n",
    "        with torch.no_grad():\n",
    "            outputs = model(**inputs)\n",
    "\n",
    "        embeddings = outputs.last_hidden_state.mean(dim=1)\n",
    "        all_embeddings.append(embeddings.cpu())\n",
    "\n",
    "    return torch.cat(all_embeddings).numpy()\n",
    "\n"
   ]
  },
  {
   "cell_type": "code",
   "execution_count": 162,
   "metadata": {},
   "outputs": [
    {
     "name": "stderr",
     "output_type": "stream",
     "text": [
      "  0%|          | 0/6953 [00:00<?, ?it/s]"
     ]
    },
    {
     "name": "stderr",
     "output_type": "stream",
     "text": [
      "100%|██████████| 6953/6953 [06:05<00:00, 19.01it/s]\n"
     ]
    }
   ],
   "source": [
    "embedded_list = encode_batch_with_progress(description, batch_size=64)"
   ]
  },
  {
   "cell_type": "code",
   "execution_count": 163,
   "metadata": {},
   "outputs": [
    {
     "data": {
      "text/plain": [
       "array([[ 0.51657015, -0.22835104, -0.21700491, ...,  0.0260112 ,\n",
       "        -0.22481956, -0.40088144],\n",
       "       [ 0.11888622,  0.08073001, -0.3610544 , ...,  0.04127744,\n",
       "         0.06188593,  0.01513435],\n",
       "       [-0.01617578, -0.37784174,  0.3249077 , ..., -0.08035561,\n",
       "        -0.1364067 , -0.15564895],\n",
       "       ...,\n",
       "       [ 0.11265852, -0.04419464,  0.04499143, ..., -0.10868813,\n",
       "         0.09193849, -0.44006786],\n",
       "       [ 0.25742558,  0.00796375,  0.04746373, ...,  0.05476691,\n",
       "         0.09787294, -0.24127717],\n",
       "       [ 0.10225587,  0.11473785,  0.04573229, ...,  0.01495004,\n",
       "        -0.08081717, -0.26455718]], dtype=float32)"
      ]
     },
     "execution_count": 163,
     "metadata": {},
     "output_type": "execute_result"
    }
   ],
   "source": [
    "embedded_list"
   ]
  },
  {
   "cell_type": "code",
   "execution_count": 164,
   "metadata": {},
   "outputs": [
    {
     "data": {
      "text/plain": [
       "array([ 5.16570151e-01, -2.28351042e-01, -2.17004910e-01, -4.52429429e-02,\n",
       "        4.35184449e-01,  1.91391885e-01, -1.23955213e-01,  1.98702514e-01,\n",
       "        1.67046919e-01, -1.88795209e-01,  2.89968520e-01, -3.87685001e-01,\n",
       "       -3.01766008e-01,  4.98528630e-01, -3.01169217e-01,  3.72450590e-01,\n",
       "       -1.75509334e-01,  3.67491692e-01, -3.27193700e-02,  1.31447196e-01,\n",
       "        2.21618548e-01, -2.80262567e-02, -2.72267580e-01,  3.31804991e-01,\n",
       "        4.91814286e-01,  5.16829491e-01, -8.24290887e-02, -3.01726046e-03,\n",
       "        1.73645869e-01,  1.60744146e-01,  3.15512419e-01,  3.42091054e-01,\n",
       "        2.89095461e-01, -1.55878663e-01,  2.08523870e-02, -4.48272765e-01,\n",
       "       -8.21593925e-02, -5.26915848e-01, -2.73627728e-01,  6.45099133e-02,\n",
       "       -2.49806762e-01, -3.62146884e-01,  2.57996261e-01, -1.51698917e-01,\n",
       "        2.57114209e-02, -3.57681513e-01, -1.74832016e-01, -1.70264784e-02,\n",
       "       -3.12464565e-01,  5.00531867e-02, -1.47034198e-01, -7.14019910e-02,\n",
       "       -3.33437562e-01,  1.40925407e-01,  2.81144291e-01,  7.71500170e-01,\n",
       "        3.56258303e-01, -3.10279161e-01, -5.66558950e-02, -6.18378967e-02,\n",
       "       -6.91458583e-02,  7.12470710e-02,  1.64222151e-01, -1.22489087e-01,\n",
       "       -7.16670528e-02,  3.00902843e-01, -1.57783985e-01,  2.45555386e-01,\n",
       "       -5.01363456e-01,  1.20350637e-01, -2.98637390e-01,  3.44342887e-01,\n",
       "        2.35422701e-01, -2.49990642e-01, -1.09101534e-01,  1.00235455e-01,\n",
       "       -2.75141478e-01,  4.14030701e-01,  1.94540590e-01, -3.33309025e-01,\n",
       "       -3.65488157e-02,  1.48165092e-01,  6.22909844e-01,  4.09692526e-01,\n",
       "        8.02777633e-02,  2.83866256e-01, -3.39963943e-01, -6.19640276e-02,\n",
       "       -2.78524496e-02,  7.12550700e-01, -1.71689212e-01,  1.21684164e-01,\n",
       "        3.98392946e-01,  5.12115717e-01,  2.29639217e-01, -4.93814915e-01,\n",
       "        6.63452819e-02,  3.63172799e-01,  4.28212792e-01,  1.93381533e-01,\n",
       "       -1.31954432e-01, -3.80707920e-01,  2.02239603e-01,  4.50651884e-01,\n",
       "       -3.33759874e-01, -2.24661142e-01,  2.19069030e-02,  1.79233015e-01,\n",
       "        1.17137283e-01, -2.18201727e-01,  3.46620291e-01, -2.92112589e-01,\n",
       "        3.25534821e-01, -1.42884716e-01, -3.48651171e-01,  5.82954705e-01,\n",
       "        2.75956333e-01,  3.33655655e-01,  1.73901841e-01,  4.07259941e-01,\n",
       "       -2.96758980e-01,  1.09598055e-01, -2.20759079e-01,  6.37284577e-01,\n",
       "        3.90944868e-01,  4.70985830e-01, -2.63478100e-01,  3.11342478e-02,\n",
       "        2.69697104e-02, -2.82381535e-01,  1.27396882e-01,  5.06980896e-01,\n",
       "       -1.60031930e-01, -1.88644364e-01, -5.87979317e-01,  1.16552100e-01,\n",
       "        2.50471771e-01,  8.17103833e-02, -9.72733498e-02, -3.46140265e-02,\n",
       "       -3.63781452e-01,  3.33336800e-01, -1.15677610e-01, -1.63514927e-01,\n",
       "        6.24653161e-01,  5.18809497e-01,  1.50054306e-01,  1.88647822e-01,\n",
       "        3.28850716e-01,  2.59329885e-01, -9.16617587e-02, -4.93087582e-02,\n",
       "       -7.99498931e-02,  5.73281460e-02, -7.82324076e-02,  1.22075044e-01,\n",
       "       -2.14950055e-01,  1.33192204e-02,  2.36336693e-01,  2.67348200e-01,\n",
       "        3.99811029e-01,  3.11808258e-01, -1.89499371e-02,  3.14668655e-01,\n",
       "        7.54359737e-02,  1.43336862e-01, -3.89744431e-01,  6.09822035e-01,\n",
       "       -3.65581274e-01, -5.99772297e-02, -2.25906774e-01, -1.30188063e-01,\n",
       "        3.89939576e-01,  6.07693903e-02,  5.24887443e-02,  7.90369734e-02,\n",
       "        1.28778920e-01,  1.16333961e-01, -3.82975838e-03, -1.81953952e-01,\n",
       "       -1.05058002e+00,  3.89724046e-01,  6.11752033e-01,  1.00607462e-01,\n",
       "       -2.48693973e-01,  2.39066958e-01, -2.53179789e-01, -8.32462497e-03,\n",
       "       -9.44442749e-02, -4.65502590e-02, -3.96183878e-01, -3.28066021e-01,\n",
       "       -3.94764900e-01,  2.18727767e-01, -4.62182350e-02, -5.74582934e-01,\n",
       "        1.94701776e-02,  2.34257534e-01, -1.13778554e-01,  2.71640360e-01,\n",
       "        4.18397605e-01, -5.61353052e-03, -7.38940984e-02, -7.10858032e-03,\n",
       "       -3.05799127e-01,  8.69456410e-01,  2.80108333e-01, -2.65221745e-01,\n",
       "       -9.05483961e-03, -2.02992678e-01,  8.75289366e-02,  2.05300555e-01,\n",
       "        3.00586283e-01,  3.64648402e-01, -4.76264767e-02, -2.06980869e-01,\n",
       "        1.67967916e-01, -9.41309407e-02, -4.10753578e-01, -1.57741204e-01,\n",
       "        1.91708311e-01,  1.88353375e-01, -7.87010908e-01,  2.50798106e-01,\n",
       "       -2.75088370e-01,  4.76226509e-01,  4.64631081e-01, -6.81188777e-02,\n",
       "       -2.25274071e-01,  2.61717081e-01, -9.58803371e-02, -3.11266869e-01,\n",
       "       -2.39632741e-01,  1.25526860e-01,  1.57685786e-01,  3.97124678e-01,\n",
       "       -1.72786281e-01, -3.43850017e-01, -1.95021741e-02, -4.04287338e-01,\n",
       "        5.31099597e-03, -5.00051498e-01,  3.24904889e-01,  4.29080304e-04,\n",
       "       -3.42158347e-01,  4.42290120e-02,  2.96958685e-01, -7.34969303e-02,\n",
       "        2.46500194e-01, -4.38691795e-01, -1.75496340e-01, -4.64236617e-01,\n",
       "        2.07269326e-01,  8.98848027e-02,  9.46139731e-03,  1.57177761e-01,\n",
       "        1.06534824e-01, -1.48695618e-01,  5.22309029e-03,  2.03861356e-01,\n",
       "        3.55869532e-01,  3.38898063e-01,  5.60547411e-01, -1.10802874e-01,\n",
       "       -5.41400850e-01,  2.08744049e-01,  3.10701635e-02,  5.00163555e-01,\n",
       "        1.87441006e-01,  5.89875225e-03, -2.99745947e-01, -1.12187803e-01,\n",
       "       -1.26590550e-01,  4.56136912e-02, -2.91047245e-01, -2.36634612e-01,\n",
       "        1.98923290e-01,  5.07997870e-01,  2.07252070e-01, -2.32666492e-01,\n",
       "        1.70396212e-02,  1.76588655e-01, -2.10837975e-01, -2.87029427e-02,\n",
       "        2.67816365e-01, -5.74579537e-01,  6.95299059e-02,  2.87243277e-01,\n",
       "        7.09130894e-03, -4.29900706e-01, -1.60139650e-01,  6.74573898e-01,\n",
       "        1.09226406e-01,  3.78236622e-02, -1.35553911e-01, -1.62717849e-01,\n",
       "        2.05661327e-01,  1.79606844e-02, -3.84496227e-02, -3.03388476e-01,\n",
       "       -4.91052084e-02, -1.91510528e-01,  2.08094016e-01,  1.87019780e-01,\n",
       "       -2.74884611e-01,  4.14828837e-01,  3.37046027e-01, -5.85501015e-01,\n",
       "       -4.08591127e+00,  3.39603961e-01, -1.81210879e-02,  3.59568335e-02,\n",
       "        1.42611742e-01, -4.89342958e-01,  4.98368628e-02,  1.17470473e-01,\n",
       "       -4.34366375e-01, -5.57469368e-01,  4.28387612e-01,  6.29151464e-02,\n",
       "        3.40919822e-01, -2.71320254e-01,  1.30768389e-01,  2.16922313e-01,\n",
       "       -8.33361149e-02, -8.30060840e-02, -3.34855877e-02,  9.63377431e-02,\n",
       "       -2.25764215e-01, -1.39701918e-01,  2.54721165e-01, -2.05249861e-01,\n",
       "        7.53601314e-03,  5.12894034e-01, -5.32750338e-02, -2.18529459e-02,\n",
       "       -3.40739012e-01,  2.02353438e-03, -1.95582137e-01, -3.41493517e-01,\n",
       "        2.35198140e-01, -4.72763032e-02,  7.66849294e-02, -1.71263695e-01,\n",
       "       -3.02407175e-01, -4.53330427e-02,  5.60724378e-01,  3.33716452e-01,\n",
       "        2.96785049e-02, -1.29509354e-02, -4.29834068e-01,  3.68923575e-01,\n",
       "        7.32600391e-01,  2.16457456e-01,  4.86457497e-01, -1.02481675e+00,\n",
       "       -1.08259432e-01,  2.65423626e-01,  1.78661913e-01, -3.57280970e-01,\n",
       "       -1.86356589e-01, -4.88321573e-01, -1.12098027e-02,  2.14442804e-01,\n",
       "       -2.68511176e-02,  3.69525492e-01, -2.02715799e-01, -2.10790470e-01,\n",
       "        2.56472677e-02, -2.31743559e-01, -1.43329099e-01,  9.68008935e-02,\n",
       "       -2.76769623e-02,  4.41370625e-03, -4.44370121e-01, -2.23004177e-01,\n",
       "       -8.14881623e-02,  2.21032843e-01,  1.14290304e-01,  1.24399392e-02,\n",
       "       -1.01341568e-01, -9.65739429e-01,  4.92908582e-02,  2.80430108e-01,\n",
       "        2.42870301e-01, -3.92356724e-01,  5.55490077e-01, -2.39885733e-01,\n",
       "       -2.86615610e-01, -3.48812103e-01,  3.38369459e-02,  2.81313717e-01,\n",
       "       -1.71477392e-01,  7.13262260e-02, -5.80949534e-04, -2.12130904e-01,\n",
       "       -2.56571732e-02,  2.31820092e-01,  4.65547234e-01,  6.36466146e-01,\n",
       "       -4.05284315e-01,  1.19570844e-01,  5.30942157e-02, -2.93659922e-02,\n",
       "        3.64966094e-01, -6.49801195e-01, -8.39214101e-02, -2.86544502e-01,\n",
       "        1.19359151e-01, -1.72223896e-01,  1.39410933e-02, -5.91874719e-01,\n",
       "       -2.00883225e-01, -2.52533294e-02, -6.71279848e-01,  3.05737406e-01,\n",
       "       -2.91832089e-01, -3.46195102e-01,  5.12806892e-01, -7.34035492e-01,\n",
       "        7.59949684e-01, -3.41231227e-01, -5.89565262e-02, -5.90047002e-01,\n",
       "       -1.83333471e-01,  2.87877470e-01, -8.53023380e-02, -7.90553093e-02,\n",
       "       -5.85145280e-02,  7.15952098e-01, -2.85434425e-01, -7.42052972e-01,\n",
       "       -4.28562313e-01,  3.16999286e-01, -4.17951167e-01, -4.40500826e-01,\n",
       "       -3.44556808e-01, -4.93091485e-03,  4.75769974e-02, -3.71155232e-01,\n",
       "       -4.02752876e-01, -9.83816758e-02, -1.25302330e-01, -2.28507727e-01,\n",
       "       -5.48848271e-01, -7.02509701e-01,  3.14003557e-01,  4.69171107e-01,\n",
       "        3.23148936e-01,  4.74497862e-02, -1.99335501e-01,  8.15648437e-02,\n",
       "        2.70991802e-01,  5.16377747e-01, -1.24218553e-01, -3.26049596e-01,\n",
       "       -1.82594299e-01,  1.05254911e-01, -3.39769512e-01, -5.18590450e-01,\n",
       "        3.64656627e-01, -4.69533861e-01,  8.57961625e-02,  2.63214171e-01,\n",
       "        4.08657938e-01, -1.37204289e-01, -2.14363188e-01, -5.91964364e-01,\n",
       "        2.32387438e-01,  7.58248791e-02,  1.86870858e-01,  4.83658880e-01,\n",
       "       -1.35618955e-01,  3.66455942e-01,  3.73424180e-02, -2.22841665e-01,\n",
       "       -2.57794619e-01, -1.90836906e-01,  1.45617705e-02, -2.05890790e-01,\n",
       "       -2.07991779e-01,  1.09307013e-01, -1.23422831e-01,  5.75185955e-01,\n",
       "        1.37519032e-01, -6.09568834e-01, -5.63113511e-01,  4.62571412e-01,\n",
       "        2.25490063e-01, -4.79010679e-02, -8.08036253e-02,  4.42036502e-02,\n",
       "        4.71697748e-01,  3.13384570e-02, -3.62732917e-01, -6.77946880e-02,\n",
       "       -1.53154254e-01,  1.32952884e-01,  8.86822343e-02, -1.06304012e-01,\n",
       "       -1.04273312e-01, -2.25799769e-01, -6.76823080e-01, -6.82301044e-01,\n",
       "        1.22545384e-01,  1.76104590e-01,  2.90710449e-01, -1.06812418e-02,\n",
       "       -2.22346231e-01, -4.98653613e-02, -1.60238817e-01,  6.07195683e-02,\n",
       "       -1.62893265e-01, -1.75554320e-01,  4.73182470e-01,  1.52686477e-01,\n",
       "       -1.64821804e-01,  1.25461459e-01, -3.44211429e-01, -7.20178783e-01,\n",
       "        1.68170854e-01, -2.90093422e-01, -1.54576898e-01,  1.25496581e-01,\n",
       "       -2.94901133e-01, -3.29328179e-01, -2.81567037e-01, -1.96879104e-01,\n",
       "        1.35480776e-01,  2.86754481e-02,  2.22209334e-01,  1.61353990e-01,\n",
       "       -2.36072958e-01,  2.77015448e-01,  1.02914749e-02, -1.21172279e-01,\n",
       "       -3.08638066e-01,  9.70854163e-02,  5.74325249e-02, -3.55955690e-01,\n",
       "        1.74230456e-01, -4.27481048e-02,  4.79204506e-01,  4.06858981e-01,\n",
       "       -6.27126276e-01, -3.33423674e-01, -3.19181293e-01,  1.72041982e-01,\n",
       "       -1.31770661e-02, -4.26380694e-01, -4.38508511e-01, -3.84983689e-01,\n",
       "       -6.06495976e-01,  7.81855956e-02, -2.81162500e-01,  7.22385168e-01,\n",
       "       -1.11462295e-01,  4.84613597e-01, -2.38281474e-01, -2.60945827e-01,\n",
       "        1.36456057e-01, -7.61560559e-01,  1.82735205e-01, -5.36446512e-01,\n",
       "       -1.03020854e-01,  7.40163028e-02, -3.48439336e-01, -2.61347350e-02,\n",
       "       -3.28927487e-01,  1.38432160e-01, -2.03690857e-01,  3.01358309e-02,\n",
       "       -9.52289030e-02, -8.98860618e-02, -8.09427574e-02,  1.76495835e-01,\n",
       "        2.36467342e-03, -3.27622965e-02, -3.93204167e-02,  1.09513849e-02,\n",
       "        3.31658155e-01, -4.90438551e-01, -5.41562438e-01, -4.90162186e-02,\n",
       "        9.36861522e-03, -4.61359590e-01,  7.10012093e-02, -9.29163098e-02,\n",
       "       -3.19765419e-01,  2.47679040e-01,  3.77380162e-01,  2.66919106e-01,\n",
       "        2.71768004e-01, -2.60457993e-02, -1.33557484e-01,  1.03655783e-02,\n",
       "       -6.68647215e-02,  4.55520675e-03,  4.33766216e-01,  3.50145511e-02,\n",
       "        9.55638364e-02, -1.85794428e-01, -1.30402446e-01,  4.25934196e-01,\n",
       "       -1.08185589e-01,  1.22580498e-01, -1.35543481e-01,  4.04499412e-01,\n",
       "        1.71143100e-01,  2.27025390e-01,  4.58225459e-02,  3.77796501e-01,\n",
       "        1.00817129e-01,  1.65561482e-01,  6.12931810e-02, -3.09483707e-01,\n",
       "        1.63511604e-01,  2.99765706e-01,  7.04454556e-02, -1.36687949e-01,\n",
       "        3.31925094e-01,  5.92184603e-01, -2.59794861e-01,  1.30375177e-01,\n",
       "        7.44597986e-02, -1.56721577e-01, -2.96677023e-01,  4.57861394e-01,\n",
       "       -6.62871823e-02,  1.01046219e-01,  8.14323246e-01,  1.04162417e-01,\n",
       "       -1.08635454e-02,  5.59859753e-01, -6.39434397e-01,  9.33308620e-03,\n",
       "       -1.87777981e-01,  4.35971886e-01,  1.04569241e-01,  6.29608631e-02,\n",
       "       -2.60291211e-02, -6.04441389e-02, -1.73596784e-01,  4.91557345e-02,\n",
       "       -3.32901143e-02, -2.30226219e-01,  2.37704460e-02,  3.39186132e-01,\n",
       "       -3.80412079e-02,  3.97738367e-01,  4.10962075e-01,  1.94858596e-01,\n",
       "        4.68893766e-01, -5.74170314e-02,  1.10482499e-01, -1.92449257e-01,\n",
       "        7.09908664e-01, -7.18016401e-02,  1.25658602e-01,  1.70567771e-03,\n",
       "        2.57588297e-01, -5.27327001e-01,  3.91368121e-02,  2.06871733e-01,\n",
       "        4.31388170e-01, -4.51447181e-02, -2.99749315e-01, -3.11390787e-01,\n",
       "       -1.07275240e-01, -2.70071179e-01, -2.23735899e-01, -2.15771183e-01,\n",
       "        1.59712002e-01,  3.04058284e-01, -2.09206030e-01, -2.76217937e-01,\n",
       "       -1.33607194e-01,  7.97302201e-02, -9.52798724e-02,  7.83536583e-02,\n",
       "        2.95799166e-01,  6.08400881e-01, -2.73779295e-02, -9.07498822e-02,\n",
       "       -1.99004531e-01,  6.40130818e-01, -2.91741401e-01,  4.29007500e-01,\n",
       "       -6.28758371e-02, -4.22727287e-01, -6.64371073e-01, -3.85520905e-01,\n",
       "       -3.18050176e-01, -7.47306764e-01, -6.12947904e-03,  7.19189197e-02,\n",
       "        4.75595713e-01, -2.81551898e-01,  1.84248239e-01, -1.13992929e-01,\n",
       "        1.30756080e-01, -3.91333729e-01,  1.19821846e-01,  1.98533893e-01,\n",
       "        5.22634804e-01, -8.82424340e-02,  8.73349532e-02,  5.45363016e-02,\n",
       "       -2.19163686e-01,  4.71750610e-02, -1.11574791e-01,  1.00017965e-01,\n",
       "        1.99747875e-01,  2.56031215e-01,  1.90283611e-01,  2.28415489e-01,\n",
       "       -5.00535928e-02, -4.52179402e-01,  3.26318443e-02,  3.39117289e-01,\n",
       "       -5.08299232e-01,  2.75390536e-01, -1.21112242e-01, -1.54109985e-01,\n",
       "        2.24429488e-01,  3.01847935e-01, -4.89191890e-01, -4.84714210e-02,\n",
       "       -2.25363344e-01, -2.87031561e-01,  2.16138382e-02,  3.65274787e-01,\n",
       "        5.04588000e-02, -2.13959441e-01, -9.91413072e-02,  5.40711522e-01,\n",
       "        2.22394273e-01,  7.44864494e-02, -8.05601254e-02,  8.70512873e-02,\n",
       "       -4.75332618e-01, -4.34106708e-01, -1.06095158e-01,  6.94144294e-02,\n",
       "       -4.04932350e-01,  1.14693820e-01, -7.43917003e-02, -1.66854620e-01,\n",
       "       -3.43024641e-01, -3.80523264e-01, -2.71297365e-01,  4.03804630e-01,\n",
       "       -8.05955648e-01,  2.66306490e-01, -3.78682792e-01, -1.69257686e-01,\n",
       "       -4.27801549e-01, -4.05115515e-01,  1.54742384e-02, -4.01286364e-01,\n",
       "        3.54859620e-01,  1.99958786e-01,  1.32981092e-01, -4.91745323e-02,\n",
       "        2.38557622e-01,  2.60111969e-02, -2.24819556e-01, -4.00881439e-01],\n",
       "      dtype=float32)"
      ]
     },
     "execution_count": 164,
     "metadata": {},
     "output_type": "execute_result"
    }
   ],
   "source": [
    "embedded_list[0]"
   ]
  },
  {
   "cell_type": "code",
   "execution_count": 165,
   "metadata": {},
   "outputs": [
    {
     "data": {
      "text/plain": [
       "444990"
      ]
     },
     "execution_count": 165,
     "metadata": {},
     "output_type": "execute_result"
    }
   ],
   "source": [
    "len(embedded_list)"
   ]
  },
  {
   "cell_type": "code",
   "execution_count": 166,
   "metadata": {},
   "outputs": [
    {
     "data": {
      "text/plain": [
       "768"
      ]
     },
     "execution_count": 166,
     "metadata": {},
     "output_type": "execute_result"
    }
   ],
   "source": [
    "len(embedded_list[0])"
   ]
  },
  {
   "cell_type": "code",
   "execution_count": 167,
   "metadata": {},
   "outputs": [],
   "source": [
    "embedded_array = np.vstack(embedded_list)"
   ]
  },
  {
   "cell_type": "code",
   "execution_count": 168,
   "metadata": {},
   "outputs": [
    {
     "data": {
      "text/plain": [
       "array([[ 0.51657015, -0.22835104, -0.21700491, ...,  0.0260112 ,\n",
       "        -0.22481956, -0.40088144],\n",
       "       [ 0.11888622,  0.08073001, -0.3610544 , ...,  0.04127744,\n",
       "         0.06188593,  0.01513435],\n",
       "       [-0.01617578, -0.37784174,  0.3249077 , ..., -0.08035561,\n",
       "        -0.1364067 , -0.15564895],\n",
       "       ...,\n",
       "       [ 0.11265852, -0.04419464,  0.04499143, ..., -0.10868813,\n",
       "         0.09193849, -0.44006786],\n",
       "       [ 0.25742558,  0.00796375,  0.04746373, ...,  0.05476691,\n",
       "         0.09787294, -0.24127717],\n",
       "       [ 0.10225587,  0.11473785,  0.04573229, ...,  0.01495004,\n",
       "        -0.08081717, -0.26455718]], dtype=float32)"
      ]
     },
     "execution_count": 168,
     "metadata": {},
     "output_type": "execute_result"
    }
   ],
   "source": [
    "embedded_array"
   ]
  },
  {
   "cell_type": "code",
   "execution_count": 169,
   "metadata": {},
   "outputs": [
    {
     "data": {
      "text/plain": [
       "array([ 5.16570151e-01, -2.28351042e-01, -2.17004910e-01, -4.52429429e-02,\n",
       "        4.35184449e-01,  1.91391885e-01, -1.23955213e-01,  1.98702514e-01,\n",
       "        1.67046919e-01, -1.88795209e-01,  2.89968520e-01, -3.87685001e-01,\n",
       "       -3.01766008e-01,  4.98528630e-01, -3.01169217e-01,  3.72450590e-01,\n",
       "       -1.75509334e-01,  3.67491692e-01, -3.27193700e-02,  1.31447196e-01,\n",
       "        2.21618548e-01, -2.80262567e-02, -2.72267580e-01,  3.31804991e-01,\n",
       "        4.91814286e-01,  5.16829491e-01, -8.24290887e-02, -3.01726046e-03,\n",
       "        1.73645869e-01,  1.60744146e-01,  3.15512419e-01,  3.42091054e-01,\n",
       "        2.89095461e-01, -1.55878663e-01,  2.08523870e-02, -4.48272765e-01,\n",
       "       -8.21593925e-02, -5.26915848e-01, -2.73627728e-01,  6.45099133e-02,\n",
       "       -2.49806762e-01, -3.62146884e-01,  2.57996261e-01, -1.51698917e-01,\n",
       "        2.57114209e-02, -3.57681513e-01, -1.74832016e-01, -1.70264784e-02,\n",
       "       -3.12464565e-01,  5.00531867e-02, -1.47034198e-01, -7.14019910e-02,\n",
       "       -3.33437562e-01,  1.40925407e-01,  2.81144291e-01,  7.71500170e-01,\n",
       "        3.56258303e-01, -3.10279161e-01, -5.66558950e-02, -6.18378967e-02,\n",
       "       -6.91458583e-02,  7.12470710e-02,  1.64222151e-01, -1.22489087e-01,\n",
       "       -7.16670528e-02,  3.00902843e-01, -1.57783985e-01,  2.45555386e-01,\n",
       "       -5.01363456e-01,  1.20350637e-01, -2.98637390e-01,  3.44342887e-01,\n",
       "        2.35422701e-01, -2.49990642e-01, -1.09101534e-01,  1.00235455e-01,\n",
       "       -2.75141478e-01,  4.14030701e-01,  1.94540590e-01, -3.33309025e-01,\n",
       "       -3.65488157e-02,  1.48165092e-01,  6.22909844e-01,  4.09692526e-01,\n",
       "        8.02777633e-02,  2.83866256e-01, -3.39963943e-01, -6.19640276e-02,\n",
       "       -2.78524496e-02,  7.12550700e-01, -1.71689212e-01,  1.21684164e-01,\n",
       "        3.98392946e-01,  5.12115717e-01,  2.29639217e-01, -4.93814915e-01,\n",
       "        6.63452819e-02,  3.63172799e-01,  4.28212792e-01,  1.93381533e-01,\n",
       "       -1.31954432e-01, -3.80707920e-01,  2.02239603e-01,  4.50651884e-01,\n",
       "       -3.33759874e-01, -2.24661142e-01,  2.19069030e-02,  1.79233015e-01,\n",
       "        1.17137283e-01, -2.18201727e-01,  3.46620291e-01, -2.92112589e-01,\n",
       "        3.25534821e-01, -1.42884716e-01, -3.48651171e-01,  5.82954705e-01,\n",
       "        2.75956333e-01,  3.33655655e-01,  1.73901841e-01,  4.07259941e-01,\n",
       "       -2.96758980e-01,  1.09598055e-01, -2.20759079e-01,  6.37284577e-01,\n",
       "        3.90944868e-01,  4.70985830e-01, -2.63478100e-01,  3.11342478e-02,\n",
       "        2.69697104e-02, -2.82381535e-01,  1.27396882e-01,  5.06980896e-01,\n",
       "       -1.60031930e-01, -1.88644364e-01, -5.87979317e-01,  1.16552100e-01,\n",
       "        2.50471771e-01,  8.17103833e-02, -9.72733498e-02, -3.46140265e-02,\n",
       "       -3.63781452e-01,  3.33336800e-01, -1.15677610e-01, -1.63514927e-01,\n",
       "        6.24653161e-01,  5.18809497e-01,  1.50054306e-01,  1.88647822e-01,\n",
       "        3.28850716e-01,  2.59329885e-01, -9.16617587e-02, -4.93087582e-02,\n",
       "       -7.99498931e-02,  5.73281460e-02, -7.82324076e-02,  1.22075044e-01,\n",
       "       -2.14950055e-01,  1.33192204e-02,  2.36336693e-01,  2.67348200e-01,\n",
       "        3.99811029e-01,  3.11808258e-01, -1.89499371e-02,  3.14668655e-01,\n",
       "        7.54359737e-02,  1.43336862e-01, -3.89744431e-01,  6.09822035e-01,\n",
       "       -3.65581274e-01, -5.99772297e-02, -2.25906774e-01, -1.30188063e-01,\n",
       "        3.89939576e-01,  6.07693903e-02,  5.24887443e-02,  7.90369734e-02,\n",
       "        1.28778920e-01,  1.16333961e-01, -3.82975838e-03, -1.81953952e-01,\n",
       "       -1.05058002e+00,  3.89724046e-01,  6.11752033e-01,  1.00607462e-01,\n",
       "       -2.48693973e-01,  2.39066958e-01, -2.53179789e-01, -8.32462497e-03,\n",
       "       -9.44442749e-02, -4.65502590e-02, -3.96183878e-01, -3.28066021e-01,\n",
       "       -3.94764900e-01,  2.18727767e-01, -4.62182350e-02, -5.74582934e-01,\n",
       "        1.94701776e-02,  2.34257534e-01, -1.13778554e-01,  2.71640360e-01,\n",
       "        4.18397605e-01, -5.61353052e-03, -7.38940984e-02, -7.10858032e-03,\n",
       "       -3.05799127e-01,  8.69456410e-01,  2.80108333e-01, -2.65221745e-01,\n",
       "       -9.05483961e-03, -2.02992678e-01,  8.75289366e-02,  2.05300555e-01,\n",
       "        3.00586283e-01,  3.64648402e-01, -4.76264767e-02, -2.06980869e-01,\n",
       "        1.67967916e-01, -9.41309407e-02, -4.10753578e-01, -1.57741204e-01,\n",
       "        1.91708311e-01,  1.88353375e-01, -7.87010908e-01,  2.50798106e-01,\n",
       "       -2.75088370e-01,  4.76226509e-01,  4.64631081e-01, -6.81188777e-02,\n",
       "       -2.25274071e-01,  2.61717081e-01, -9.58803371e-02, -3.11266869e-01,\n",
       "       -2.39632741e-01,  1.25526860e-01,  1.57685786e-01,  3.97124678e-01,\n",
       "       -1.72786281e-01, -3.43850017e-01, -1.95021741e-02, -4.04287338e-01,\n",
       "        5.31099597e-03, -5.00051498e-01,  3.24904889e-01,  4.29080304e-04,\n",
       "       -3.42158347e-01,  4.42290120e-02,  2.96958685e-01, -7.34969303e-02,\n",
       "        2.46500194e-01, -4.38691795e-01, -1.75496340e-01, -4.64236617e-01,\n",
       "        2.07269326e-01,  8.98848027e-02,  9.46139731e-03,  1.57177761e-01,\n",
       "        1.06534824e-01, -1.48695618e-01,  5.22309029e-03,  2.03861356e-01,\n",
       "        3.55869532e-01,  3.38898063e-01,  5.60547411e-01, -1.10802874e-01,\n",
       "       -5.41400850e-01,  2.08744049e-01,  3.10701635e-02,  5.00163555e-01,\n",
       "        1.87441006e-01,  5.89875225e-03, -2.99745947e-01, -1.12187803e-01,\n",
       "       -1.26590550e-01,  4.56136912e-02, -2.91047245e-01, -2.36634612e-01,\n",
       "        1.98923290e-01,  5.07997870e-01,  2.07252070e-01, -2.32666492e-01,\n",
       "        1.70396212e-02,  1.76588655e-01, -2.10837975e-01, -2.87029427e-02,\n",
       "        2.67816365e-01, -5.74579537e-01,  6.95299059e-02,  2.87243277e-01,\n",
       "        7.09130894e-03, -4.29900706e-01, -1.60139650e-01,  6.74573898e-01,\n",
       "        1.09226406e-01,  3.78236622e-02, -1.35553911e-01, -1.62717849e-01,\n",
       "        2.05661327e-01,  1.79606844e-02, -3.84496227e-02, -3.03388476e-01,\n",
       "       -4.91052084e-02, -1.91510528e-01,  2.08094016e-01,  1.87019780e-01,\n",
       "       -2.74884611e-01,  4.14828837e-01,  3.37046027e-01, -5.85501015e-01,\n",
       "       -4.08591127e+00,  3.39603961e-01, -1.81210879e-02,  3.59568335e-02,\n",
       "        1.42611742e-01, -4.89342958e-01,  4.98368628e-02,  1.17470473e-01,\n",
       "       -4.34366375e-01, -5.57469368e-01,  4.28387612e-01,  6.29151464e-02,\n",
       "        3.40919822e-01, -2.71320254e-01,  1.30768389e-01,  2.16922313e-01,\n",
       "       -8.33361149e-02, -8.30060840e-02, -3.34855877e-02,  9.63377431e-02,\n",
       "       -2.25764215e-01, -1.39701918e-01,  2.54721165e-01, -2.05249861e-01,\n",
       "        7.53601314e-03,  5.12894034e-01, -5.32750338e-02, -2.18529459e-02,\n",
       "       -3.40739012e-01,  2.02353438e-03, -1.95582137e-01, -3.41493517e-01,\n",
       "        2.35198140e-01, -4.72763032e-02,  7.66849294e-02, -1.71263695e-01,\n",
       "       -3.02407175e-01, -4.53330427e-02,  5.60724378e-01,  3.33716452e-01,\n",
       "        2.96785049e-02, -1.29509354e-02, -4.29834068e-01,  3.68923575e-01,\n",
       "        7.32600391e-01,  2.16457456e-01,  4.86457497e-01, -1.02481675e+00,\n",
       "       -1.08259432e-01,  2.65423626e-01,  1.78661913e-01, -3.57280970e-01,\n",
       "       -1.86356589e-01, -4.88321573e-01, -1.12098027e-02,  2.14442804e-01,\n",
       "       -2.68511176e-02,  3.69525492e-01, -2.02715799e-01, -2.10790470e-01,\n",
       "        2.56472677e-02, -2.31743559e-01, -1.43329099e-01,  9.68008935e-02,\n",
       "       -2.76769623e-02,  4.41370625e-03, -4.44370121e-01, -2.23004177e-01,\n",
       "       -8.14881623e-02,  2.21032843e-01,  1.14290304e-01,  1.24399392e-02,\n",
       "       -1.01341568e-01, -9.65739429e-01,  4.92908582e-02,  2.80430108e-01,\n",
       "        2.42870301e-01, -3.92356724e-01,  5.55490077e-01, -2.39885733e-01,\n",
       "       -2.86615610e-01, -3.48812103e-01,  3.38369459e-02,  2.81313717e-01,\n",
       "       -1.71477392e-01,  7.13262260e-02, -5.80949534e-04, -2.12130904e-01,\n",
       "       -2.56571732e-02,  2.31820092e-01,  4.65547234e-01,  6.36466146e-01,\n",
       "       -4.05284315e-01,  1.19570844e-01,  5.30942157e-02, -2.93659922e-02,\n",
       "        3.64966094e-01, -6.49801195e-01, -8.39214101e-02, -2.86544502e-01,\n",
       "        1.19359151e-01, -1.72223896e-01,  1.39410933e-02, -5.91874719e-01,\n",
       "       -2.00883225e-01, -2.52533294e-02, -6.71279848e-01,  3.05737406e-01,\n",
       "       -2.91832089e-01, -3.46195102e-01,  5.12806892e-01, -7.34035492e-01,\n",
       "        7.59949684e-01, -3.41231227e-01, -5.89565262e-02, -5.90047002e-01,\n",
       "       -1.83333471e-01,  2.87877470e-01, -8.53023380e-02, -7.90553093e-02,\n",
       "       -5.85145280e-02,  7.15952098e-01, -2.85434425e-01, -7.42052972e-01,\n",
       "       -4.28562313e-01,  3.16999286e-01, -4.17951167e-01, -4.40500826e-01,\n",
       "       -3.44556808e-01, -4.93091485e-03,  4.75769974e-02, -3.71155232e-01,\n",
       "       -4.02752876e-01, -9.83816758e-02, -1.25302330e-01, -2.28507727e-01,\n",
       "       -5.48848271e-01, -7.02509701e-01,  3.14003557e-01,  4.69171107e-01,\n",
       "        3.23148936e-01,  4.74497862e-02, -1.99335501e-01,  8.15648437e-02,\n",
       "        2.70991802e-01,  5.16377747e-01, -1.24218553e-01, -3.26049596e-01,\n",
       "       -1.82594299e-01,  1.05254911e-01, -3.39769512e-01, -5.18590450e-01,\n",
       "        3.64656627e-01, -4.69533861e-01,  8.57961625e-02,  2.63214171e-01,\n",
       "        4.08657938e-01, -1.37204289e-01, -2.14363188e-01, -5.91964364e-01,\n",
       "        2.32387438e-01,  7.58248791e-02,  1.86870858e-01,  4.83658880e-01,\n",
       "       -1.35618955e-01,  3.66455942e-01,  3.73424180e-02, -2.22841665e-01,\n",
       "       -2.57794619e-01, -1.90836906e-01,  1.45617705e-02, -2.05890790e-01,\n",
       "       -2.07991779e-01,  1.09307013e-01, -1.23422831e-01,  5.75185955e-01,\n",
       "        1.37519032e-01, -6.09568834e-01, -5.63113511e-01,  4.62571412e-01,\n",
       "        2.25490063e-01, -4.79010679e-02, -8.08036253e-02,  4.42036502e-02,\n",
       "        4.71697748e-01,  3.13384570e-02, -3.62732917e-01, -6.77946880e-02,\n",
       "       -1.53154254e-01,  1.32952884e-01,  8.86822343e-02, -1.06304012e-01,\n",
       "       -1.04273312e-01, -2.25799769e-01, -6.76823080e-01, -6.82301044e-01,\n",
       "        1.22545384e-01,  1.76104590e-01,  2.90710449e-01, -1.06812418e-02,\n",
       "       -2.22346231e-01, -4.98653613e-02, -1.60238817e-01,  6.07195683e-02,\n",
       "       -1.62893265e-01, -1.75554320e-01,  4.73182470e-01,  1.52686477e-01,\n",
       "       -1.64821804e-01,  1.25461459e-01, -3.44211429e-01, -7.20178783e-01,\n",
       "        1.68170854e-01, -2.90093422e-01, -1.54576898e-01,  1.25496581e-01,\n",
       "       -2.94901133e-01, -3.29328179e-01, -2.81567037e-01, -1.96879104e-01,\n",
       "        1.35480776e-01,  2.86754481e-02,  2.22209334e-01,  1.61353990e-01,\n",
       "       -2.36072958e-01,  2.77015448e-01,  1.02914749e-02, -1.21172279e-01,\n",
       "       -3.08638066e-01,  9.70854163e-02,  5.74325249e-02, -3.55955690e-01,\n",
       "        1.74230456e-01, -4.27481048e-02,  4.79204506e-01,  4.06858981e-01,\n",
       "       -6.27126276e-01, -3.33423674e-01, -3.19181293e-01,  1.72041982e-01,\n",
       "       -1.31770661e-02, -4.26380694e-01, -4.38508511e-01, -3.84983689e-01,\n",
       "       -6.06495976e-01,  7.81855956e-02, -2.81162500e-01,  7.22385168e-01,\n",
       "       -1.11462295e-01,  4.84613597e-01, -2.38281474e-01, -2.60945827e-01,\n",
       "        1.36456057e-01, -7.61560559e-01,  1.82735205e-01, -5.36446512e-01,\n",
       "       -1.03020854e-01,  7.40163028e-02, -3.48439336e-01, -2.61347350e-02,\n",
       "       -3.28927487e-01,  1.38432160e-01, -2.03690857e-01,  3.01358309e-02,\n",
       "       -9.52289030e-02, -8.98860618e-02, -8.09427574e-02,  1.76495835e-01,\n",
       "        2.36467342e-03, -3.27622965e-02, -3.93204167e-02,  1.09513849e-02,\n",
       "        3.31658155e-01, -4.90438551e-01, -5.41562438e-01, -4.90162186e-02,\n",
       "        9.36861522e-03, -4.61359590e-01,  7.10012093e-02, -9.29163098e-02,\n",
       "       -3.19765419e-01,  2.47679040e-01,  3.77380162e-01,  2.66919106e-01,\n",
       "        2.71768004e-01, -2.60457993e-02, -1.33557484e-01,  1.03655783e-02,\n",
       "       -6.68647215e-02,  4.55520675e-03,  4.33766216e-01,  3.50145511e-02,\n",
       "        9.55638364e-02, -1.85794428e-01, -1.30402446e-01,  4.25934196e-01,\n",
       "       -1.08185589e-01,  1.22580498e-01, -1.35543481e-01,  4.04499412e-01,\n",
       "        1.71143100e-01,  2.27025390e-01,  4.58225459e-02,  3.77796501e-01,\n",
       "        1.00817129e-01,  1.65561482e-01,  6.12931810e-02, -3.09483707e-01,\n",
       "        1.63511604e-01,  2.99765706e-01,  7.04454556e-02, -1.36687949e-01,\n",
       "        3.31925094e-01,  5.92184603e-01, -2.59794861e-01,  1.30375177e-01,\n",
       "        7.44597986e-02, -1.56721577e-01, -2.96677023e-01,  4.57861394e-01,\n",
       "       -6.62871823e-02,  1.01046219e-01,  8.14323246e-01,  1.04162417e-01,\n",
       "       -1.08635454e-02,  5.59859753e-01, -6.39434397e-01,  9.33308620e-03,\n",
       "       -1.87777981e-01,  4.35971886e-01,  1.04569241e-01,  6.29608631e-02,\n",
       "       -2.60291211e-02, -6.04441389e-02, -1.73596784e-01,  4.91557345e-02,\n",
       "       -3.32901143e-02, -2.30226219e-01,  2.37704460e-02,  3.39186132e-01,\n",
       "       -3.80412079e-02,  3.97738367e-01,  4.10962075e-01,  1.94858596e-01,\n",
       "        4.68893766e-01, -5.74170314e-02,  1.10482499e-01, -1.92449257e-01,\n",
       "        7.09908664e-01, -7.18016401e-02,  1.25658602e-01,  1.70567771e-03,\n",
       "        2.57588297e-01, -5.27327001e-01,  3.91368121e-02,  2.06871733e-01,\n",
       "        4.31388170e-01, -4.51447181e-02, -2.99749315e-01, -3.11390787e-01,\n",
       "       -1.07275240e-01, -2.70071179e-01, -2.23735899e-01, -2.15771183e-01,\n",
       "        1.59712002e-01,  3.04058284e-01, -2.09206030e-01, -2.76217937e-01,\n",
       "       -1.33607194e-01,  7.97302201e-02, -9.52798724e-02,  7.83536583e-02,\n",
       "        2.95799166e-01,  6.08400881e-01, -2.73779295e-02, -9.07498822e-02,\n",
       "       -1.99004531e-01,  6.40130818e-01, -2.91741401e-01,  4.29007500e-01,\n",
       "       -6.28758371e-02, -4.22727287e-01, -6.64371073e-01, -3.85520905e-01,\n",
       "       -3.18050176e-01, -7.47306764e-01, -6.12947904e-03,  7.19189197e-02,\n",
       "        4.75595713e-01, -2.81551898e-01,  1.84248239e-01, -1.13992929e-01,\n",
       "        1.30756080e-01, -3.91333729e-01,  1.19821846e-01,  1.98533893e-01,\n",
       "        5.22634804e-01, -8.82424340e-02,  8.73349532e-02,  5.45363016e-02,\n",
       "       -2.19163686e-01,  4.71750610e-02, -1.11574791e-01,  1.00017965e-01,\n",
       "        1.99747875e-01,  2.56031215e-01,  1.90283611e-01,  2.28415489e-01,\n",
       "       -5.00535928e-02, -4.52179402e-01,  3.26318443e-02,  3.39117289e-01,\n",
       "       -5.08299232e-01,  2.75390536e-01, -1.21112242e-01, -1.54109985e-01,\n",
       "        2.24429488e-01,  3.01847935e-01, -4.89191890e-01, -4.84714210e-02,\n",
       "       -2.25363344e-01, -2.87031561e-01,  2.16138382e-02,  3.65274787e-01,\n",
       "        5.04588000e-02, -2.13959441e-01, -9.91413072e-02,  5.40711522e-01,\n",
       "        2.22394273e-01,  7.44864494e-02, -8.05601254e-02,  8.70512873e-02,\n",
       "       -4.75332618e-01, -4.34106708e-01, -1.06095158e-01,  6.94144294e-02,\n",
       "       -4.04932350e-01,  1.14693820e-01, -7.43917003e-02, -1.66854620e-01,\n",
       "       -3.43024641e-01, -3.80523264e-01, -2.71297365e-01,  4.03804630e-01,\n",
       "       -8.05955648e-01,  2.66306490e-01, -3.78682792e-01, -1.69257686e-01,\n",
       "       -4.27801549e-01, -4.05115515e-01,  1.54742384e-02, -4.01286364e-01,\n",
       "        3.54859620e-01,  1.99958786e-01,  1.32981092e-01, -4.91745323e-02,\n",
       "        2.38557622e-01,  2.60111969e-02, -2.24819556e-01, -4.00881439e-01],\n",
       "      dtype=float32)"
      ]
     },
     "execution_count": 169,
     "metadata": {},
     "output_type": "execute_result"
    }
   ],
   "source": [
    "embedded_array[0]"
   ]
  },
  {
   "cell_type": "code",
   "execution_count": 170,
   "metadata": {},
   "outputs": [
    {
     "data": {
      "text/plain": [
       "(444990, 768)"
      ]
     },
     "execution_count": 170,
     "metadata": {},
     "output_type": "execute_result"
    }
   ],
   "source": [
    "embedded_array.shape"
   ]
  },
  {
   "cell_type": "markdown",
   "metadata": {},
   "source": [
    "**We need to use PCA to reduce dimensionality**"
   ]
  },
  {
   "cell_type": "code",
   "execution_count": 175,
   "metadata": {},
   "outputs": [],
   "source": [
    "from sklearn.decomposition import PCA\n",
    "\n",
    "pca = PCA(n_components=1) # 1-dimension to simply see the correlation\n",
    "pca_result = pca.fit_transform(embedded_array)"
   ]
  },
  {
   "cell_type": "code",
   "execution_count": 176,
   "metadata": {},
   "outputs": [
    {
     "data": {
      "text/plain": [
       "(444990, 1)"
      ]
     },
     "execution_count": 176,
     "metadata": {},
     "output_type": "execute_result"
    }
   ],
   "source": [
    "pca_result.shape"
   ]
  },
  {
   "cell_type": "code",
   "execution_count": 177,
   "metadata": {},
   "outputs": [
    {
     "data": {
      "text/plain": [
       "array([[ 2.4462774],\n",
       "       [-1.7118325],\n",
       "       [ 2.1913204],\n",
       "       ...,\n",
       "       [ 1.2313087],\n",
       "       [ 2.1554954],\n",
       "       [ 1.1218121]], dtype=float32)"
      ]
     },
     "execution_count": 177,
     "metadata": {},
     "output_type": "execute_result"
    }
   ],
   "source": [
    "pca_result"
   ]
  },
  {
   "cell_type": "code",
   "execution_count": null,
   "metadata": {},
   "outputs": [],
   "source": [
    "pca_result = pca_result.reshape(-1,)"
   ]
  },
  {
   "cell_type": "markdown",
   "metadata": {},
   "source": [
    "**Encoding Country column**"
   ]
  },
  {
   "cell_type": "code",
   "execution_count": 184,
   "metadata": {},
   "outputs": [],
   "source": [
    "from sklearn.preprocessing import LabelEncoder\n",
    "\n",
    "le = LabelEncoder()\n",
    "\n",
    "final_df['Country'] = le.fit_transform(final_df['Country'])"
   ]
  },
  {
   "cell_type": "code",
   "execution_count": 185,
   "metadata": {},
   "outputs": [
    {
     "data": {
      "text/html": [
       "<div>\n",
       "<style scoped>\n",
       "    .dataframe tbody tr th:only-of-type {\n",
       "        vertical-align: middle;\n",
       "    }\n",
       "\n",
       "    .dataframe tbody tr th {\n",
       "        vertical-align: top;\n",
       "    }\n",
       "\n",
       "    .dataframe thead th {\n",
       "        text-align: right;\n",
       "    }\n",
       "</style>\n",
       "<table border=\"1\" class=\"dataframe\">\n",
       "  <thead>\n",
       "    <tr style=\"text-align: right;\">\n",
       "      <th></th>\n",
       "      <th>Description</th>\n",
       "      <th>Quantity</th>\n",
       "      <th>UnitPrice</th>\n",
       "      <th>Country</th>\n",
       "      <th>TotalPrice</th>\n",
       "    </tr>\n",
       "  </thead>\n",
       "  <tbody>\n",
       "    <tr>\n",
       "      <th>0</th>\n",
       "      <td>WHITE HANGING HEART T-LIGHT HOLDER</td>\n",
       "      <td>6</td>\n",
       "      <td>2.55</td>\n",
       "      <td>36</td>\n",
       "      <td>15.30</td>\n",
       "    </tr>\n",
       "    <tr>\n",
       "      <th>1</th>\n",
       "      <td>WHITE METAL LANTERN</td>\n",
       "      <td>6</td>\n",
       "      <td>3.39</td>\n",
       "      <td>36</td>\n",
       "      <td>20.34</td>\n",
       "    </tr>\n",
       "    <tr>\n",
       "      <th>2</th>\n",
       "      <td>CREAM CUPID HEARTS COAT HANGER</td>\n",
       "      <td>8</td>\n",
       "      <td>2.75</td>\n",
       "      <td>36</td>\n",
       "      <td>22.00</td>\n",
       "    </tr>\n",
       "    <tr>\n",
       "      <th>3</th>\n",
       "      <td>KNITTED UNION FLAG HOT WATER BOTTLE</td>\n",
       "      <td>6</td>\n",
       "      <td>3.39</td>\n",
       "      <td>36</td>\n",
       "      <td>20.34</td>\n",
       "    </tr>\n",
       "    <tr>\n",
       "      <th>4</th>\n",
       "      <td>RED WOOLLY HOTTIE WHITE HEART.</td>\n",
       "      <td>6</td>\n",
       "      <td>3.39</td>\n",
       "      <td>36</td>\n",
       "      <td>20.34</td>\n",
       "    </tr>\n",
       "  </tbody>\n",
       "</table>\n",
       "</div>"
      ],
      "text/plain": [
       "                           Description  Quantity  UnitPrice  Country  \\\n",
       "0   WHITE HANGING HEART T-LIGHT HOLDER         6       2.55       36   \n",
       "1                  WHITE METAL LANTERN         6       3.39       36   \n",
       "2       CREAM CUPID HEARTS COAT HANGER         8       2.75       36   \n",
       "3  KNITTED UNION FLAG HOT WATER BOTTLE         6       3.39       36   \n",
       "4       RED WOOLLY HOTTIE WHITE HEART.         6       3.39       36   \n",
       "\n",
       "   TotalPrice  \n",
       "0       15.30  \n",
       "1       20.34  \n",
       "2       22.00  \n",
       "3       20.34  \n",
       "4       20.34  "
      ]
     },
     "execution_count": 185,
     "metadata": {},
     "output_type": "execute_result"
    }
   ],
   "source": [
    "final_df.head()"
   ]
  },
  {
   "cell_type": "code",
   "execution_count": 186,
   "metadata": {},
   "outputs": [],
   "source": [
    "final_df['description_pca'] = pca_result"
   ]
  },
  {
   "cell_type": "code",
   "execution_count": 187,
   "metadata": {},
   "outputs": [
    {
     "data": {
      "text/html": [
       "<div>\n",
       "<style scoped>\n",
       "    .dataframe tbody tr th:only-of-type {\n",
       "        vertical-align: middle;\n",
       "    }\n",
       "\n",
       "    .dataframe tbody tr th {\n",
       "        vertical-align: top;\n",
       "    }\n",
       "\n",
       "    .dataframe thead th {\n",
       "        text-align: right;\n",
       "    }\n",
       "</style>\n",
       "<table border=\"1\" class=\"dataframe\">\n",
       "  <thead>\n",
       "    <tr style=\"text-align: right;\">\n",
       "      <th></th>\n",
       "      <th>Description</th>\n",
       "      <th>Quantity</th>\n",
       "      <th>UnitPrice</th>\n",
       "      <th>Country</th>\n",
       "      <th>TotalPrice</th>\n",
       "      <th>description_pca</th>\n",
       "    </tr>\n",
       "  </thead>\n",
       "  <tbody>\n",
       "    <tr>\n",
       "      <th>0</th>\n",
       "      <td>WHITE HANGING HEART T-LIGHT HOLDER</td>\n",
       "      <td>6</td>\n",
       "      <td>2.55</td>\n",
       "      <td>36</td>\n",
       "      <td>15.30</td>\n",
       "      <td>2.446277</td>\n",
       "    </tr>\n",
       "    <tr>\n",
       "      <th>1</th>\n",
       "      <td>WHITE METAL LANTERN</td>\n",
       "      <td>6</td>\n",
       "      <td>3.39</td>\n",
       "      <td>36</td>\n",
       "      <td>20.34</td>\n",
       "      <td>-1.711833</td>\n",
       "    </tr>\n",
       "    <tr>\n",
       "      <th>2</th>\n",
       "      <td>CREAM CUPID HEARTS COAT HANGER</td>\n",
       "      <td>8</td>\n",
       "      <td>2.75</td>\n",
       "      <td>36</td>\n",
       "      <td>22.00</td>\n",
       "      <td>2.191320</td>\n",
       "    </tr>\n",
       "    <tr>\n",
       "      <th>3</th>\n",
       "      <td>KNITTED UNION FLAG HOT WATER BOTTLE</td>\n",
       "      <td>6</td>\n",
       "      <td>3.39</td>\n",
       "      <td>36</td>\n",
       "      <td>20.34</td>\n",
       "      <td>2.692801</td>\n",
       "    </tr>\n",
       "    <tr>\n",
       "      <th>4</th>\n",
       "      <td>RED WOOLLY HOTTIE WHITE HEART.</td>\n",
       "      <td>6</td>\n",
       "      <td>3.39</td>\n",
       "      <td>36</td>\n",
       "      <td>20.34</td>\n",
       "      <td>1.917524</td>\n",
       "    </tr>\n",
       "    <tr>\n",
       "      <th>...</th>\n",
       "      <td>...</td>\n",
       "      <td>...</td>\n",
       "      <td>...</td>\n",
       "      <td>...</td>\n",
       "      <td>...</td>\n",
       "      <td>...</td>\n",
       "    </tr>\n",
       "    <tr>\n",
       "      <th>541904</th>\n",
       "      <td>PACK OF 20 SPACEBOY NAPKINS</td>\n",
       "      <td>12</td>\n",
       "      <td>0.85</td>\n",
       "      <td>13</td>\n",
       "      <td>10.20</td>\n",
       "      <td>1.777542</td>\n",
       "    </tr>\n",
       "    <tr>\n",
       "      <th>541905</th>\n",
       "      <td>CHILDREN'S APRON DOLLY GIRL</td>\n",
       "      <td>6</td>\n",
       "      <td>2.10</td>\n",
       "      <td>13</td>\n",
       "      <td>12.60</td>\n",
       "      <td>1.624916</td>\n",
       "    </tr>\n",
       "    <tr>\n",
       "      <th>541906</th>\n",
       "      <td>CHILDRENS CUTLERY DOLLY GIRL</td>\n",
       "      <td>4</td>\n",
       "      <td>4.15</td>\n",
       "      <td>13</td>\n",
       "      <td>16.60</td>\n",
       "      <td>1.231309</td>\n",
       "    </tr>\n",
       "    <tr>\n",
       "      <th>541907</th>\n",
       "      <td>CHILDRENS CUTLERY CIRCUS PARADE</td>\n",
       "      <td>4</td>\n",
       "      <td>4.15</td>\n",
       "      <td>13</td>\n",
       "      <td>16.60</td>\n",
       "      <td>2.155495</td>\n",
       "    </tr>\n",
       "    <tr>\n",
       "      <th>541908</th>\n",
       "      <td>BAKING SET 9 PIECE RETROSPOT</td>\n",
       "      <td>3</td>\n",
       "      <td>4.95</td>\n",
       "      <td>13</td>\n",
       "      <td>14.85</td>\n",
       "      <td>1.121812</td>\n",
       "    </tr>\n",
       "  </tbody>\n",
       "</table>\n",
       "<p>444990 rows × 6 columns</p>\n",
       "</div>"
      ],
      "text/plain": [
       "                                Description  Quantity  UnitPrice  Country  \\\n",
       "0        WHITE HANGING HEART T-LIGHT HOLDER         6       2.55       36   \n",
       "1                       WHITE METAL LANTERN         6       3.39       36   \n",
       "2            CREAM CUPID HEARTS COAT HANGER         8       2.75       36   \n",
       "3       KNITTED UNION FLAG HOT WATER BOTTLE         6       3.39       36   \n",
       "4            RED WOOLLY HOTTIE WHITE HEART.         6       3.39       36   \n",
       "...                                     ...       ...        ...      ...   \n",
       "541904          PACK OF 20 SPACEBOY NAPKINS        12       0.85       13   \n",
       "541905         CHILDREN'S APRON DOLLY GIRL          6       2.10       13   \n",
       "541906        CHILDRENS CUTLERY DOLLY GIRL          4       4.15       13   \n",
       "541907      CHILDRENS CUTLERY CIRCUS PARADE         4       4.15       13   \n",
       "541908        BAKING SET 9 PIECE RETROSPOT          3       4.95       13   \n",
       "\n",
       "        TotalPrice  description_pca  \n",
       "0            15.30         2.446277  \n",
       "1            20.34        -1.711833  \n",
       "2            22.00         2.191320  \n",
       "3            20.34         2.692801  \n",
       "4            20.34         1.917524  \n",
       "...            ...              ...  \n",
       "541904       10.20         1.777542  \n",
       "541905       12.60         1.624916  \n",
       "541906       16.60         1.231309  \n",
       "541907       16.60         2.155495  \n",
       "541908       14.85         1.121812  \n",
       "\n",
       "[444990 rows x 6 columns]"
      ]
     },
     "execution_count": 187,
     "metadata": {},
     "output_type": "execute_result"
    }
   ],
   "source": [
    "final_df"
   ]
  },
  {
   "cell_type": "code",
   "execution_count": 188,
   "metadata": {},
   "outputs": [
    {
     "data": {
      "text/plain": [
       "Description        0\n",
       "Quantity           0\n",
       "UnitPrice          0\n",
       "Country            0\n",
       "TotalPrice         0\n",
       "description_pca    0\n",
       "dtype: int64"
      ]
     },
     "execution_count": 188,
     "metadata": {},
     "output_type": "execute_result"
    }
   ],
   "source": [
    "final_df.isna().sum()"
   ]
  },
  {
   "cell_type": "code",
   "execution_count": 189,
   "metadata": {},
   "outputs": [],
   "source": [
    "df_tocorr = final_df.loc[::, ['Quantity', 'UnitPrice', 'Country', 'description_pca']]"
   ]
  },
  {
   "cell_type": "code",
   "execution_count": 190,
   "metadata": {},
   "outputs": [
    {
     "data": {
      "text/html": [
       "<div>\n",
       "<style scoped>\n",
       "    .dataframe tbody tr th:only-of-type {\n",
       "        vertical-align: middle;\n",
       "    }\n",
       "\n",
       "    .dataframe tbody tr th {\n",
       "        vertical-align: top;\n",
       "    }\n",
       "\n",
       "    .dataframe thead th {\n",
       "        text-align: right;\n",
       "    }\n",
       "</style>\n",
       "<table border=\"1\" class=\"dataframe\">\n",
       "  <thead>\n",
       "    <tr style=\"text-align: right;\">\n",
       "      <th></th>\n",
       "      <th>Quantity</th>\n",
       "      <th>UnitPrice</th>\n",
       "      <th>Country</th>\n",
       "      <th>description_pca</th>\n",
       "    </tr>\n",
       "  </thead>\n",
       "  <tbody>\n",
       "    <tr>\n",
       "      <th>0</th>\n",
       "      <td>6</td>\n",
       "      <td>2.55</td>\n",
       "      <td>36</td>\n",
       "      <td>2.446277</td>\n",
       "    </tr>\n",
       "    <tr>\n",
       "      <th>1</th>\n",
       "      <td>6</td>\n",
       "      <td>3.39</td>\n",
       "      <td>36</td>\n",
       "      <td>-1.711833</td>\n",
       "    </tr>\n",
       "    <tr>\n",
       "      <th>2</th>\n",
       "      <td>8</td>\n",
       "      <td>2.75</td>\n",
       "      <td>36</td>\n",
       "      <td>2.191320</td>\n",
       "    </tr>\n",
       "    <tr>\n",
       "      <th>3</th>\n",
       "      <td>6</td>\n",
       "      <td>3.39</td>\n",
       "      <td>36</td>\n",
       "      <td>2.692801</td>\n",
       "    </tr>\n",
       "    <tr>\n",
       "      <th>4</th>\n",
       "      <td>6</td>\n",
       "      <td>3.39</td>\n",
       "      <td>36</td>\n",
       "      <td>1.917524</td>\n",
       "    </tr>\n",
       "    <tr>\n",
       "      <th>...</th>\n",
       "      <td>...</td>\n",
       "      <td>...</td>\n",
       "      <td>...</td>\n",
       "      <td>...</td>\n",
       "    </tr>\n",
       "    <tr>\n",
       "      <th>541904</th>\n",
       "      <td>12</td>\n",
       "      <td>0.85</td>\n",
       "      <td>13</td>\n",
       "      <td>1.777542</td>\n",
       "    </tr>\n",
       "    <tr>\n",
       "      <th>541905</th>\n",
       "      <td>6</td>\n",
       "      <td>2.10</td>\n",
       "      <td>13</td>\n",
       "      <td>1.624916</td>\n",
       "    </tr>\n",
       "    <tr>\n",
       "      <th>541906</th>\n",
       "      <td>4</td>\n",
       "      <td>4.15</td>\n",
       "      <td>13</td>\n",
       "      <td>1.231309</td>\n",
       "    </tr>\n",
       "    <tr>\n",
       "      <th>541907</th>\n",
       "      <td>4</td>\n",
       "      <td>4.15</td>\n",
       "      <td>13</td>\n",
       "      <td>2.155495</td>\n",
       "    </tr>\n",
       "    <tr>\n",
       "      <th>541908</th>\n",
       "      <td>3</td>\n",
       "      <td>4.95</td>\n",
       "      <td>13</td>\n",
       "      <td>1.121812</td>\n",
       "    </tr>\n",
       "  </tbody>\n",
       "</table>\n",
       "<p>444990 rows × 4 columns</p>\n",
       "</div>"
      ],
      "text/plain": [
       "        Quantity  UnitPrice  Country  description_pca\n",
       "0              6       2.55       36         2.446277\n",
       "1              6       3.39       36        -1.711833\n",
       "2              8       2.75       36         2.191320\n",
       "3              6       3.39       36         2.692801\n",
       "4              6       3.39       36         1.917524\n",
       "...          ...        ...      ...              ...\n",
       "541904        12       0.85       13         1.777542\n",
       "541905         6       2.10       13         1.624916\n",
       "541906         4       4.15       13         1.231309\n",
       "541907         4       4.15       13         2.155495\n",
       "541908         3       4.95       13         1.121812\n",
       "\n",
       "[444990 rows x 4 columns]"
      ]
     },
     "execution_count": 190,
     "metadata": {},
     "output_type": "execute_result"
    }
   ],
   "source": [
    "df_tocorr"
   ]
  },
  {
   "cell_type": "code",
   "execution_count": 191,
   "metadata": {},
   "outputs": [],
   "source": [
    "corr = df_tocorr.corr()"
   ]
  },
  {
   "cell_type": "code",
   "execution_count": 192,
   "metadata": {},
   "outputs": [
    {
     "data": {
      "text/html": [
       "<div>\n",
       "<style scoped>\n",
       "    .dataframe tbody tr th:only-of-type {\n",
       "        vertical-align: middle;\n",
       "    }\n",
       "\n",
       "    .dataframe tbody tr th {\n",
       "        vertical-align: top;\n",
       "    }\n",
       "\n",
       "    .dataframe thead th {\n",
       "        text-align: right;\n",
       "    }\n",
       "</style>\n",
       "<table border=\"1\" class=\"dataframe\">\n",
       "  <thead>\n",
       "    <tr style=\"text-align: right;\">\n",
       "      <th></th>\n",
       "      <th>Quantity</th>\n",
       "      <th>UnitPrice</th>\n",
       "      <th>Country</th>\n",
       "      <th>description_pca</th>\n",
       "    </tr>\n",
       "  </thead>\n",
       "  <tbody>\n",
       "    <tr>\n",
       "      <th>Quantity</th>\n",
       "      <td>1.000000</td>\n",
       "      <td>-0.297517</td>\n",
       "      <td>-0.195144</td>\n",
       "      <td>0.009132</td>\n",
       "    </tr>\n",
       "    <tr>\n",
       "      <th>UnitPrice</th>\n",
       "      <td>-0.297517</td>\n",
       "      <td>1.000000</td>\n",
       "      <td>-0.003627</td>\n",
       "      <td>-0.005157</td>\n",
       "    </tr>\n",
       "    <tr>\n",
       "      <th>Country</th>\n",
       "      <td>-0.195144</td>\n",
       "      <td>-0.003627</td>\n",
       "      <td>1.000000</td>\n",
       "      <td>0.003807</td>\n",
       "    </tr>\n",
       "    <tr>\n",
       "      <th>description_pca</th>\n",
       "      <td>0.009132</td>\n",
       "      <td>-0.005157</td>\n",
       "      <td>0.003807</td>\n",
       "      <td>1.000000</td>\n",
       "    </tr>\n",
       "  </tbody>\n",
       "</table>\n",
       "</div>"
      ],
      "text/plain": [
       "                 Quantity  UnitPrice   Country  description_pca\n",
       "Quantity         1.000000  -0.297517 -0.195144         0.009132\n",
       "UnitPrice       -0.297517   1.000000 -0.003627        -0.005157\n",
       "Country         -0.195144  -0.003627  1.000000         0.003807\n",
       "description_pca  0.009132  -0.005157  0.003807         1.000000"
      ]
     },
     "execution_count": 192,
     "metadata": {},
     "output_type": "execute_result"
    }
   ],
   "source": [
    "corr"
   ]
  },
  {
   "cell_type": "code",
   "execution_count": 194,
   "metadata": {},
   "outputs": [
    {
     "data": {
      "image/png": "[encoded data removed]",
      "text/plain": [
       "<Figure size 1500x1000 with 2 Axes>"
      ]
     },
     "metadata": {},
     "output_type": "display_data"
    }
   ],
   "source": [
    "plt.figure(figsize=(15, 10))\n",
    "\n",
    "sns.heatmap(corr, annot=True)\n",
    "plt.title('Features correlations')\n",
    "plt.show()"
   ]
  },
  {
   "cell_type": "markdown",
   "metadata": {},
   "source": [
    "**From the heatmap we see that the description doesn't affect much but thats because we reduced to only 1 dimension which is not the best to do**"
   ]
  },
  {
   "cell_type": "markdown",
   "metadata": {},
   "source": [
    "## Key insights\n",
    "\n",
    "- This data shows different orders sales\n",
    "- The most ordered quantity is 23\n",
    "- Important features for the models are Description, UnitPrice, Country and Quantity\n",
    "- The data had a lot of outliers and duplicates all have been handled ready for the preprocess"
   ]
  },
  {
   "cell_type": "code",
   "execution_count": 197,
   "metadata": {},
   "outputs": [],
   "source": [
    "final_df = final_df.drop(['TotalPrice', 'description_pca'], axis= 1)"
   ]
  },
  {
   "cell_type": "code",
   "execution_count": 198,
   "metadata": {},
   "outputs": [
    {
     "data": {
      "text/html": [
       "<div>\n",
       "<style scoped>\n",
       "    .dataframe tbody tr th:only-of-type {\n",
       "        vertical-align: middle;\n",
       "    }\n",
       "\n",
       "    .dataframe tbody tr th {\n",
       "        vertical-align: top;\n",
       "    }\n",
       "\n",
       "    .dataframe thead th {\n",
       "        text-align: right;\n",
       "    }\n",
       "</style>\n",
       "<table border=\"1\" class=\"dataframe\">\n",
       "  <thead>\n",
       "    <tr style=\"text-align: right;\">\n",
       "      <th></th>\n",
       "      <th>Description</th>\n",
       "      <th>Quantity</th>\n",
       "      <th>UnitPrice</th>\n",
       "      <th>Country</th>\n",
       "    </tr>\n",
       "  </thead>\n",
       "  <tbody>\n",
       "    <tr>\n",
       "      <th>0</th>\n",
       "      <td>WHITE HANGING HEART T-LIGHT HOLDER</td>\n",
       "      <td>6</td>\n",
       "      <td>2.55</td>\n",
       "      <td>36</td>\n",
       "    </tr>\n",
       "    <tr>\n",
       "      <th>1</th>\n",
       "      <td>WHITE METAL LANTERN</td>\n",
       "      <td>6</td>\n",
       "      <td>3.39</td>\n",
       "      <td>36</td>\n",
       "    </tr>\n",
       "    <tr>\n",
       "      <th>2</th>\n",
       "      <td>CREAM CUPID HEARTS COAT HANGER</td>\n",
       "      <td>8</td>\n",
       "      <td>2.75</td>\n",
       "      <td>36</td>\n",
       "    </tr>\n",
       "    <tr>\n",
       "      <th>3</th>\n",
       "      <td>KNITTED UNION FLAG HOT WATER BOTTLE</td>\n",
       "      <td>6</td>\n",
       "      <td>3.39</td>\n",
       "      <td>36</td>\n",
       "    </tr>\n",
       "    <tr>\n",
       "      <th>4</th>\n",
       "      <td>RED WOOLLY HOTTIE WHITE HEART.</td>\n",
       "      <td>6</td>\n",
       "      <td>3.39</td>\n",
       "      <td>36</td>\n",
       "    </tr>\n",
       "  </tbody>\n",
       "</table>\n",
       "</div>"
      ],
      "text/plain": [
       "                           Description  Quantity  UnitPrice  Country\n",
       "0   WHITE HANGING HEART T-LIGHT HOLDER         6       2.55       36\n",
       "1                  WHITE METAL LANTERN         6       3.39       36\n",
       "2       CREAM CUPID HEARTS COAT HANGER         8       2.75       36\n",
       "3  KNITTED UNION FLAG HOT WATER BOTTLE         6       3.39       36\n",
       "4       RED WOOLLY HOTTIE WHITE HEART.         6       3.39       36"
      ]
     },
     "execution_count": 198,
     "metadata": {},
     "output_type": "execute_result"
    }
   ],
   "source": [
    "final_df.head()"
   ]
  },
  {
   "cell_type": "code",
   "execution_count": 199,
   "metadata": {},
   "outputs": [],
   "source": [
    "final_df['Country'] = le.inverse_transform(final_df['Country'])"
   ]
  },
  {
   "cell_type": "code",
   "execution_count": 200,
   "metadata": {},
   "outputs": [
    {
     "data": {
      "text/html": [
       "<div>\n",
       "<style scoped>\n",
       "    .dataframe tbody tr th:only-of-type {\n",
       "        vertical-align: middle;\n",
       "    }\n",
       "\n",
       "    .dataframe tbody tr th {\n",
       "        vertical-align: top;\n",
       "    }\n",
       "\n",
       "    .dataframe thead th {\n",
       "        text-align: right;\n",
       "    }\n",
       "</style>\n",
       "<table border=\"1\" class=\"dataframe\">\n",
       "  <thead>\n",
       "    <tr style=\"text-align: right;\">\n",
       "      <th></th>\n",
       "      <th>Description</th>\n",
       "      <th>Quantity</th>\n",
       "      <th>UnitPrice</th>\n",
       "      <th>Country</th>\n",
       "    </tr>\n",
       "  </thead>\n",
       "  <tbody>\n",
       "    <tr>\n",
       "      <th>0</th>\n",
       "      <td>WHITE HANGING HEART T-LIGHT HOLDER</td>\n",
       "      <td>6</td>\n",
       "      <td>2.55</td>\n",
       "      <td>United Kingdom</td>\n",
       "    </tr>\n",
       "    <tr>\n",
       "      <th>1</th>\n",
       "      <td>WHITE METAL LANTERN</td>\n",
       "      <td>6</td>\n",
       "      <td>3.39</td>\n",
       "      <td>United Kingdom</td>\n",
       "    </tr>\n",
       "    <tr>\n",
       "      <th>2</th>\n",
       "      <td>CREAM CUPID HEARTS COAT HANGER</td>\n",
       "      <td>8</td>\n",
       "      <td>2.75</td>\n",
       "      <td>United Kingdom</td>\n",
       "    </tr>\n",
       "    <tr>\n",
       "      <th>3</th>\n",
       "      <td>KNITTED UNION FLAG HOT WATER BOTTLE</td>\n",
       "      <td>6</td>\n",
       "      <td>3.39</td>\n",
       "      <td>United Kingdom</td>\n",
       "    </tr>\n",
       "    <tr>\n",
       "      <th>4</th>\n",
       "      <td>RED WOOLLY HOTTIE WHITE HEART.</td>\n",
       "      <td>6</td>\n",
       "      <td>3.39</td>\n",
       "      <td>United Kingdom</td>\n",
       "    </tr>\n",
       "    <tr>\n",
       "      <th>...</th>\n",
       "      <td>...</td>\n",
       "      <td>...</td>\n",
       "      <td>...</td>\n",
       "      <td>...</td>\n",
       "    </tr>\n",
       "    <tr>\n",
       "      <th>541904</th>\n",
       "      <td>PACK OF 20 SPACEBOY NAPKINS</td>\n",
       "      <td>12</td>\n",
       "      <td>0.85</td>\n",
       "      <td>France</td>\n",
       "    </tr>\n",
       "    <tr>\n",
       "      <th>541905</th>\n",
       "      <td>CHILDREN'S APRON DOLLY GIRL</td>\n",
       "      <td>6</td>\n",
       "      <td>2.10</td>\n",
       "      <td>France</td>\n",
       "    </tr>\n",
       "    <tr>\n",
       "      <th>541906</th>\n",
       "      <td>CHILDRENS CUTLERY DOLLY GIRL</td>\n",
       "      <td>4</td>\n",
       "      <td>4.15</td>\n",
       "      <td>France</td>\n",
       "    </tr>\n",
       "    <tr>\n",
       "      <th>541907</th>\n",
       "      <td>CHILDRENS CUTLERY CIRCUS PARADE</td>\n",
       "      <td>4</td>\n",
       "      <td>4.15</td>\n",
       "      <td>France</td>\n",
       "    </tr>\n",
       "    <tr>\n",
       "      <th>541908</th>\n",
       "      <td>BAKING SET 9 PIECE RETROSPOT</td>\n",
       "      <td>3</td>\n",
       "      <td>4.95</td>\n",
       "      <td>France</td>\n",
       "    </tr>\n",
       "  </tbody>\n",
       "</table>\n",
       "<p>444990 rows × 4 columns</p>\n",
       "</div>"
      ],
      "text/plain": [
       "                                Description  Quantity  UnitPrice  \\\n",
       "0        WHITE HANGING HEART T-LIGHT HOLDER         6       2.55   \n",
       "1                       WHITE METAL LANTERN         6       3.39   \n",
       "2            CREAM CUPID HEARTS COAT HANGER         8       2.75   \n",
       "3       KNITTED UNION FLAG HOT WATER BOTTLE         6       3.39   \n",
       "4            RED WOOLLY HOTTIE WHITE HEART.         6       3.39   \n",
       "...                                     ...       ...        ...   \n",
       "541904          PACK OF 20 SPACEBOY NAPKINS        12       0.85   \n",
       "541905         CHILDREN'S APRON DOLLY GIRL          6       2.10   \n",
       "541906        CHILDRENS CUTLERY DOLLY GIRL          4       4.15   \n",
       "541907      CHILDRENS CUTLERY CIRCUS PARADE         4       4.15   \n",
       "541908        BAKING SET 9 PIECE RETROSPOT          3       4.95   \n",
       "\n",
       "               Country  \n",
       "0       United Kingdom  \n",
       "1       United Kingdom  \n",
       "2       United Kingdom  \n",
       "3       United Kingdom  \n",
       "4       United Kingdom  \n",
       "...                ...  \n",
       "541904          France  \n",
       "541905          France  \n",
       "541906          France  \n",
       "541907          France  \n",
       "541908          France  \n",
       "\n",
       "[444990 rows x 4 columns]"
      ]
     },
     "execution_count": 200,
     "metadata": {},
     "output_type": "execute_result"
    }
   ],
   "source": [
    "final_df"
   ]
  },
  {
   "cell_type": "code",
   "execution_count": 201,
   "metadata": {},
   "outputs": [
    {
     "data": {
      "text/plain": [
       "'C:\\\\Users\\\\iiven\\\\Ai-Cursor\\\\Neural Network Foundation'"
      ]
     },
     "execution_count": 201,
     "metadata": {},
     "output_type": "execute_result"
    }
   ],
   "source": [
    "os.getcwd()"
   ]
  },
  {
   "cell_type": "code",
   "execution_count": 203,
   "metadata": {},
   "outputs": [],
   "source": [
    "final_df.to_csv('Data/before_preprocess_ecommerce.csv', index= False)"
   ]
  },
  {
   "cell_type": "code",
   "execution_count": null,
   "metadata": {},
   "outputs": [],
   "source": []
  }
 ],
 "metadata": {
  "kernelspec": {
   "display_name": "Ai",
   "language": "python",
   "name": "python3"
  },
  "language_info": {
   "codemirror_mode": {
    "name": "ipython",
    "version": 3
   },
   "file_extension": ".py",
   "mimetype": "text/x-python",
   "name": "python",
   "nbconvert_exporter": "python",
   "pygments_lexer": "ipython3",
   "version": "3.10.13"
  }
 },
 "nbformat": 4,
 "nbformat_minor": 2
}
