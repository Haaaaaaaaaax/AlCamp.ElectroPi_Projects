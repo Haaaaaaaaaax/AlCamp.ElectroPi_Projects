{
 "cells": [
  {
   "cell_type": "code",
   "execution_count": 1,
   "metadata": {},
   "outputs": [],
   "source": [
    "import numpy as np\n",
    "import pandas as pd\n",
    "import os"
   ]
  },
  {
   "cell_type": "code",
   "execution_count": 4,
   "metadata": {},
   "outputs": [],
   "source": [
    "os.chdir(r'c:\\\\Users\\\\iiven\\\\Ai-Cursor\\\\Neural Network Foundation')"
   ]
  },
  {
   "cell_type": "code",
   "execution_count": 5,
   "metadata": {},
   "outputs": [
    {
     "data": {
      "text/plain": [
       "'c:\\\\Users\\\\iiven\\\\Ai-Cursor\\\\Neural Network Foundation'"
      ]
     },
     "execution_count": 5,
     "metadata": {},
     "output_type": "execute_result"
    }
   ],
   "source": [
    "os.getcwd()"
   ]
  },
  {
   "cell_type": "code",
   "execution_count": 6,
   "metadata": {},
   "outputs": [],
   "source": [
    "df = pd.read_csv('Data/before_preprocess_ecommerce.csv', encoding='ISO-8859-1')"
   ]
  },
  {
   "cell_type": "code",
   "execution_count": 7,
   "metadata": {},
   "outputs": [
    {
     "data": {
      "text/html": [
       "<div>\n",
       "<style scoped>\n",
       "    .dataframe tbody tr th:only-of-type {\n",
       "        vertical-align: middle;\n",
       "    }\n",
       "\n",
       "    .dataframe tbody tr th {\n",
       "        vertical-align: top;\n",
       "    }\n",
       "\n",
       "    .dataframe thead th {\n",
       "        text-align: right;\n",
       "    }\n",
       "</style>\n",
       "<table border=\"1\" class=\"dataframe\">\n",
       "  <thead>\n",
       "    <tr style=\"text-align: right;\">\n",
       "      <th></th>\n",
       "      <th>Description</th>\n",
       "      <th>Quantity</th>\n",
       "      <th>UnitPrice</th>\n",
       "      <th>Country</th>\n",
       "    </tr>\n",
       "  </thead>\n",
       "  <tbody>\n",
       "    <tr>\n",
       "      <th>0</th>\n",
       "      <td>WHITE HANGING HEART T-LIGHT HOLDER</td>\n",
       "      <td>6</td>\n",
       "      <td>2.55</td>\n",
       "      <td>United Kingdom</td>\n",
       "    </tr>\n",
       "    <tr>\n",
       "      <th>1</th>\n",
       "      <td>WHITE METAL LANTERN</td>\n",
       "      <td>6</td>\n",
       "      <td>3.39</td>\n",
       "      <td>United Kingdom</td>\n",
       "    </tr>\n",
       "    <tr>\n",
       "      <th>2</th>\n",
       "      <td>CREAM CUPID HEARTS COAT HANGER</td>\n",
       "      <td>8</td>\n",
       "      <td>2.75</td>\n",
       "      <td>United Kingdom</td>\n",
       "    </tr>\n",
       "    <tr>\n",
       "      <th>3</th>\n",
       "      <td>KNITTED UNION FLAG HOT WATER BOTTLE</td>\n",
       "      <td>6</td>\n",
       "      <td>3.39</td>\n",
       "      <td>United Kingdom</td>\n",
       "    </tr>\n",
       "    <tr>\n",
       "      <th>4</th>\n",
       "      <td>RED WOOLLY HOTTIE WHITE HEART.</td>\n",
       "      <td>6</td>\n",
       "      <td>3.39</td>\n",
       "      <td>United Kingdom</td>\n",
       "    </tr>\n",
       "    <tr>\n",
       "      <th>5</th>\n",
       "      <td>SET 7 BABUSHKA NESTING BOXES</td>\n",
       "      <td>2</td>\n",
       "      <td>7.65</td>\n",
       "      <td>United Kingdom</td>\n",
       "    </tr>\n",
       "    <tr>\n",
       "      <th>6</th>\n",
       "      <td>GLASS STAR FROSTED T-LIGHT HOLDER</td>\n",
       "      <td>6</td>\n",
       "      <td>4.25</td>\n",
       "      <td>United Kingdom</td>\n",
       "    </tr>\n",
       "    <tr>\n",
       "      <th>7</th>\n",
       "      <td>HAND WARMER UNION JACK</td>\n",
       "      <td>6</td>\n",
       "      <td>1.85</td>\n",
       "      <td>United Kingdom</td>\n",
       "    </tr>\n",
       "    <tr>\n",
       "      <th>8</th>\n",
       "      <td>HAND WARMER RED POLKA DOT</td>\n",
       "      <td>6</td>\n",
       "      <td>1.85</td>\n",
       "      <td>United Kingdom</td>\n",
       "    </tr>\n",
       "    <tr>\n",
       "      <th>9</th>\n",
       "      <td>POPPY'S PLAYHOUSE BEDROOM</td>\n",
       "      <td>6</td>\n",
       "      <td>2.10</td>\n",
       "      <td>United Kingdom</td>\n",
       "    </tr>\n",
       "  </tbody>\n",
       "</table>\n",
       "</div>"
      ],
      "text/plain": [
       "                           Description  Quantity  UnitPrice         Country\n",
       "0   WHITE HANGING HEART T-LIGHT HOLDER         6       2.55  United Kingdom\n",
       "1                  WHITE METAL LANTERN         6       3.39  United Kingdom\n",
       "2       CREAM CUPID HEARTS COAT HANGER         8       2.75  United Kingdom\n",
       "3  KNITTED UNION FLAG HOT WATER BOTTLE         6       3.39  United Kingdom\n",
       "4       RED WOOLLY HOTTIE WHITE HEART.         6       3.39  United Kingdom\n",
       "5         SET 7 BABUSHKA NESTING BOXES         2       7.65  United Kingdom\n",
       "6    GLASS STAR FROSTED T-LIGHT HOLDER         6       4.25  United Kingdom\n",
       "7               HAND WARMER UNION JACK         6       1.85  United Kingdom\n",
       "8            HAND WARMER RED POLKA DOT         6       1.85  United Kingdom\n",
       "9           POPPY'S PLAYHOUSE BEDROOM          6       2.10  United Kingdom"
      ]
     },
     "execution_count": 7,
     "metadata": {},
     "output_type": "execute_result"
    }
   ],
   "source": [
    "df.head(10)"
   ]
  },
  {
   "cell_type": "code",
   "execution_count": 8,
   "metadata": {},
   "outputs": [
    {
     "data": {
      "text/plain": [
       "(444990, 4)"
      ]
     },
     "execution_count": 8,
     "metadata": {},
     "output_type": "execute_result"
    }
   ],
   "source": [
    "df.shape"
   ]
  },
  {
   "cell_type": "code",
   "execution_count": 9,
   "metadata": {},
   "outputs": [
    {
     "name": "stdout",
     "output_type": "stream",
     "text": [
      "<class 'pandas.core.frame.DataFrame'>\n",
      "RangeIndex: 444990 entries, 0 to 444989\n",
      "Data columns (total 4 columns):\n",
      " #   Column       Non-Null Count   Dtype  \n",
      "---  ------       --------------   -----  \n",
      " 0   Description  444990 non-null  object \n",
      " 1   Quantity     444990 non-null  int64  \n",
      " 2   UnitPrice    444990 non-null  float64\n",
      " 3   Country      444990 non-null  object \n",
      "dtypes: float64(1), int64(1), object(2)\n",
      "memory usage: 13.6+ MB\n"
     ]
    }
   ],
   "source": [
    "df.info()"
   ]
  },
  {
   "cell_type": "markdown",
   "metadata": {},
   "source": [
    "**For the preprocess we will encode Country column with LabelEncoder**<br>\n",
    "**Description column will be encoded with bert and then use PCA to reduce dimensionality**<br>\n",
    "**We will use StandardScaler for numeric columns**"
   ]
  },
  {
   "cell_type": "code",
   "execution_count": 10,
   "metadata": {},
   "outputs": [],
   "source": [
    "# LE\n",
    "from sklearn.preprocessing import LabelEncoder\n",
    "\n",
    "le = LabelEncoder()\n",
    "\n",
    "df['Country'] = le.fit_transform(df['Country'])"
   ]
  },
  {
   "cell_type": "code",
   "execution_count": 11,
   "metadata": {},
   "outputs": [
    {
     "data": {
      "text/html": [
       "<div>\n",
       "<style scoped>\n",
       "    .dataframe tbody tr th:only-of-type {\n",
       "        vertical-align: middle;\n",
       "    }\n",
       "\n",
       "    .dataframe tbody tr th {\n",
       "        vertical-align: top;\n",
       "    }\n",
       "\n",
       "    .dataframe thead th {\n",
       "        text-align: right;\n",
       "    }\n",
       "</style>\n",
       "<table border=\"1\" class=\"dataframe\">\n",
       "  <thead>\n",
       "    <tr style=\"text-align: right;\">\n",
       "      <th></th>\n",
       "      <th>Description</th>\n",
       "      <th>Quantity</th>\n",
       "      <th>UnitPrice</th>\n",
       "      <th>Country</th>\n",
       "    </tr>\n",
       "  </thead>\n",
       "  <tbody>\n",
       "    <tr>\n",
       "      <th>0</th>\n",
       "      <td>WHITE HANGING HEART T-LIGHT HOLDER</td>\n",
       "      <td>6</td>\n",
       "      <td>2.55</td>\n",
       "      <td>36</td>\n",
       "    </tr>\n",
       "    <tr>\n",
       "      <th>1</th>\n",
       "      <td>WHITE METAL LANTERN</td>\n",
       "      <td>6</td>\n",
       "      <td>3.39</td>\n",
       "      <td>36</td>\n",
       "    </tr>\n",
       "    <tr>\n",
       "      <th>2</th>\n",
       "      <td>CREAM CUPID HEARTS COAT HANGER</td>\n",
       "      <td>8</td>\n",
       "      <td>2.75</td>\n",
       "      <td>36</td>\n",
       "    </tr>\n",
       "    <tr>\n",
       "      <th>3</th>\n",
       "      <td>KNITTED UNION FLAG HOT WATER BOTTLE</td>\n",
       "      <td>6</td>\n",
       "      <td>3.39</td>\n",
       "      <td>36</td>\n",
       "    </tr>\n",
       "    <tr>\n",
       "      <th>4</th>\n",
       "      <td>RED WOOLLY HOTTIE WHITE HEART.</td>\n",
       "      <td>6</td>\n",
       "      <td>3.39</td>\n",
       "      <td>36</td>\n",
       "    </tr>\n",
       "    <tr>\n",
       "      <th>5</th>\n",
       "      <td>SET 7 BABUSHKA NESTING BOXES</td>\n",
       "      <td>2</td>\n",
       "      <td>7.65</td>\n",
       "      <td>36</td>\n",
       "    </tr>\n",
       "    <tr>\n",
       "      <th>6</th>\n",
       "      <td>GLASS STAR FROSTED T-LIGHT HOLDER</td>\n",
       "      <td>6</td>\n",
       "      <td>4.25</td>\n",
       "      <td>36</td>\n",
       "    </tr>\n",
       "    <tr>\n",
       "      <th>7</th>\n",
       "      <td>HAND WARMER UNION JACK</td>\n",
       "      <td>6</td>\n",
       "      <td>1.85</td>\n",
       "      <td>36</td>\n",
       "    </tr>\n",
       "    <tr>\n",
       "      <th>8</th>\n",
       "      <td>HAND WARMER RED POLKA DOT</td>\n",
       "      <td>6</td>\n",
       "      <td>1.85</td>\n",
       "      <td>36</td>\n",
       "    </tr>\n",
       "    <tr>\n",
       "      <th>9</th>\n",
       "      <td>POPPY'S PLAYHOUSE BEDROOM</td>\n",
       "      <td>6</td>\n",
       "      <td>2.10</td>\n",
       "      <td>36</td>\n",
       "    </tr>\n",
       "  </tbody>\n",
       "</table>\n",
       "</div>"
      ],
      "text/plain": [
       "                           Description  Quantity  UnitPrice  Country\n",
       "0   WHITE HANGING HEART T-LIGHT HOLDER         6       2.55       36\n",
       "1                  WHITE METAL LANTERN         6       3.39       36\n",
       "2       CREAM CUPID HEARTS COAT HANGER         8       2.75       36\n",
       "3  KNITTED UNION FLAG HOT WATER BOTTLE         6       3.39       36\n",
       "4       RED WOOLLY HOTTIE WHITE HEART.         6       3.39       36\n",
       "5         SET 7 BABUSHKA NESTING BOXES         2       7.65       36\n",
       "6    GLASS STAR FROSTED T-LIGHT HOLDER         6       4.25       36\n",
       "7               HAND WARMER UNION JACK         6       1.85       36\n",
       "8            HAND WARMER RED POLKA DOT         6       1.85       36\n",
       "9           POPPY'S PLAYHOUSE BEDROOM          6       2.10       36"
      ]
     },
     "execution_count": 11,
     "metadata": {},
     "output_type": "execute_result"
    }
   ],
   "source": [
    "df.head(10)"
   ]
  },
  {
   "cell_type": "code",
   "execution_count": 13,
   "metadata": {},
   "outputs": [
    {
     "name": "stderr",
     "output_type": "stream",
     "text": [
      "c:\\Users\\iiven\\miniconda3\\envs\\Ai\\lib\\site-packages\\tqdm\\auto.py:21: TqdmWarning: IProgress not found. Please update jupyter and ipywidgets. See https://ipywidgets.readthedocs.io/en/stable/user_install.html\n",
      "  from .autonotebook import tqdm as notebook_tqdm\n"
     ]
    }
   ],
   "source": [
    "# Bert model\n",
    "from transformers import BertTokenizer, BertModel\n",
    "import torch\n",
    "\n",
    "tokenizer = BertTokenizer.from_pretrained('bert-base-uncased')\n",
    "model = BertModel.from_pretrained('bert-base-uncased')\n"
   ]
  },
  {
   "cell_type": "code",
   "execution_count": 14,
   "metadata": {},
   "outputs": [],
   "source": [
    "description = df['Description'].astype(str).to_list()"
   ]
  },
  {
   "cell_type": "code",
   "execution_count": 15,
   "metadata": {},
   "outputs": [
    {
     "data": {
      "text/plain": [
       "device(type='cuda')"
      ]
     },
     "execution_count": 15,
     "metadata": {},
     "output_type": "execute_result"
    }
   ],
   "source": [
    "device = torch.device('cuda' if torch.cuda.is_available() else 'cpu')\n",
    "device"
   ]
  },
  {
   "cell_type": "code",
   "execution_count": 16,
   "metadata": {},
   "outputs": [
    {
     "data": {
      "text/plain": [
       "BertModel(\n",
       "  (embeddings): BertEmbeddings(\n",
       "    (word_embeddings): Embedding(30522, 768, padding_idx=0)\n",
       "    (position_embeddings): Embedding(512, 768)\n",
       "    (token_type_embeddings): Embedding(2, 768)\n",
       "    (LayerNorm): LayerNorm((768,), eps=1e-12, elementwise_affine=True)\n",
       "    (dropout): Dropout(p=0.1, inplace=False)\n",
       "  )\n",
       "  (encoder): BertEncoder(\n",
       "    (layer): ModuleList(\n",
       "      (0-11): 12 x BertLayer(\n",
       "        (attention): BertAttention(\n",
       "          (self): BertSdpaSelfAttention(\n",
       "            (query): Linear(in_features=768, out_features=768, bias=True)\n",
       "            (key): Linear(in_features=768, out_features=768, bias=True)\n",
       "            (value): Linear(in_features=768, out_features=768, bias=True)\n",
       "            (dropout): Dropout(p=0.1, inplace=False)\n",
       "          )\n",
       "          (output): BertSelfOutput(\n",
       "            (dense): Linear(in_features=768, out_features=768, bias=True)\n",
       "            (LayerNorm): LayerNorm((768,), eps=1e-12, elementwise_affine=True)\n",
       "            (dropout): Dropout(p=0.1, inplace=False)\n",
       "          )\n",
       "        )\n",
       "        (intermediate): BertIntermediate(\n",
       "          (dense): Linear(in_features=768, out_features=3072, bias=True)\n",
       "          (intermediate_act_fn): GELUActivation()\n",
       "        )\n",
       "        (output): BertOutput(\n",
       "          (dense): Linear(in_features=3072, out_features=768, bias=True)\n",
       "          (LayerNorm): LayerNorm((768,), eps=1e-12, elementwise_affine=True)\n",
       "          (dropout): Dropout(p=0.1, inplace=False)\n",
       "        )\n",
       "      )\n",
       "    )\n",
       "  )\n",
       "  (pooler): BertPooler(\n",
       "    (dense): Linear(in_features=768, out_features=768, bias=True)\n",
       "    (activation): Tanh()\n",
       "  )\n",
       ")"
      ]
     },
     "execution_count": 16,
     "metadata": {},
     "output_type": "execute_result"
    }
   ],
   "source": [
    "model.eval()\n",
    "model.to(device)"
   ]
  },
  {
   "cell_type": "code",
   "execution_count": 17,
   "metadata": {},
   "outputs": [],
   "source": [
    "from tqdm import tqdm\n",
    "\n",
    "def encode_batch_with_progress(texts, batch_size=64):\n",
    "    all_embeddings = []\n",
    "\n",
    "    for i in tqdm(range(0, len(texts), batch_size)):\n",
    "        batch = texts[i:i+batch_size]\n",
    "        inputs = tokenizer(batch, return_tensors='pt', truncation=True, padding=True, max_length=50)\n",
    "        inputs = {k: v.to(device) for k, v in inputs.items()}\n",
    "\n",
    "        with torch.no_grad():\n",
    "            outputs = model(**inputs)\n",
    "\n",
    "        embeddings = outputs.last_hidden_state.mean(dim=1)\n",
    "        all_embeddings.append(embeddings.cpu())\n",
    "\n",
    "    return torch.cat(all_embeddings).numpy()\n",
    "\n"
   ]
  },
  {
   "cell_type": "code",
   "execution_count": 18,
   "metadata": {},
   "outputs": [
    {
     "name": "stderr",
     "output_type": "stream",
     "text": [
      "100%|██████████| 6953/6953 [06:08<00:00, 18.88it/s]\n"
     ]
    }
   ],
   "source": [
    "embedded_list = encode_batch_with_progress(description, batch_size=64)"
   ]
  },
  {
   "cell_type": "code",
   "execution_count": 19,
   "metadata": {},
   "outputs": [
    {
     "data": {
      "text/plain": [
       "array([[ 0.51657015, -0.22835104, -0.21700491, ...,  0.0260112 ,\n",
       "        -0.22481956, -0.40088144],\n",
       "       [ 0.11888622,  0.08073001, -0.3610544 , ...,  0.04127744,\n",
       "         0.06188593,  0.01513435],\n",
       "       [-0.01617578, -0.37784174,  0.3249077 , ..., -0.08035561,\n",
       "        -0.1364067 , -0.15564895],\n",
       "       ...,\n",
       "       [ 0.11265852, -0.04419464,  0.04499143, ..., -0.10868813,\n",
       "         0.09193849, -0.44006786],\n",
       "       [ 0.25742558,  0.00796375,  0.04746373, ...,  0.05476691,\n",
       "         0.09787294, -0.24127717],\n",
       "       [ 0.10225587,  0.11473785,  0.04573229, ...,  0.01495004,\n",
       "        -0.08081717, -0.26455718]], dtype=float32)"
      ]
     },
     "execution_count": 19,
     "metadata": {},
     "output_type": "execute_result"
    }
   ],
   "source": [
    "embedded_list"
   ]
  },
  {
   "cell_type": "code",
   "execution_count": 20,
   "metadata": {},
   "outputs": [
    {
     "data": {
      "text/plain": [
       "(444990, 768)"
      ]
     },
     "execution_count": 20,
     "metadata": {},
     "output_type": "execute_result"
    }
   ],
   "source": [
    "embedded_list.shape"
   ]
  },
  {
   "cell_type": "code",
   "execution_count": 21,
   "metadata": {},
   "outputs": [],
   "source": [
    "# Use PCA\n",
    "from sklearn.decomposition import PCA\n",
    "\n",
    "pca = PCA(n_components= 20) # we get 20 features for more accuracy\n",
    "embedded_pca = pca.fit_transform(embedded_list)"
   ]
  },
  {
   "cell_type": "code",
   "execution_count": 23,
   "metadata": {},
   "outputs": [
    {
     "data": {
      "text/plain": [
       "(444990, 20)"
      ]
     },
     "execution_count": 23,
     "metadata": {},
     "output_type": "execute_result"
    }
   ],
   "source": [
    "embedded_pca.shape"
   ]
  },
  {
   "cell_type": "code",
   "execution_count": 24,
   "metadata": {},
   "outputs": [
    {
     "data": {
      "text/html": [
       "<div>\n",
       "<style scoped>\n",
       "    .dataframe tbody tr th:only-of-type {\n",
       "        vertical-align: middle;\n",
       "    }\n",
       "\n",
       "    .dataframe tbody tr th {\n",
       "        vertical-align: top;\n",
       "    }\n",
       "\n",
       "    .dataframe thead th {\n",
       "        text-align: right;\n",
       "    }\n",
       "</style>\n",
       "<table border=\"1\" class=\"dataframe\">\n",
       "  <thead>\n",
       "    <tr style=\"text-align: right;\">\n",
       "      <th></th>\n",
       "      <th>Description</th>\n",
       "      <th>Quantity</th>\n",
       "      <th>UnitPrice</th>\n",
       "      <th>Country</th>\n",
       "    </tr>\n",
       "  </thead>\n",
       "  <tbody>\n",
       "    <tr>\n",
       "      <th>0</th>\n",
       "      <td>WHITE HANGING HEART T-LIGHT HOLDER</td>\n",
       "      <td>6</td>\n",
       "      <td>2.55</td>\n",
       "      <td>36</td>\n",
       "    </tr>\n",
       "    <tr>\n",
       "      <th>1</th>\n",
       "      <td>WHITE METAL LANTERN</td>\n",
       "      <td>6</td>\n",
       "      <td>3.39</td>\n",
       "      <td>36</td>\n",
       "    </tr>\n",
       "    <tr>\n",
       "      <th>2</th>\n",
       "      <td>CREAM CUPID HEARTS COAT HANGER</td>\n",
       "      <td>8</td>\n",
       "      <td>2.75</td>\n",
       "      <td>36</td>\n",
       "    </tr>\n",
       "    <tr>\n",
       "      <th>3</th>\n",
       "      <td>KNITTED UNION FLAG HOT WATER BOTTLE</td>\n",
       "      <td>6</td>\n",
       "      <td>3.39</td>\n",
       "      <td>36</td>\n",
       "    </tr>\n",
       "    <tr>\n",
       "      <th>4</th>\n",
       "      <td>RED WOOLLY HOTTIE WHITE HEART.</td>\n",
       "      <td>6</td>\n",
       "      <td>3.39</td>\n",
       "      <td>36</td>\n",
       "    </tr>\n",
       "    <tr>\n",
       "      <th>...</th>\n",
       "      <td>...</td>\n",
       "      <td>...</td>\n",
       "      <td>...</td>\n",
       "      <td>...</td>\n",
       "    </tr>\n",
       "    <tr>\n",
       "      <th>444985</th>\n",
       "      <td>PACK OF 20 SPACEBOY NAPKINS</td>\n",
       "      <td>12</td>\n",
       "      <td>0.85</td>\n",
       "      <td>13</td>\n",
       "    </tr>\n",
       "    <tr>\n",
       "      <th>444986</th>\n",
       "      <td>CHILDREN'S APRON DOLLY GIRL</td>\n",
       "      <td>6</td>\n",
       "      <td>2.10</td>\n",
       "      <td>13</td>\n",
       "    </tr>\n",
       "    <tr>\n",
       "      <th>444987</th>\n",
       "      <td>CHILDRENS CUTLERY DOLLY GIRL</td>\n",
       "      <td>4</td>\n",
       "      <td>4.15</td>\n",
       "      <td>13</td>\n",
       "    </tr>\n",
       "    <tr>\n",
       "      <th>444988</th>\n",
       "      <td>CHILDRENS CUTLERY CIRCUS PARADE</td>\n",
       "      <td>4</td>\n",
       "      <td>4.15</td>\n",
       "      <td>13</td>\n",
       "    </tr>\n",
       "    <tr>\n",
       "      <th>444989</th>\n",
       "      <td>BAKING SET 9 PIECE RETROSPOT</td>\n",
       "      <td>3</td>\n",
       "      <td>4.95</td>\n",
       "      <td>13</td>\n",
       "    </tr>\n",
       "  </tbody>\n",
       "</table>\n",
       "<p>444990 rows × 4 columns</p>\n",
       "</div>"
      ],
      "text/plain": [
       "                                Description  Quantity  UnitPrice  Country\n",
       "0        WHITE HANGING HEART T-LIGHT HOLDER         6       2.55       36\n",
       "1                       WHITE METAL LANTERN         6       3.39       36\n",
       "2            CREAM CUPID HEARTS COAT HANGER         8       2.75       36\n",
       "3       KNITTED UNION FLAG HOT WATER BOTTLE         6       3.39       36\n",
       "4            RED WOOLLY HOTTIE WHITE HEART.         6       3.39       36\n",
       "...                                     ...       ...        ...      ...\n",
       "444985          PACK OF 20 SPACEBOY NAPKINS        12       0.85       13\n",
       "444986         CHILDREN'S APRON DOLLY GIRL          6       2.10       13\n",
       "444987        CHILDRENS CUTLERY DOLLY GIRL          4       4.15       13\n",
       "444988      CHILDRENS CUTLERY CIRCUS PARADE         4       4.15       13\n",
       "444989        BAKING SET 9 PIECE RETROSPOT          3       4.95       13\n",
       "\n",
       "[444990 rows x 4 columns]"
      ]
     },
     "execution_count": 24,
     "metadata": {},
     "output_type": "execute_result"
    }
   ],
   "source": [
    "df"
   ]
  },
  {
   "cell_type": "code",
   "execution_count": 26,
   "metadata": {},
   "outputs": [],
   "source": [
    "dummy_df = df.iloc[::, 1::]"
   ]
  },
  {
   "cell_type": "code",
   "execution_count": 27,
   "metadata": {},
   "outputs": [
    {
     "data": {
      "text/html": [
       "<div>\n",
       "<style scoped>\n",
       "    .dataframe tbody tr th:only-of-type {\n",
       "        vertical-align: middle;\n",
       "    }\n",
       "\n",
       "    .dataframe tbody tr th {\n",
       "        vertical-align: top;\n",
       "    }\n",
       "\n",
       "    .dataframe thead th {\n",
       "        text-align: right;\n",
       "    }\n",
       "</style>\n",
       "<table border=\"1\" class=\"dataframe\">\n",
       "  <thead>\n",
       "    <tr style=\"text-align: right;\">\n",
       "      <th></th>\n",
       "      <th>Quantity</th>\n",
       "      <th>UnitPrice</th>\n",
       "      <th>Country</th>\n",
       "    </tr>\n",
       "  </thead>\n",
       "  <tbody>\n",
       "    <tr>\n",
       "      <th>0</th>\n",
       "      <td>6</td>\n",
       "      <td>2.55</td>\n",
       "      <td>36</td>\n",
       "    </tr>\n",
       "    <tr>\n",
       "      <th>1</th>\n",
       "      <td>6</td>\n",
       "      <td>3.39</td>\n",
       "      <td>36</td>\n",
       "    </tr>\n",
       "    <tr>\n",
       "      <th>2</th>\n",
       "      <td>8</td>\n",
       "      <td>2.75</td>\n",
       "      <td>36</td>\n",
       "    </tr>\n",
       "    <tr>\n",
       "      <th>3</th>\n",
       "      <td>6</td>\n",
       "      <td>3.39</td>\n",
       "      <td>36</td>\n",
       "    </tr>\n",
       "    <tr>\n",
       "      <th>4</th>\n",
       "      <td>6</td>\n",
       "      <td>3.39</td>\n",
       "      <td>36</td>\n",
       "    </tr>\n",
       "  </tbody>\n",
       "</table>\n",
       "</div>"
      ],
      "text/plain": [
       "   Quantity  UnitPrice  Country\n",
       "0         6       2.55       36\n",
       "1         6       3.39       36\n",
       "2         8       2.75       36\n",
       "3         6       3.39       36\n",
       "4         6       3.39       36"
      ]
     },
     "execution_count": 27,
     "metadata": {},
     "output_type": "execute_result"
    }
   ],
   "source": [
    "dummy_df.head()"
   ]
  },
  {
   "cell_type": "code",
   "execution_count": 28,
   "metadata": {},
   "outputs": [
    {
     "data": {
      "text/plain": [
       "(444990, 3)"
      ]
     },
     "execution_count": 28,
     "metadata": {},
     "output_type": "execute_result"
    }
   ],
   "source": [
    "dummy_df.shape"
   ]
  },
  {
   "cell_type": "code",
   "execution_count": 39,
   "metadata": {},
   "outputs": [],
   "source": [
    "features = np.hstack([dummy_df, embedded_pca])"
   ]
  },
  {
   "cell_type": "code",
   "execution_count": 40,
   "metadata": {},
   "outputs": [
    {
     "data": {
      "text/plain": [
       "(444990, 23)"
      ]
     },
     "execution_count": 40,
     "metadata": {},
     "output_type": "execute_result"
    }
   ],
   "source": [
    "features.shape"
   ]
  },
  {
   "cell_type": "code",
   "execution_count": 41,
   "metadata": {},
   "outputs": [
    {
     "data": {
      "text/plain": [
       "array([ 6.        ,  2.55      , 36.        ,  2.44625473, -1.26888585,\n",
       "        2.9021225 , -1.01759648, -1.02824211, -0.35826913,  0.32811242,\n",
       "        0.33394557,  1.06334341,  0.56716418,  0.11135551, -0.28405449,\n",
       "       -0.43938202,  0.9702214 , -1.08495069, -0.17730421, -0.63923335,\n",
       "       -0.10495362,  0.19303323, -1.25579536])"
      ]
     },
     "execution_count": 41,
     "metadata": {},
     "output_type": "execute_result"
    }
   ],
   "source": [
    "features[0]"
   ]
  },
  {
   "cell_type": "code",
   "execution_count": 35,
   "metadata": {},
   "outputs": [],
   "source": [
    "cols = ['Quantity', 'UnitPrice', 'Country']\n",
    "pca_cols = [f'emb{i}' for i in range(embedded_pca.shape[1])]"
   ]
  },
  {
   "cell_type": "code",
   "execution_count": 36,
   "metadata": {},
   "outputs": [
    {
     "data": {
      "text/plain": [
       "['emb0',\n",
       " 'emb1',\n",
       " 'emb2',\n",
       " 'emb3',\n",
       " 'emb4',\n",
       " 'emb5',\n",
       " 'emb6',\n",
       " 'emb7',\n",
       " 'emb8',\n",
       " 'emb9',\n",
       " 'emb10',\n",
       " 'emb11',\n",
       " 'emb12',\n",
       " 'emb13',\n",
       " 'emb14',\n",
       " 'emb15',\n",
       " 'emb16',\n",
       " 'emb17',\n",
       " 'emb18',\n",
       " 'emb19']"
      ]
     },
     "execution_count": 36,
     "metadata": {},
     "output_type": "execute_result"
    }
   ],
   "source": [
    "pca_cols"
   ]
  },
  {
   "cell_type": "code",
   "execution_count": 37,
   "metadata": {},
   "outputs": [],
   "source": [
    "all_cols = cols + pca_cols"
   ]
  },
  {
   "cell_type": "code",
   "execution_count": 38,
   "metadata": {},
   "outputs": [
    {
     "data": {
      "text/plain": [
       "['Quantity',\n",
       " 'UnitPrice',\n",
       " 'Country',\n",
       " 'emb0',\n",
       " 'emb1',\n",
       " 'emb2',\n",
       " 'emb3',\n",
       " 'emb4',\n",
       " 'emb5',\n",
       " 'emb6',\n",
       " 'emb7',\n",
       " 'emb8',\n",
       " 'emb9',\n",
       " 'emb10',\n",
       " 'emb11',\n",
       " 'emb12',\n",
       " 'emb13',\n",
       " 'emb14',\n",
       " 'emb15',\n",
       " 'emb16',\n",
       " 'emb17',\n",
       " 'emb18',\n",
       " 'emb19']"
      ]
     },
     "execution_count": 38,
     "metadata": {},
     "output_type": "execute_result"
    }
   ],
   "source": [
    "all_cols"
   ]
  },
  {
   "cell_type": "code",
   "execution_count": 42,
   "metadata": {},
   "outputs": [],
   "source": [
    "final_df =pd.DataFrame(features, columns= all_cols)"
   ]
  },
  {
   "cell_type": "code",
   "execution_count": 43,
   "metadata": {},
   "outputs": [
    {
     "data": {
      "text/html": [
       "<div>\n",
       "<style scoped>\n",
       "    .dataframe tbody tr th:only-of-type {\n",
       "        vertical-align: middle;\n",
       "    }\n",
       "\n",
       "    .dataframe tbody tr th {\n",
       "        vertical-align: top;\n",
       "    }\n",
       "\n",
       "    .dataframe thead th {\n",
       "        text-align: right;\n",
       "    }\n",
       "</style>\n",
       "<table border=\"1\" class=\"dataframe\">\n",
       "  <thead>\n",
       "    <tr style=\"text-align: right;\">\n",
       "      <th></th>\n",
       "      <th>Quantity</th>\n",
       "      <th>UnitPrice</th>\n",
       "      <th>Country</th>\n",
       "      <th>emb0</th>\n",
       "      <th>emb1</th>\n",
       "      <th>emb2</th>\n",
       "      <th>emb3</th>\n",
       "      <th>emb4</th>\n",
       "      <th>emb5</th>\n",
       "      <th>emb6</th>\n",
       "      <th>...</th>\n",
       "      <th>emb10</th>\n",
       "      <th>emb11</th>\n",
       "      <th>emb12</th>\n",
       "      <th>emb13</th>\n",
       "      <th>emb14</th>\n",
       "      <th>emb15</th>\n",
       "      <th>emb16</th>\n",
       "      <th>emb17</th>\n",
       "      <th>emb18</th>\n",
       "      <th>emb19</th>\n",
       "    </tr>\n",
       "  </thead>\n",
       "  <tbody>\n",
       "    <tr>\n",
       "      <th>0</th>\n",
       "      <td>6.0</td>\n",
       "      <td>2.55</td>\n",
       "      <td>36.0</td>\n",
       "      <td>2.446255</td>\n",
       "      <td>-1.268886</td>\n",
       "      <td>2.902122</td>\n",
       "      <td>-1.017596</td>\n",
       "      <td>-1.028242</td>\n",
       "      <td>-0.358269</td>\n",
       "      <td>0.328112</td>\n",
       "      <td>...</td>\n",
       "      <td>0.111356</td>\n",
       "      <td>-0.284054</td>\n",
       "      <td>-0.439382</td>\n",
       "      <td>0.970221</td>\n",
       "      <td>-1.084951</td>\n",
       "      <td>-0.177304</td>\n",
       "      <td>-0.639233</td>\n",
       "      <td>-0.104954</td>\n",
       "      <td>0.193033</td>\n",
       "      <td>-1.255795</td>\n",
       "    </tr>\n",
       "    <tr>\n",
       "      <th>1</th>\n",
       "      <td>6.0</td>\n",
       "      <td>3.39</td>\n",
       "      <td>36.0</td>\n",
       "      <td>-1.711715</td>\n",
       "      <td>-1.459729</td>\n",
       "      <td>-0.000480</td>\n",
       "      <td>-0.629437</td>\n",
       "      <td>-0.645542</td>\n",
       "      <td>-0.659305</td>\n",
       "      <td>0.647161</td>\n",
       "      <td>...</td>\n",
       "      <td>0.604760</td>\n",
       "      <td>0.847761</td>\n",
       "      <td>-0.476790</td>\n",
       "      <td>0.027666</td>\n",
       "      <td>-0.347168</td>\n",
       "      <td>-0.353656</td>\n",
       "      <td>0.145458</td>\n",
       "      <td>-0.229895</td>\n",
       "      <td>-0.062777</td>\n",
       "      <td>-0.021427</td>\n",
       "    </tr>\n",
       "    <tr>\n",
       "      <th>2</th>\n",
       "      <td>8.0</td>\n",
       "      <td>2.75</td>\n",
       "      <td>36.0</td>\n",
       "      <td>2.191493</td>\n",
       "      <td>-0.679481</td>\n",
       "      <td>1.445967</td>\n",
       "      <td>-1.098439</td>\n",
       "      <td>0.388798</td>\n",
       "      <td>0.647733</td>\n",
       "      <td>-0.711572</td>\n",
       "      <td>...</td>\n",
       "      <td>0.364188</td>\n",
       "      <td>-0.206854</td>\n",
       "      <td>0.665611</td>\n",
       "      <td>0.757856</td>\n",
       "      <td>0.084455</td>\n",
       "      <td>-0.038153</td>\n",
       "      <td>-0.616376</td>\n",
       "      <td>-0.491745</td>\n",
       "      <td>-0.238482</td>\n",
       "      <td>-0.551534</td>\n",
       "    </tr>\n",
       "    <tr>\n",
       "      <th>3</th>\n",
       "      <td>6.0</td>\n",
       "      <td>3.39</td>\n",
       "      <td>36.0</td>\n",
       "      <td>2.693123</td>\n",
       "      <td>-0.126394</td>\n",
       "      <td>-0.224744</td>\n",
       "      <td>-1.083747</td>\n",
       "      <td>0.551736</td>\n",
       "      <td>-1.058309</td>\n",
       "      <td>-0.068043</td>\n",
       "      <td>...</td>\n",
       "      <td>0.249736</td>\n",
       "      <td>-0.731614</td>\n",
       "      <td>0.043028</td>\n",
       "      <td>0.464421</td>\n",
       "      <td>-0.324716</td>\n",
       "      <td>0.071041</td>\n",
       "      <td>-0.761492</td>\n",
       "      <td>0.100827</td>\n",
       "      <td>-0.960503</td>\n",
       "      <td>0.379053</td>\n",
       "    </tr>\n",
       "    <tr>\n",
       "      <th>4</th>\n",
       "      <td>6.0</td>\n",
       "      <td>3.39</td>\n",
       "      <td>36.0</td>\n",
       "      <td>1.918139</td>\n",
       "      <td>1.047459</td>\n",
       "      <td>2.002500</td>\n",
       "      <td>-2.167035</td>\n",
       "      <td>-1.087993</td>\n",
       "      <td>-1.082379</td>\n",
       "      <td>-0.037862</td>\n",
       "      <td>...</td>\n",
       "      <td>-0.260188</td>\n",
       "      <td>0.096340</td>\n",
       "      <td>0.714616</td>\n",
       "      <td>0.437729</td>\n",
       "      <td>-1.081280</td>\n",
       "      <td>1.026494</td>\n",
       "      <td>-0.277326</td>\n",
       "      <td>-1.162508</td>\n",
       "      <td>0.072610</td>\n",
       "      <td>-0.200040</td>\n",
       "    </tr>\n",
       "  </tbody>\n",
       "</table>\n",
       "<p>5 rows × 23 columns</p>\n",
       "</div>"
      ],
      "text/plain": [
       "   Quantity  UnitPrice  Country      emb0      emb1      emb2      emb3  \\\n",
       "0       6.0       2.55     36.0  2.446255 -1.268886  2.902122 -1.017596   \n",
       "1       6.0       3.39     36.0 -1.711715 -1.459729 -0.000480 -0.629437   \n",
       "2       8.0       2.75     36.0  2.191493 -0.679481  1.445967 -1.098439   \n",
       "3       6.0       3.39     36.0  2.693123 -0.126394 -0.224744 -1.083747   \n",
       "4       6.0       3.39     36.0  1.918139  1.047459  2.002500 -2.167035   \n",
       "\n",
       "       emb4      emb5      emb6  ...     emb10     emb11     emb12     emb13  \\\n",
       "0 -1.028242 -0.358269  0.328112  ...  0.111356 -0.284054 -0.439382  0.970221   \n",
       "1 -0.645542 -0.659305  0.647161  ...  0.604760  0.847761 -0.476790  0.027666   \n",
       "2  0.388798  0.647733 -0.711572  ...  0.364188 -0.206854  0.665611  0.757856   \n",
       "3  0.551736 -1.058309 -0.068043  ...  0.249736 -0.731614  0.043028  0.464421   \n",
       "4 -1.087993 -1.082379 -0.037862  ... -0.260188  0.096340  0.714616  0.437729   \n",
       "\n",
       "      emb14     emb15     emb16     emb17     emb18     emb19  \n",
       "0 -1.084951 -0.177304 -0.639233 -0.104954  0.193033 -1.255795  \n",
       "1 -0.347168 -0.353656  0.145458 -0.229895 -0.062777 -0.021427  \n",
       "2  0.084455 -0.038153 -0.616376 -0.491745 -0.238482 -0.551534  \n",
       "3 -0.324716  0.071041 -0.761492  0.100827 -0.960503  0.379053  \n",
       "4 -1.081280  1.026494 -0.277326 -1.162508  0.072610 -0.200040  \n",
       "\n",
       "[5 rows x 23 columns]"
      ]
     },
     "execution_count": 43,
     "metadata": {},
     "output_type": "execute_result"
    }
   ],
   "source": [
    "final_df.head()"
   ]
  },
  {
   "cell_type": "code",
   "execution_count": 47,
   "metadata": {},
   "outputs": [],
   "source": [
    "# Scaling\n",
    "# Bert model output is numeric so it should be scaled\n",
    "numeric_cols = final_df.columns.to_list()"
   ]
  },
  {
   "cell_type": "code",
   "execution_count": 49,
   "metadata": {},
   "outputs": [],
   "source": [
    "numeric_cols.remove('Country')"
   ]
  },
  {
   "cell_type": "code",
   "execution_count": 50,
   "metadata": {},
   "outputs": [
    {
     "data": {
      "text/plain": [
       "['Quantity',\n",
       " 'UnitPrice',\n",
       " 'emb0',\n",
       " 'emb1',\n",
       " 'emb2',\n",
       " 'emb3',\n",
       " 'emb4',\n",
       " 'emb5',\n",
       " 'emb6',\n",
       " 'emb7',\n",
       " 'emb8',\n",
       " 'emb9',\n",
       " 'emb10',\n",
       " 'emb11',\n",
       " 'emb12',\n",
       " 'emb13',\n",
       " 'emb14',\n",
       " 'emb15',\n",
       " 'emb16',\n",
       " 'emb17',\n",
       " 'emb18',\n",
       " 'emb19']"
      ]
     },
     "execution_count": 50,
     "metadata": {},
     "output_type": "execute_result"
    }
   ],
   "source": [
    "numeric_cols"
   ]
  },
  {
   "cell_type": "code",
   "execution_count": 51,
   "metadata": {},
   "outputs": [],
   "source": [
    "categorical_cols = ['Country']"
   ]
  },
  {
   "cell_type": "code",
   "execution_count": 53,
   "metadata": {},
   "outputs": [
    {
     "name": "stdout",
     "output_type": "stream",
     "text": [
      "<class 'pandas.core.frame.DataFrame'>\n",
      "RangeIndex: 444990 entries, 0 to 444989\n",
      "Data columns (total 23 columns):\n",
      " #   Column     Non-Null Count   Dtype  \n",
      "---  ------     --------------   -----  \n",
      " 0   Quantity   444990 non-null  float64\n",
      " 1   UnitPrice  444990 non-null  float64\n",
      " 2   Country    444990 non-null  float64\n",
      " 3   emb0       444990 non-null  float64\n",
      " 4   emb1       444990 non-null  float64\n",
      " 5   emb2       444990 non-null  float64\n",
      " 6   emb3       444990 non-null  float64\n",
      " 7   emb4       444990 non-null  float64\n",
      " 8   emb5       444990 non-null  float64\n",
      " 9   emb6       444990 non-null  float64\n",
      " 10  emb7       444990 non-null  float64\n",
      " 11  emb8       444990 non-null  float64\n",
      " 12  emb9       444990 non-null  float64\n",
      " 13  emb10      444990 non-null  float64\n",
      " 14  emb11      444990 non-null  float64\n",
      " 15  emb12      444990 non-null  float64\n",
      " 16  emb13      444990 non-null  float64\n",
      " 17  emb14      444990 non-null  float64\n",
      " 18  emb15      444990 non-null  float64\n",
      " 19  emb16      444990 non-null  float64\n",
      " 20  emb17      444990 non-null  float64\n",
      " 21  emb18      444990 non-null  float64\n",
      " 22  emb19      444990 non-null  float64\n",
      "dtypes: float64(23)\n",
      "memory usage: 78.1 MB\n"
     ]
    }
   ],
   "source": [
    "final_df.info()"
   ]
  },
  {
   "cell_type": "code",
   "execution_count": 54,
   "metadata": {},
   "outputs": [],
   "source": [
    "from sklearn.preprocessing import StandardScaler\n",
    "\n",
    "scaler = StandardScaler()\n",
    "\n",
    "scaled_data = scaler.fit_transform(final_df[numeric_cols])"
   ]
  },
  {
   "cell_type": "code",
   "execution_count": 57,
   "metadata": {},
   "outputs": [
    {
     "data": {
      "text/plain": [
       "array([ 0.24272483, -0.11862311,  1.71280969, -1.06700755,  2.89169766,\n",
       "       -1.05542581, -1.12850387, -0.41920934,  0.4083983 ,  0.44041187,\n",
       "        1.43850097,  0.80693322,  0.16606525, -0.42886681, -0.69067936,\n",
       "        1.61031307, -1.84191682, -0.30563838, -1.12374179, -0.18997978,\n",
       "        0.35185478, -2.35155316])"
      ]
     },
     "execution_count": 57,
     "metadata": {},
     "output_type": "execute_result"
    }
   ],
   "source": [
    "scaled_data[0]"
   ]
  },
  {
   "cell_type": "code",
   "execution_count": 58,
   "metadata": {},
   "outputs": [],
   "source": [
    "df_tosave = pd.DataFrame(scaled_data, columns= numeric_cols)"
   ]
  },
  {
   "cell_type": "code",
   "execution_count": 59,
   "metadata": {},
   "outputs": [
    {
     "data": {
      "text/plain": [
       "0         36.0\n",
       "1         36.0\n",
       "2         36.0\n",
       "3         36.0\n",
       "4         36.0\n",
       "          ... \n",
       "444985    13.0\n",
       "444986    13.0\n",
       "444987    13.0\n",
       "444988    13.0\n",
       "444989    13.0\n",
       "Name: Country, Length: 444990, dtype: float64"
      ]
     },
     "execution_count": 59,
     "metadata": {},
     "output_type": "execute_result"
    }
   ],
   "source": [
    "final_df['Country']"
   ]
  },
  {
   "cell_type": "code",
   "execution_count": 60,
   "metadata": {},
   "outputs": [],
   "source": [
    "df_tosave['Country'] = final_df['Country']"
   ]
  },
  {
   "cell_type": "code",
   "execution_count": 61,
   "metadata": {},
   "outputs": [
    {
     "data": {
      "text/html": [
       "<div>\n",
       "<style scoped>\n",
       "    .dataframe tbody tr th:only-of-type {\n",
       "        vertical-align: middle;\n",
       "    }\n",
       "\n",
       "    .dataframe tbody tr th {\n",
       "        vertical-align: top;\n",
       "    }\n",
       "\n",
       "    .dataframe thead th {\n",
       "        text-align: right;\n",
       "    }\n",
       "</style>\n",
       "<table border=\"1\" class=\"dataframe\">\n",
       "  <thead>\n",
       "    <tr style=\"text-align: right;\">\n",
       "      <th></th>\n",
       "      <th>Quantity</th>\n",
       "      <th>UnitPrice</th>\n",
       "      <th>emb0</th>\n",
       "      <th>emb1</th>\n",
       "      <th>emb2</th>\n",
       "      <th>emb3</th>\n",
       "      <th>emb4</th>\n",
       "      <th>emb5</th>\n",
       "      <th>emb6</th>\n",
       "      <th>emb7</th>\n",
       "      <th>...</th>\n",
       "      <th>emb11</th>\n",
       "      <th>emb12</th>\n",
       "      <th>emb13</th>\n",
       "      <th>emb14</th>\n",
       "      <th>emb15</th>\n",
       "      <th>emb16</th>\n",
       "      <th>emb17</th>\n",
       "      <th>emb18</th>\n",
       "      <th>emb19</th>\n",
       "      <th>Country</th>\n",
       "    </tr>\n",
       "  </thead>\n",
       "  <tbody>\n",
       "    <tr>\n",
       "      <th>0</th>\n",
       "      <td>0.242725</td>\n",
       "      <td>-0.118623</td>\n",
       "      <td>1.712810</td>\n",
       "      <td>-1.067008</td>\n",
       "      <td>2.891698</td>\n",
       "      <td>-1.055426</td>\n",
       "      <td>-1.128504</td>\n",
       "      <td>-0.419209</td>\n",
       "      <td>0.408398</td>\n",
       "      <td>0.440412</td>\n",
       "      <td>...</td>\n",
       "      <td>-0.428867</td>\n",
       "      <td>-0.690679</td>\n",
       "      <td>1.610313</td>\n",
       "      <td>-1.841917</td>\n",
       "      <td>-0.305638</td>\n",
       "      <td>-1.123742</td>\n",
       "      <td>-0.189980</td>\n",
       "      <td>0.351855</td>\n",
       "      <td>-2.351553</td>\n",
       "      <td>36.0</td>\n",
       "    </tr>\n",
       "    <tr>\n",
       "      <th>1</th>\n",
       "      <td>0.242725</td>\n",
       "      <td>0.292864</td>\n",
       "      <td>-1.198519</td>\n",
       "      <td>-1.227486</td>\n",
       "      <td>-0.000488</td>\n",
       "      <td>-0.652827</td>\n",
       "      <td>-0.708485</td>\n",
       "      <td>-0.771444</td>\n",
       "      <td>0.805523</td>\n",
       "      <td>0.032484</td>\n",
       "      <td>...</td>\n",
       "      <td>1.279992</td>\n",
       "      <td>-0.749484</td>\n",
       "      <td>0.045945</td>\n",
       "      <td>-0.589374</td>\n",
       "      <td>-0.609605</td>\n",
       "      <td>0.255710</td>\n",
       "      <td>-0.416097</td>\n",
       "      <td>-0.114442</td>\n",
       "      <td>-0.040132</td>\n",
       "      <td>36.0</td>\n",
       "    </tr>\n",
       "    <tr>\n",
       "      <th>2</th>\n",
       "      <td>0.688081</td>\n",
       "      <td>-0.020650</td>\n",
       "      <td>1.534431</td>\n",
       "      <td>-0.571380</td>\n",
       "      <td>1.440769</td>\n",
       "      <td>-1.139276</td>\n",
       "      <td>0.426717</td>\n",
       "      <td>0.757892</td>\n",
       "      <td>-0.885712</td>\n",
       "      <td>0.162420</td>\n",
       "      <td>...</td>\n",
       "      <td>-0.312307</td>\n",
       "      <td>1.046334</td>\n",
       "      <td>1.257849</td>\n",
       "      <td>0.143399</td>\n",
       "      <td>-0.065791</td>\n",
       "      <td>-1.083560</td>\n",
       "      <td>-0.889989</td>\n",
       "      <td>-0.434721</td>\n",
       "      <td>-1.032786</td>\n",
       "      <td>36.0</td>\n",
       "    </tr>\n",
       "    <tr>\n",
       "      <th>3</th>\n",
       "      <td>0.242725</td>\n",
       "      <td>0.292864</td>\n",
       "      <td>1.885662</td>\n",
       "      <td>-0.106293</td>\n",
       "      <td>-0.223947</td>\n",
       "      <td>-1.124037</td>\n",
       "      <td>0.605544</td>\n",
       "      <td>-1.238311</td>\n",
       "      <td>-0.084702</td>\n",
       "      <td>1.891655</td>\n",
       "      <td>...</td>\n",
       "      <td>-1.104609</td>\n",
       "      <td>0.067654</td>\n",
       "      <td>0.770832</td>\n",
       "      <td>-0.551257</td>\n",
       "      <td>0.122419</td>\n",
       "      <td>-1.338668</td>\n",
       "      <td>0.182438</td>\n",
       "      <td>-1.750836</td>\n",
       "      <td>0.709788</td>\n",
       "      <td>36.0</td>\n",
       "    </tr>\n",
       "    <tr>\n",
       "      <th>4</th>\n",
       "      <td>0.242725</td>\n",
       "      <td>0.292864</td>\n",
       "      <td>1.343033</td>\n",
       "      <td>0.880794</td>\n",
       "      <td>1.995304</td>\n",
       "      <td>-2.247623</td>\n",
       "      <td>-1.194081</td>\n",
       "      <td>-1.266475</td>\n",
       "      <td>-0.047135</td>\n",
       "      <td>0.325198</td>\n",
       "      <td>...</td>\n",
       "      <td>0.145468</td>\n",
       "      <td>1.123368</td>\n",
       "      <td>0.726530</td>\n",
       "      <td>-1.835686</td>\n",
       "      <td>1.769276</td>\n",
       "      <td>-0.487526</td>\n",
       "      <td>-2.103928</td>\n",
       "      <td>0.132345</td>\n",
       "      <td>-0.374595</td>\n",
       "      <td>36.0</td>\n",
       "    </tr>\n",
       "    <tr>\n",
       "      <th>5</th>\n",
       "      <td>-0.647988</td>\n",
       "      <td>2.379692</td>\n",
       "      <td>0.186485</td>\n",
       "      <td>0.477215</td>\n",
       "      <td>-1.387327</td>\n",
       "      <td>-0.242445</td>\n",
       "      <td>-0.895240</td>\n",
       "      <td>1.500597</td>\n",
       "      <td>0.769940</td>\n",
       "      <td>-0.375102</td>\n",
       "      <td>...</td>\n",
       "      <td>-0.490340</td>\n",
       "      <td>-0.322395</td>\n",
       "      <td>-0.153238</td>\n",
       "      <td>0.247256</td>\n",
       "      <td>-0.065661</td>\n",
       "      <td>0.168769</td>\n",
       "      <td>-1.128352</td>\n",
       "      <td>1.706881</td>\n",
       "      <td>1.062559</td>\n",
       "      <td>36.0</td>\n",
       "    </tr>\n",
       "    <tr>\n",
       "      <th>6</th>\n",
       "      <td>0.242725</td>\n",
       "      <td>0.714149</td>\n",
       "      <td>2.132220</td>\n",
       "      <td>-0.919169</td>\n",
       "      <td>1.136328</td>\n",
       "      <td>-0.451290</td>\n",
       "      <td>-0.727663</td>\n",
       "      <td>-1.126170</td>\n",
       "      <td>0.219682</td>\n",
       "      <td>-0.317141</td>\n",
       "      <td>...</td>\n",
       "      <td>-0.252433</td>\n",
       "      <td>-1.236270</td>\n",
       "      <td>2.170033</td>\n",
       "      <td>-0.859691</td>\n",
       "      <td>-1.087482</td>\n",
       "      <td>-0.569920</td>\n",
       "      <td>-0.030914</td>\n",
       "      <td>0.566545</td>\n",
       "      <td>-1.630281</td>\n",
       "      <td>36.0</td>\n",
       "    </tr>\n",
       "    <tr>\n",
       "      <th>7</th>\n",
       "      <td>0.242725</td>\n",
       "      <td>-0.461529</td>\n",
       "      <td>-0.812353</td>\n",
       "      <td>-0.667874</td>\n",
       "      <td>0.244909</td>\n",
       "      <td>0.303006</td>\n",
       "      <td>-0.586969</td>\n",
       "      <td>-0.915503</td>\n",
       "      <td>0.379603</td>\n",
       "      <td>-0.975250</td>\n",
       "      <td>...</td>\n",
       "      <td>-1.212506</td>\n",
       "      <td>1.586158</td>\n",
       "      <td>0.581970</td>\n",
       "      <td>-0.953412</td>\n",
       "      <td>-0.330302</td>\n",
       "      <td>-0.784985</td>\n",
       "      <td>1.889364</td>\n",
       "      <td>-0.289768</td>\n",
       "      <td>0.981482</td>\n",
       "      <td>36.0</td>\n",
       "    </tr>\n",
       "    <tr>\n",
       "      <th>8</th>\n",
       "      <td>0.242725</td>\n",
       "      <td>-0.461529</td>\n",
       "      <td>0.235456</td>\n",
       "      <td>-0.413604</td>\n",
       "      <td>1.816073</td>\n",
       "      <td>-0.080790</td>\n",
       "      <td>-0.746808</td>\n",
       "      <td>-0.417670</td>\n",
       "      <td>1.068172</td>\n",
       "      <td>0.169493</td>\n",
       "      <td>...</td>\n",
       "      <td>-0.808625</td>\n",
       "      <td>0.946225</td>\n",
       "      <td>-1.169244</td>\n",
       "      <td>-1.023302</td>\n",
       "      <td>-0.063290</td>\n",
       "      <td>0.298043</td>\n",
       "      <td>2.916536</td>\n",
       "      <td>0.306784</td>\n",
       "      <td>0.035101</td>\n",
       "      <td>36.0</td>\n",
       "    </tr>\n",
       "    <tr>\n",
       "      <th>9</th>\n",
       "      <td>0.242725</td>\n",
       "      <td>-0.339063</td>\n",
       "      <td>-0.260821</td>\n",
       "      <td>0.610700</td>\n",
       "      <td>-1.011710</td>\n",
       "      <td>-0.907832</td>\n",
       "      <td>1.137559</td>\n",
       "      <td>-1.468032</td>\n",
       "      <td>-0.418001</td>\n",
       "      <td>-0.204932</td>\n",
       "      <td>...</td>\n",
       "      <td>0.621028</td>\n",
       "      <td>-2.378349</td>\n",
       "      <td>-1.797456</td>\n",
       "      <td>-2.561571</td>\n",
       "      <td>2.541256</td>\n",
       "      <td>-1.393126</td>\n",
       "      <td>-0.638115</td>\n",
       "      <td>0.590511</td>\n",
       "      <td>-1.895433</td>\n",
       "      <td>36.0</td>\n",
       "    </tr>\n",
       "  </tbody>\n",
       "</table>\n",
       "<p>10 rows × 23 columns</p>\n",
       "</div>"
      ],
      "text/plain": [
       "   Quantity  UnitPrice      emb0      emb1      emb2      emb3      emb4  \\\n",
       "0  0.242725  -0.118623  1.712810 -1.067008  2.891698 -1.055426 -1.128504   \n",
       "1  0.242725   0.292864 -1.198519 -1.227486 -0.000488 -0.652827 -0.708485   \n",
       "2  0.688081  -0.020650  1.534431 -0.571380  1.440769 -1.139276  0.426717   \n",
       "3  0.242725   0.292864  1.885662 -0.106293 -0.223947 -1.124037  0.605544   \n",
       "4  0.242725   0.292864  1.343033  0.880794  1.995304 -2.247623 -1.194081   \n",
       "5 -0.647988   2.379692  0.186485  0.477215 -1.387327 -0.242445 -0.895240   \n",
       "6  0.242725   0.714149  2.132220 -0.919169  1.136328 -0.451290 -0.727663   \n",
       "7  0.242725  -0.461529 -0.812353 -0.667874  0.244909  0.303006 -0.586969   \n",
       "8  0.242725  -0.461529  0.235456 -0.413604  1.816073 -0.080790 -0.746808   \n",
       "9  0.242725  -0.339063 -0.260821  0.610700 -1.011710 -0.907832  1.137559   \n",
       "\n",
       "       emb5      emb6      emb7  ...     emb11     emb12     emb13     emb14  \\\n",
       "0 -0.419209  0.408398  0.440412  ... -0.428867 -0.690679  1.610313 -1.841917   \n",
       "1 -0.771444  0.805523  0.032484  ...  1.279992 -0.749484  0.045945 -0.589374   \n",
       "2  0.757892 -0.885712  0.162420  ... -0.312307  1.046334  1.257849  0.143399   \n",
       "3 -1.238311 -0.084702  1.891655  ... -1.104609  0.067654  0.770832 -0.551257   \n",
       "4 -1.266475 -0.047135  0.325198  ...  0.145468  1.123368  0.726530 -1.835686   \n",
       "5  1.500597  0.769940 -0.375102  ... -0.490340 -0.322395 -0.153238  0.247256   \n",
       "6 -1.126170  0.219682 -0.317141  ... -0.252433 -1.236270  2.170033 -0.859691   \n",
       "7 -0.915503  0.379603 -0.975250  ... -1.212506  1.586158  0.581970 -0.953412   \n",
       "8 -0.417670  1.068172  0.169493  ... -0.808625  0.946225 -1.169244 -1.023302   \n",
       "9 -1.468032 -0.418001 -0.204932  ...  0.621028 -2.378349 -1.797456 -2.561571   \n",
       "\n",
       "      emb15     emb16     emb17     emb18     emb19  Country  \n",
       "0 -0.305638 -1.123742 -0.189980  0.351855 -2.351553     36.0  \n",
       "1 -0.609605  0.255710 -0.416097 -0.114442 -0.040132     36.0  \n",
       "2 -0.065791 -1.083560 -0.889989 -0.434721 -1.032786     36.0  \n",
       "3  0.122419 -1.338668  0.182438 -1.750836  0.709788     36.0  \n",
       "4  1.769276 -0.487526 -2.103928  0.132345 -0.374595     36.0  \n",
       "5 -0.065661  0.168769 -1.128352  1.706881  1.062559     36.0  \n",
       "6 -1.087482 -0.569920 -0.030914  0.566545 -1.630281     36.0  \n",
       "7 -0.330302 -0.784985  1.889364 -0.289768  0.981482     36.0  \n",
       "8 -0.063290  0.298043  2.916536  0.306784  0.035101     36.0  \n",
       "9  2.541256 -1.393126 -0.638115  0.590511 -1.895433     36.0  \n",
       "\n",
       "[10 rows x 23 columns]"
      ]
     },
     "execution_count": 61,
     "metadata": {},
     "output_type": "execute_result"
    }
   ],
   "source": [
    "df_tosave.head(10)"
   ]
  },
  {
   "cell_type": "code",
   "execution_count": 62,
   "metadata": {},
   "outputs": [],
   "source": [
    "df_tosave.to_csv('Data/Scaled_Data.csv', index= False)"
   ]
  },
  {
   "cell_type": "code",
   "execution_count": 65,
   "metadata": {},
   "outputs": [],
   "source": [
    "# Saving scaler and encoder\n",
    "import pickle\n",
    "\n",
    "with open('Data/Scaler.pkl', 'wb') as f:\n",
    "    pickle.dump(scaler, f)\n",
    "\n",
    "with open('Data/encoder.pkl', 'wb') as f:\n",
    "    pickle.dump(le, f)\n",
    "\n",
    "with open('Data/pca.pkl', 'wb') as f:\n",
    "    pickle.dump(pca, f)"
   ]
  },
  {
   "cell_type": "code",
   "execution_count": null,
   "metadata": {},
   "outputs": [],
   "source": []
  }
 ],
 "metadata": {
  "kernelspec": {
   "display_name": "Ai",
   "language": "python",
   "name": "python3"
  },
  "language_info": {
   "codemirror_mode": {
    "name": "ipython",
    "version": 3
   },
   "file_extension": ".py",
   "mimetype": "text/x-python",
   "name": "python",
   "nbconvert_exporter": "python",
   "pygments_lexer": "ipython3",
   "version": "3.10.13"
  }
 },
 "nbformat": 4,
 "nbformat_minor": 2
}
